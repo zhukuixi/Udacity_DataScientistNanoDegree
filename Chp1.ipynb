{
  "nbformat": 4,
  "nbformat_minor": 0,
  "metadata": {
    "colab": {
      "provenance": [],
      "authorship_tag": "ABX9TyOHkueW3vZHpPnx7nxsg20L",
      "include_colab_link": true
    },
    "kernelspec": {
      "name": "python3",
      "display_name": "Python 3"
    },
    "language_info": {
      "name": "python"
    }
  },
  "cells": [
    {
      "cell_type": "markdown",
      "metadata": {
        "id": "view-in-github",
        "colab_type": "text"
      },
      "source": [
        "<a href=\"https://colab.research.google.com/github/zhukuixi/Udacity_DataScientistNanoDegree/blob/main/Chp1.ipynb\" target=\"_parent\"><img src=\"https://colab.research.google.com/assets/colab-badge.svg\" alt=\"Open In Colab\"/></a>"
      ]
    },
    {
      "cell_type": "code",
      "execution_count": 7,
      "metadata": {
        "colab": {
          "base_uri": "https://localhost:8080/"
        },
        "id": "ONI_R-A9QKoW",
        "outputId": "6226b280-57bb-4ff3-a84e-cf5d47344c2b"
      },
      "outputs": [
        {
          "output_type": "stream",
          "name": "stderr",
          "text": [
            "<ipython-input-7-991c9eeb8a95>:4: FutureWarning: The error_bad_lines argument has been deprecated and will be removed in a future version. Use on_bad_lines in the future.\n",
            "\n",
            "\n",
            "  df = pd.read_csv(\"https://github.com/zhukuixi/Udacity_DataScientistNanoDegree/blob/main/Chp1_IntroToDataScience/survey-results-public.csv\",quotechar='\"',error_bad_lines=False)\n",
            "b'Skipping line 27: expected 1 fields, saw 367\\nSkipping line 90: expected 1 fields, saw 3\\nSkipping line 135: expected 1 fields, saw 5\\nSkipping line 198: expected 1 fields, saw 3\\nSkipping line 207: expected 1 fields, saw 6\\nSkipping line 239: expected 1 fields, saw 4\\nSkipping line 252: expected 1 fields, saw 4\\nSkipping line 265: expected 1 fields, saw 4\\nSkipping line 278: expected 1 fields, saw 4\\nSkipping line 291: expected 1 fields, saw 4\\nSkipping line 304: expected 1 fields, saw 4\\nSkipping line 317: expected 1 fields, saw 4\\nSkipping line 330: expected 1 fields, saw 4\\nSkipping line 347: expected 1 fields, saw 4\\nSkipping line 354: expected 1 fields, saw 4\\nSkipping line 363: expected 1 fields, saw 4\\nSkipping line 372: expected 1 fields, saw 4\\nSkipping line 397: expected 1 fields, saw 4\\nSkipping line 404: expected 1 fields, saw 4\\nSkipping line 411: expected 1 fields, saw 4\\nSkipping line 418: expected 1 fields, saw 4\\nSkipping line 431: expected 1 fields, saw 4\\nSkipping line 438: expected 1 fields, saw 4\\nSkipping line 447: expected 1 fields, saw 4\\nSkipping line 460: expected 1 fields, saw 4\\nSkipping line 467: expected 1 fields, saw 4\\nSkipping line 491: expected 1 fields, saw 4\\nSkipping line 505: expected 1 fields, saw 4\\nSkipping line 520: expected 1 fields, saw 4\\nSkipping line 527: expected 1 fields, saw 4\\nSkipping line 534: expected 1 fields, saw 4\\nSkipping line 546: expected 1 fields, saw 3\\nSkipping line 565: expected 1 fields, saw 2\\nSkipping line 764: expected 1 fields, saw 6\\nSkipping line 765: expected 1 fields, saw 3\\nSkipping line 772: expected 1 fields, saw 6\\nSkipping line 773: expected 1 fields, saw 3\\nSkipping line 878: expected 1 fields, saw 6\\nSkipping line 884: expected 1 fields, saw 6\\nSkipping line 893: expected 1 fields, saw 6\\nSkipping line 919: expected 1 fields, saw 4\\nSkipping line 931: expected 1 fields, saw 4\\nSkipping line 943: expected 1 fields, saw 4\\nSkipping line 955: expected 1 fields, saw 4\\nSkipping line 967: expected 1 fields, saw 4\\nSkipping line 979: expected 1 fields, saw 4\\nSkipping line 990: expected 1 fields, saw 4\\nSkipping line 1076: expected 1 fields, saw 5\\nSkipping line 1246: expected 1 fields, saw 2\\nSkipping line 1271: expected 1 fields, saw 7\\nSkipping line 1311: expected 1 fields, saw 2\\nSkipping line 1378: expected 1 fields, saw 6\\nSkipping line 1388: expected 1 fields, saw 2\\nSkipping line 1413: expected 1 fields, saw 2\\nSkipping line 1460: expected 1 fields, saw 2\\nSkipping line 1468: expected 1 fields, saw 3\\nSkipping line 1469: expected 1 fields, saw 3\\nSkipping line 1470: expected 1 fields, saw 3\\nSkipping line 1471: expected 1 fields, saw 3\\nSkipping line 1472: expected 1 fields, saw 3\\nSkipping line 1473: expected 1 fields, saw 3\\nSkipping line 1474: expected 1 fields, saw 3\\nSkipping line 1475: expected 1 fields, saw 3\\nSkipping line 1476: expected 1 fields, saw 3\\nSkipping line 1477: expected 1 fields, saw 3\\nSkipping line 1478: expected 1 fields, saw 3\\n'\n"
          ]
        }
      ],
      "source": [
        "import pandas as pd\n",
        "from matplotlib import pyplot as plt\n",
        "\n",
        "df = pd.read_csv(\"https://github.com/zhukuixi/Udacity_DataScientistNanoDegree/blob/main/Chp1_IntroToDataScience/survey-results-public.csv\",quotechar='\"',error_bad_lines=False)\n"
      ]
    },
    {
      "cell_type": "code",
      "source": [],
      "metadata": {
        "colab": {
          "base_uri": "https://localhost:8080/"
        },
        "id": "bv0SCbG1Q99F",
        "outputId": "4e7f567e-63fa-495a-d79f-3229a0008f47"
      },
      "execution_count": 8,
      "outputs": [
        {
          "output_type": "execute_result",
          "data": {
            "text/plain": [
              "(1054, 1)"
            ]
          },
          "metadata": {},
          "execution_count": 8
        }
      ]
    },
    {
      "cell_type": "code",
      "source": [],
      "metadata": {
        "colab": {
          "base_uri": "https://localhost:8080/",
          "height": 424
        },
        "id": "YAwqTN9hRoaz",
        "outputId": "96f4bcb9-4555-4dfb-eb9c-c3b9e1cf7c79"
      },
      "execution_count": 9,
      "outputs": [
        {
          "output_type": "execute_result",
          "data": {
            "text/plain": [
              "                                        <!DOCTYPE html>\n",
              "0     <html lang=\"en\" data-color-mode=\"auto\" data-li...\n",
              "1                                                <head>\n",
              "2                                <meta charset=\"utf-8\">\n",
              "3       <link rel=\"dns-prefetch\" href=\"https://githu...\n",
              "4       <link rel=\"dns-prefetch\" href=\"https://avata...\n",
              "...                                                 ...\n",
              "1049                                        </template>\n",
              "1050                                             </div>\n",
              "1051      <div id=\"js-global-screen-reader-notice\" c...\n",
              "1052                                            </body>\n",
              "1053                                            </html>\n",
              "\n",
              "[1054 rows x 1 columns]"
            ],
            "text/html": [
              "\n",
              "  <div id=\"df-0e7ea4ca-6e3b-4ab8-9723-4c10055f3b36\">\n",
              "    <div class=\"colab-df-container\">\n",
              "      <div>\n",
              "<style scoped>\n",
              "    .dataframe tbody tr th:only-of-type {\n",
              "        vertical-align: middle;\n",
              "    }\n",
              "\n",
              "    .dataframe tbody tr th {\n",
              "        vertical-align: top;\n",
              "    }\n",
              "\n",
              "    .dataframe thead th {\n",
              "        text-align: right;\n",
              "    }\n",
              "</style>\n",
              "<table border=\"1\" class=\"dataframe\">\n",
              "  <thead>\n",
              "    <tr style=\"text-align: right;\">\n",
              "      <th></th>\n",
              "      <th>&lt;!DOCTYPE html&gt;</th>\n",
              "    </tr>\n",
              "  </thead>\n",
              "  <tbody>\n",
              "    <tr>\n",
              "      <th>0</th>\n",
              "      <td>&lt;html lang=\"en\" data-color-mode=\"auto\" data-li...</td>\n",
              "    </tr>\n",
              "    <tr>\n",
              "      <th>1</th>\n",
              "      <td>&lt;head&gt;</td>\n",
              "    </tr>\n",
              "    <tr>\n",
              "      <th>2</th>\n",
              "      <td>&lt;meta charset=\"utf-8\"&gt;</td>\n",
              "    </tr>\n",
              "    <tr>\n",
              "      <th>3</th>\n",
              "      <td>&lt;link rel=\"dns-prefetch\" href=\"https://githu...</td>\n",
              "    </tr>\n",
              "    <tr>\n",
              "      <th>4</th>\n",
              "      <td>&lt;link rel=\"dns-prefetch\" href=\"https://avata...</td>\n",
              "    </tr>\n",
              "    <tr>\n",
              "      <th>...</th>\n",
              "      <td>...</td>\n",
              "    </tr>\n",
              "    <tr>\n",
              "      <th>1049</th>\n",
              "      <td>&lt;/template&gt;</td>\n",
              "    </tr>\n",
              "    <tr>\n",
              "      <th>1050</th>\n",
              "      <td>&lt;/div&gt;</td>\n",
              "    </tr>\n",
              "    <tr>\n",
              "      <th>1051</th>\n",
              "      <td>&lt;div id=\"js-global-screen-reader-notice\" c...</td>\n",
              "    </tr>\n",
              "    <tr>\n",
              "      <th>1052</th>\n",
              "      <td>&lt;/body&gt;</td>\n",
              "    </tr>\n",
              "    <tr>\n",
              "      <th>1053</th>\n",
              "      <td>&lt;/html&gt;</td>\n",
              "    </tr>\n",
              "  </tbody>\n",
              "</table>\n",
              "<p>1054 rows × 1 columns</p>\n",
              "</div>\n",
              "      <button class=\"colab-df-convert\" onclick=\"convertToInteractive('df-0e7ea4ca-6e3b-4ab8-9723-4c10055f3b36')\"\n",
              "              title=\"Convert this dataframe to an interactive table.\"\n",
              "              style=\"display:none;\">\n",
              "        \n",
              "  <svg xmlns=\"http://www.w3.org/2000/svg\" height=\"24px\"viewBox=\"0 0 24 24\"\n",
              "       width=\"24px\">\n",
              "    <path d=\"M0 0h24v24H0V0z\" fill=\"none\"/>\n",
              "    <path d=\"M18.56 5.44l.94 2.06.94-2.06 2.06-.94-2.06-.94-.94-2.06-.94 2.06-2.06.94zm-11 1L8.5 8.5l.94-2.06 2.06-.94-2.06-.94L8.5 2.5l-.94 2.06-2.06.94zm10 10l.94 2.06.94-2.06 2.06-.94-2.06-.94-.94-2.06-.94 2.06-2.06.94z\"/><path d=\"M17.41 7.96l-1.37-1.37c-.4-.4-.92-.59-1.43-.59-.52 0-1.04.2-1.43.59L10.3 9.45l-7.72 7.72c-.78.78-.78 2.05 0 2.83L4 21.41c.39.39.9.59 1.41.59.51 0 1.02-.2 1.41-.59l7.78-7.78 2.81-2.81c.8-.78.8-2.07 0-2.86zM5.41 20L4 18.59l7.72-7.72 1.47 1.35L5.41 20z\"/>\n",
              "  </svg>\n",
              "      </button>\n",
              "      \n",
              "  <style>\n",
              "    .colab-df-container {\n",
              "      display:flex;\n",
              "      flex-wrap:wrap;\n",
              "      gap: 12px;\n",
              "    }\n",
              "\n",
              "    .colab-df-convert {\n",
              "      background-color: #E8F0FE;\n",
              "      border: none;\n",
              "      border-radius: 50%;\n",
              "      cursor: pointer;\n",
              "      display: none;\n",
              "      fill: #1967D2;\n",
              "      height: 32px;\n",
              "      padding: 0 0 0 0;\n",
              "      width: 32px;\n",
              "    }\n",
              "\n",
              "    .colab-df-convert:hover {\n",
              "      background-color: #E2EBFA;\n",
              "      box-shadow: 0px 1px 2px rgba(60, 64, 67, 0.3), 0px 1px 3px 1px rgba(60, 64, 67, 0.15);\n",
              "      fill: #174EA6;\n",
              "    }\n",
              "\n",
              "    [theme=dark] .colab-df-convert {\n",
              "      background-color: #3B4455;\n",
              "      fill: #D2E3FC;\n",
              "    }\n",
              "\n",
              "    [theme=dark] .colab-df-convert:hover {\n",
              "      background-color: #434B5C;\n",
              "      box-shadow: 0px 1px 3px 1px rgba(0, 0, 0, 0.15);\n",
              "      filter: drop-shadow(0px 1px 2px rgba(0, 0, 0, 0.3));\n",
              "      fill: #FFFFFF;\n",
              "    }\n",
              "  </style>\n",
              "\n",
              "      <script>\n",
              "        const buttonEl =\n",
              "          document.querySelector('#df-0e7ea4ca-6e3b-4ab8-9723-4c10055f3b36 button.colab-df-convert');\n",
              "        buttonEl.style.display =\n",
              "          google.colab.kernel.accessAllowed ? 'block' : 'none';\n",
              "\n",
              "        async function convertToInteractive(key) {\n",
              "          const element = document.querySelector('#df-0e7ea4ca-6e3b-4ab8-9723-4c10055f3b36');\n",
              "          const dataTable =\n",
              "            await google.colab.kernel.invokeFunction('convertToInteractive',\n",
              "                                                     [key], {});\n",
              "          if (!dataTable) return;\n",
              "\n",
              "          const docLinkHtml = 'Like what you see? Visit the ' +\n",
              "            '<a target=\"_blank\" href=https://colab.research.google.com/notebooks/data_table.ipynb>data table notebook</a>'\n",
              "            + ' to learn more about interactive tables.';\n",
              "          element.innerHTML = '';\n",
              "          dataTable['output_type'] = 'display_data';\n",
              "          await google.colab.output.renderOutput(dataTable, element);\n",
              "          const docLink = document.createElement('div');\n",
              "          docLink.innerHTML = docLinkHtml;\n",
              "          element.appendChild(docLink);\n",
              "        }\n",
              "      </script>\n",
              "    </div>\n",
              "  </div>\n",
              "  "
            ]
          },
          "metadata": {},
          "execution_count": 9
        }
      ]
    },
    {
      "cell_type": "code",
      "source": [],
      "metadata": {
        "id": "Rsbw6Q7QRqIq"
      },
      "execution_count": null,
      "outputs": []
    }
  ]
}