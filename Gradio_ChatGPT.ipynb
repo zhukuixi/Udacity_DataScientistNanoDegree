{
  "nbformat": 4,
  "nbformat_minor": 0,
  "metadata": {
    "colab": {
      "provenance": [],
      "authorship_tag": "ABX9TyNu5sxQoFtiPNlwbbB2HbEA",
      "include_colab_link": true
    },
    "kernelspec": {
      "name": "python3",
      "display_name": "Python 3"
    },
    "language_info": {
      "name": "python"
    }
  },
  "cells": [
    {
      "cell_type": "markdown",
      "metadata": {
        "id": "view-in-github",
        "colab_type": "text"
      },
      "source": [
        "<a href=\"https://colab.research.google.com/github/zhukuixi/Udacity_DataScientistNanoDegree/blob/main/Gradio_ChatGPT.ipynb\" target=\"_parent\"><img src=\"https://colab.research.google.com/assets/colab-badge.svg\" alt=\"Open In Colab\"/></a>"
      ]
    },
    {
      "cell_type": "code",
      "execution_count": 11,
      "metadata": {
        "colab": {
          "base_uri": "https://localhost:8080/",
          "height": 630
        },
        "id": "TqnoSCj6gpkt",
        "outputId": "ddbc3641-a49e-4437-cd0e-8e1ede8219df"
      },
      "outputs": [
        {
          "output_type": "stream",
          "name": "stdout",
          "text": [
            "Setting queue=True in a Colab notebook requires sharing enabled. Setting `share=True` (you can turn this off by setting `share=False` in `launch()` explicitly).\n",
            "\n",
            "Colab notebook detected. To show errors in colab notebook, set debug=True in launch()\n",
            "Running on public URL: https://a06a429c498b0c6886.gradio.live\n",
            "\n",
            "This share link expires in 72 hours. For free permanent hosting and GPU upgrades, run `gradio deploy` from Terminal to deploy to Spaces (https://huggingface.co/spaces)\n"
          ]
        },
        {
          "output_type": "display_data",
          "data": {
            "text/plain": [
              "<IPython.core.display.HTML object>"
            ],
            "text/html": [
              "<div><iframe src=\"https://a06a429c498b0c6886.gradio.live\" width=\"100%\" height=\"500\" allow=\"autoplay; camera; microphone; clipboard-read; clipboard-write;\" frameborder=\"0\" allowfullscreen></iframe></div>"
            ]
          },
          "metadata": {}
        },
        {
          "output_type": "execute_result",
          "data": {
            "text/plain": []
          },
          "metadata": {},
          "execution_count": 11
        }
      ],
      "source": [
        "#app.py\n",
        "import gradio as gr\n",
        "import openai\n",
        "import requests\n",
        "\n",
        "def chat_with_gpt(api_key,user_message,history):\n",
        "  \"\"\"\n",
        "  Chat function to interact with ChatGPT using OpenAI's API\n",
        "\n",
        "  Parameters:\n",
        "  - api_key (str): The API key for OpenAI\n",
        "  - user_message (str): The user's input text.\n",
        "  - history (list): List of previous message exchanges in the session.\n",
        "\n",
        "  Returns:\n",
        "  - tuple: Updated session history and the response from ChatGPT.\n",
        "\n",
        "\n",
        "  \"\"\"\n",
        "  openai.api_key = api_key\n",
        "  if history == None:\n",
        "    history = []\n",
        "  # Prepare messages for the ChatGPT model\n",
        "  messages = [{'role':'system','content':'You are a helpful assistant'}]\n",
        "  for user_ask, gpt_reply in history:\n",
        "    messages.append({'role':'user','content':user_ask})\n",
        "    messages.append({'role':'assistant','content':gpt_reply})\n",
        "\n",
        "  # Add user's input to the messages\n",
        "  messages.append({'role':'user','content':user_message})\n",
        "\n",
        "  # Get response from ChatGPT\n",
        "  response = openai.ChatCompletion.create(\n",
        "      model='gpt-3.5-turbo',\n",
        "      messages=messages\n",
        "  )\n",
        "\n",
        "  # Extrat ChatGPT's response\n",
        "  gpt_response = response.choices[0].message['content']\n",
        "  history.append((user_message,gpt_response))\n",
        "  return history,history\n",
        "\n",
        "with gr.Blocks() as demo:\n",
        "  gr.Markdown(\"<h1 style-'text-align:center;'>ChatGPT Conversation</h1>\")\n",
        "  api_key = gr.Textbox(label='API Key',placeholder='Enter your OpenAI API key here',lines=1,type='password',elem_id='api_key')\n",
        "  chatbot = gr.Chatbot(elem_id='chat_window')\n",
        "  message = gr.Textbox(label='Your Message',placeholder='Type your message here',lines=2,elem_id='message_box',interactive=True)\n",
        "  submit_button = gr.Button('Send')\n",
        "  state=gr.State()\n",
        "  submit_button.click(fn=chat_with_gpt,inputs=[api_key,message,state],outputs=[chatbot,state])\n",
        "\n",
        "demo.launch()"
      ]
    },
    {
      "cell_type": "code",
      "source": [],
      "metadata": {
        "id": "CxjSq6a5nCVx"
      },
      "execution_count": null,
      "outputs": []
    }
  ]
}