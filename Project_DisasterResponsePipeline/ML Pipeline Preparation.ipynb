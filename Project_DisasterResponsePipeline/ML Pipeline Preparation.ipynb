{
  "cells": [
    {
      "cell_type": "markdown",
      "metadata": {
        "id": "view-in-github",
        "colab_type": "text"
      },
      "source": [
        "<a href=\"https://colab.research.google.com/github/zhukuixi/Udacity_DataScientistNanoDegree/blob/main/Project_DisasterResponsePipeline/ML%20Pipeline%20Preparation.ipynb\" target=\"_parent\"><img src=\"https://colab.research.google.com/assets/colab-badge.svg\" alt=\"Open In Colab\"/></a>"
      ]
    },
    {
      "cell_type": "markdown",
      "metadata": {
        "id": "h5728yvOrZd9"
      },
      "source": [
        "# ML Pipeline Preparation\n",
        "Follow the instructions below to help you create your ML pipeline.\n",
        "### 1. Import libraries and load data from database.\n",
        "- Import Python libraries\n",
        "- Load dataset from database with [`read_sql_table`](https://pandas.pydata.org/pandas-docs/stable/generated/pandas.read_sql_table.html)\n",
        "- Define feature and target variables X and Y"
      ]
    },
    {
      "cell_type": "code",
      "execution_count": 32,
      "metadata": {
        "colab": {
          "base_uri": "https://localhost:8080/"
        },
        "id": "kImBLSDCrZd-",
        "outputId": "e3644e83-ac5d-47c7-b3a5-2d1fa85a35e0"
      },
      "outputs": [
        {
          "output_type": "stream",
          "name": "stderr",
          "text": [
            "[nltk_data] Downloading package stopwords to /root/nltk_data...\n",
            "[nltk_data]   Package stopwords is already up-to-date!\n",
            "[nltk_data] Downloading package punkt to /root/nltk_data...\n",
            "[nltk_data]   Package punkt is already up-to-date!\n",
            "[nltk_data] Downloading package wordnet to /root/nltk_data...\n",
            "[nltk_data]   Package wordnet is already up-to-date!\n",
            "[nltk_data] Downloading package averaged_perceptron_tagger to\n",
            "[nltk_data]     /root/nltk_data...\n",
            "[nltk_data]   Package averaged_perceptron_tagger is already up-to-\n",
            "[nltk_data]       date!\n"
          ]
        }
      ],
      "source": [
        "# import libraries\n",
        "import sqlalchemy\n",
        "from sqlalchemy import create_engine\n",
        "import pandas as pd\n",
        "\n",
        "# NLP\n",
        "from nltk.corpus import stopwords\n",
        "from nltk.tokenize import word_tokenize\n",
        "from nltk.stem.wordnet import WordNetLemmatizer\n",
        "from sklearn.feature_extraction.text import CountVectorizer, TfidfTransformer\n",
        "import re\n",
        "import nltk\n",
        "nltk.download(['stopwords','punkt', 'wordnet', 'averaged_perceptron_tagger'])\n",
        "\n",
        "# DS\n",
        "from sklearn.metrics import classification_report\n",
        "from sklearn.pipeline import Pipeline\n",
        "from sklearn.model_selection import train_test_split\n",
        "from sklearn.ensemble import RandomForestClassifier"
      ]
    },
    {
      "cell_type": "code",
      "execution_count": 37,
      "metadata": {
        "id": "bSlhEvSurZeA"
      },
      "outputs": [],
      "source": [
        "# load data from database\n",
        "engine = create_engine('sqlite:///df_clean.db')\n",
        "df = pd.read_sql_table(\"disaster_messages\", con=engine.connect())\n",
        "X = df.message\n",
        "Y = df.iloc[:,4:]"
      ]
    },
    {
      "cell_type": "markdown",
      "metadata": {
        "id": "nm_DLowErZeA"
      },
      "source": [
        "### 2. Write a tokenization function to process your text data"
      ]
    },
    {
      "cell_type": "code",
      "execution_count": 38,
      "metadata": {
        "id": "52ktbha8rZeA"
      },
      "outputs": [],
      "source": [
        "def tokenize(text):\n",
        "    # normalize\n",
        "    re.sub(r\"[^a-zA-Z0-9]\", \" \", text.lower())\n",
        "\n",
        "    # tokenize\n",
        "    words = word_tokenize(text)\n",
        "\n",
        "    # stop word removal\n",
        "    words = [w for w in words if w not in stopwords.words(\"english\")]\n",
        "\n",
        "    # Lemmatization\n",
        "    tokens = [WordNetLemmatizer().lemmatize(w) for w in words]\n",
        "\n",
        "    return tokens"
      ]
    },
    {
      "cell_type": "markdown",
      "metadata": {
        "id": "FD7-vP4WrZeB"
      },
      "source": [
        "### 3. Build a machine learning pipeline\n",
        "This machine pipeline should take in the `message` column as input and output classification results on the other 36 categories in the dataset. You may find the [MultiOutputClassifier](http://scikit-learn.org/stable/modules/generated/sklearn.multioutput.MultiOutputClassifier.html) helpful for predicting multiple target variables."
      ]
    },
    {
      "cell_type": "code",
      "execution_count": 39,
      "metadata": {
        "id": "I6ZoMSHBrZeB"
      },
      "outputs": [],
      "source": [
        "pipeline = Pipeline([('vect',CountVectorizer(tokenizer=tokenize)),\n",
        "                    ('tfidf',TfidfTransformer()),\n",
        "                    ('rf',RandomForestClassifier())\n",
        "                   ])\n"
      ]
    },
    {
      "cell_type": "markdown",
      "metadata": {
        "id": "aNcS137NrZeB"
      },
      "source": [
        "### 4. Train pipeline\n",
        "- Split data into train and test sets\n",
        "- Train pipeline"
      ]
    },
    {
      "cell_type": "code",
      "execution_count": 40,
      "metadata": {
        "id": "A8GONmuwrZeB"
      },
      "outputs": [],
      "source": [
        "X_train,X_test,y_train,y_test = train_test_split(X,Y,test_size=0.2,random_state=42)"
      ]
    },
    {
      "cell_type": "markdown",
      "metadata": {
        "id": "c1wseYy4rZeC"
      },
      "source": [
        "### 5. Test your model\n",
        "Report the f1 score, precision and recall for each output category of the dataset. You can do this by iterating through the columns and calling sklearn's `classification_report` on each."
      ]
    },
    {
      "cell_type": "code",
      "execution_count": null,
      "metadata": {
        "colab": {
          "base_uri": "https://localhost:8080/"
        },
        "id": "-45N0YS9rZeC",
        "outputId": "4dfbc3b4-106a-4b30-ef0c-7535038d3e54"
      },
      "outputs": [
        {
          "output_type": "stream",
          "name": "stderr",
          "text": [
            "/usr/local/lib/python3.10/dist-packages/sklearn/feature_extraction/text.py:528: UserWarning: The parameter 'token_pattern' will not be used since 'tokenizer' is not None'\n",
            "  warnings.warn(\n"
          ]
        }
      ],
      "source": [
        "pipeline.fit(X_train,y_train)\n",
        "y_pred = pipeline.predict(X_test)\n",
        "\n",
        "\n"
      ]
    },
    {
      "cell_type": "code",
      "execution_count": null,
      "metadata": {
        "id": "dxI912DNrZeC",
        "outputId": "1875ac96-49fc-4f56-b1fb-b200e9d30479"
      },
      "outputs": [
        {
          "name": "stdout",
          "output_type": "stream",
          "text": [
            "             precision    recall  f1-score   support\n",
            "\n",
            "          0       0.58      0.50      0.53      1266\n",
            "          1       0.84      0.89      0.86      3938\n",
            "          2       1.00      0.17      0.30        40\n",
            "\n",
            "avg / total       0.78      0.79      0.78      5244\n",
            "\n",
            "             precision    recall  f1-score   support\n",
            "\n",
            "          0       0.89      0.98      0.93      4349\n",
            "          1       0.81      0.41      0.55       895\n",
            "\n",
            "avg / total       0.88      0.88      0.87      5244\n",
            "\n",
            "             precision    recall  f1-score   support\n",
            "\n",
            "          0       1.00      1.00      1.00      5218\n",
            "          1       0.00      0.00      0.00        26\n",
            "\n",
            "avg / total       0.99      1.00      0.99      5244\n",
            "\n",
            "             precision    recall  f1-score   support\n",
            "\n",
            "          0       0.71      0.91      0.80      3113\n",
            "          1       0.77      0.45      0.57      2131\n",
            "\n",
            "avg / total       0.73      0.72      0.70      5244\n",
            "\n",
            "             precision    recall  f1-score   support\n",
            "\n",
            "          0       0.92      1.00      0.96      4822\n",
            "          1       0.57      0.04      0.07       422\n",
            "\n",
            "avg / total       0.89      0.92      0.89      5244\n",
            "\n",
            "             precision    recall  f1-score   support\n",
            "\n",
            "          0       0.95      1.00      0.97      4974\n",
            "          1       0.87      0.05      0.09       270\n",
            "\n",
            "avg / total       0.95      0.95      0.93      5244\n",
            "\n",
            "             precision    recall  f1-score   support\n",
            "\n",
            "          0       0.98      1.00      0.99      5117\n",
            "          1       1.00      0.02      0.03       127\n",
            "\n",
            "avg / total       0.98      0.98      0.96      5244\n",
            "\n",
            "             precision    recall  f1-score   support\n",
            "\n",
            "          0       0.98      1.00      0.99      5156\n",
            "          1       0.67      0.02      0.04        88\n",
            "\n",
            "avg / total       0.98      0.98      0.98      5244\n",
            "\n",
            "             precision    recall  f1-score   support\n",
            "\n",
            "          0       0.97      1.00      0.98      5089\n",
            "          1       0.32      0.05      0.08       155\n",
            "\n",
            "avg / total       0.95      0.97      0.96      5244\n",
            "\n",
            "             precision    recall  f1-score   support\n",
            "\n",
            "          0       1.00      1.00      1.00      5244\n",
            "\n",
            "avg / total       1.00      1.00      1.00      5244\n",
            "\n",
            "             precision    recall  f1-score   support\n",
            "\n",
            "          0       0.95      1.00      0.97      4905\n",
            "          1       0.92      0.23      0.36       339\n",
            "\n",
            "avg / total       0.95      0.95      0.93      5244\n",
            "\n",
            "             precision    recall  f1-score   support\n",
            "\n",
            "          0       0.92      0.99      0.95      4649\n",
            "          1       0.85      0.30      0.44       595\n",
            "\n",
            "avg / total       0.91      0.91      0.90      5244\n",
            "\n",
            "             precision    recall  f1-score   support\n",
            "\n",
            "          0       0.93      0.99      0.96      4774\n",
            "          1       0.83      0.27      0.41       470\n",
            "\n",
            "avg / total       0.92      0.93      0.91      5244\n",
            "\n",
            "             precision    recall  f1-score   support\n",
            "\n",
            "          0       0.99      1.00      0.99      5171\n",
            "          1       0.67      0.03      0.05        73\n",
            "\n",
            "avg / total       0.98      0.99      0.98      5244\n",
            "\n",
            "             precision    recall  f1-score   support\n",
            "\n",
            "          0       0.98      1.00      0.99      5140\n",
            "          1       0.82      0.09      0.16       104\n",
            "\n",
            "avg / total       0.98      0.98      0.97      5244\n",
            "\n",
            "             precision    recall  f1-score   support\n",
            "\n",
            "          0       0.99      1.00      0.99      5184\n",
            "          1       1.00      0.03      0.06        60\n",
            "\n",
            "avg / total       0.99      0.99      0.98      5244\n",
            "\n",
            "             precision    recall  f1-score   support\n",
            "\n",
            "          0       0.97      1.00      0.98      5073\n",
            "          1       0.33      0.01      0.01       171\n",
            "\n",
            "avg / total       0.95      0.97      0.95      5244\n",
            "\n",
            "             precision    recall  f1-score   support\n",
            "\n",
            "          0       0.96      1.00      0.98      5007\n",
            "          1       0.65      0.05      0.10       237\n",
            "\n",
            "avg / total       0.94      0.96      0.94      5244\n",
            "\n",
            "             precision    recall  f1-score   support\n",
            "\n",
            "          0       0.87      0.99      0.93      4549\n",
            "          1       0.55      0.04      0.08       695\n",
            "\n",
            "avg / total       0.83      0.87      0.82      5244\n",
            "\n",
            "             precision    recall  f1-score   support\n",
            "\n",
            "          0       0.94      1.00      0.97      4916\n",
            "          1       0.50      0.01      0.02       328\n",
            "\n",
            "avg / total       0.91      0.94      0.91      5244\n",
            "\n",
            "             precision    recall  f1-score   support\n",
            "\n",
            "          0       0.95      1.00      0.98      5004\n",
            "          1       0.57      0.02      0.03       240\n",
            "\n",
            "avg / total       0.94      0.95      0.93      5244\n",
            "\n",
            "             precision    recall  f1-score   support\n",
            "\n",
            "          0       0.95      1.00      0.97      4977\n",
            "          1       0.76      0.06      0.11       267\n",
            "\n",
            "avg / total       0.94      0.95      0.93      5244\n",
            "\n",
            "             precision    recall  f1-score   support\n",
            "\n",
            "          0       0.98      1.00      0.99      5122\n",
            "          1       0.00      0.00      0.00       122\n",
            "\n",
            "avg / total       0.95      0.98      0.97      5244\n",
            "\n",
            "             precision    recall  f1-score   support\n",
            "\n",
            "          0       0.99      1.00      1.00      5212\n",
            "          1       0.00      0.00      0.00        32\n",
            "\n",
            "avg / total       0.99      0.99      0.99      5244\n",
            "\n",
            "             precision    recall  f1-score   support\n",
            "\n",
            "          0       0.99      1.00      1.00      5198\n",
            "          1       0.00      0.00      0.00        46\n",
            "\n",
            "avg / total       0.98      0.99      0.99      5244\n",
            "\n",
            "             precision    recall  f1-score   support\n",
            "\n",
            "          0       1.00      1.00      1.00      5222\n",
            "          1       0.00      0.00      0.00        22\n",
            "\n",
            "avg / total       0.99      1.00      0.99      5244\n",
            "\n",
            "             precision    recall  f1-score   support\n",
            "\n",
            "          0       0.99      1.00      0.99      5177\n",
            "          1       0.00      0.00      0.00        67\n",
            "\n",
            "avg / total       0.97      0.99      0.98      5244\n",
            "\n",
            "             precision    recall  f1-score   support\n",
            "\n",
            "          0       0.96      1.00      0.98      5021\n",
            "          1       0.50      0.01      0.02       223\n",
            "\n",
            "avg / total       0.94      0.96      0.94      5244\n",
            "\n",
            "             precision    recall  f1-score   support\n",
            "\n",
            "          0       0.83      0.97      0.89      3806\n",
            "          1       0.86      0.47      0.60      1438\n",
            "\n",
            "avg / total       0.84      0.83      0.81      5244\n",
            "\n",
            "             precision    recall  f1-score   support\n",
            "\n",
            "          0       0.94      1.00      0.97      4833\n",
            "          1       0.89      0.30      0.45       411\n",
            "\n",
            "avg / total       0.94      0.94      0.93      5244\n",
            "\n",
            "             precision    recall  f1-score   support\n",
            "\n",
            "          0       0.92      0.99      0.96      4758\n",
            "          1       0.69      0.18      0.28       486\n",
            "\n",
            "avg / total       0.90      0.92      0.89      5244\n",
            "\n",
            "             precision    recall  f1-score   support\n",
            "\n",
            "          0       0.99      1.00      1.00      5191\n",
            "          1       1.00      0.02      0.04        53\n",
            "\n",
            "avg / total       0.99      0.99      0.99      5244\n",
            "\n",
            "             precision    recall  f1-score   support\n",
            "\n",
            "          0       0.96      0.99      0.97      4766\n",
            "          1       0.88      0.54      0.67       478\n",
            "\n",
            "avg / total       0.95      0.95      0.95      5244\n",
            "\n",
            "             precision    recall  f1-score   support\n",
            "\n",
            "          0       0.98      1.00      0.99      5127\n",
            "          1       0.75      0.03      0.05       117\n",
            "\n",
            "avg / total       0.97      0.98      0.97      5244\n",
            "\n",
            "             precision    recall  f1-score   support\n",
            "\n",
            "          0       0.95      1.00      0.97      4968\n",
            "          1       0.57      0.01      0.03       276\n",
            "\n",
            "avg / total       0.93      0.95      0.92      5244\n",
            "\n",
            "             precision    recall  f1-score   support\n",
            "\n",
            "          0       0.85      0.98      0.91      4223\n",
            "          1       0.74      0.29      0.41      1021\n",
            "\n",
            "avg / total       0.83      0.84      0.81      5244\n",
            "\n"
          ]
        },
        {
          "name": "stderr",
          "output_type": "stream",
          "text": [
            "/opt/conda/lib/python3.6/site-packages/sklearn/metrics/classification.py:1135: UndefinedMetricWarning: Precision and F-score are ill-defined and being set to 0.0 in labels with no predicted samples.\n",
            "  'precision', 'predicted', average, warn_for)\n"
          ]
        }
      ],
      "source": [
        "for i in range(y_pred.shape[1]):\n",
        "    print(classification_report(y_test.iloc[:,i],y_pred[:,i]))"
      ]
    },
    {
      "cell_type": "code",
      "execution_count": null,
      "metadata": {
        "id": "DFbypFmErZeC",
        "outputId": "d2457631-da4e-4cd6-bc9f-3fbad6c4d55a"
      },
      "outputs": [
        {
          "data": {
            "text/plain": [
              "0.94096957369268575"
            ]
          },
          "execution_count": 120,
          "metadata": {},
          "output_type": "execute_result"
        }
      ],
      "source": [
        "(y_pred==y_test).mean().mean()"
      ]
    },
    {
      "cell_type": "code",
      "execution_count": null,
      "metadata": {
        "id": "NXu2xje2rZeC",
        "outputId": "ba4fc124-64d1-4b4e-851f-f39975219bfa"
      },
      "outputs": [
        {
          "ename": "AttributeError",
          "evalue": "'Pipeline' object has no attribute 'getparams'",
          "output_type": "error",
          "traceback": [
            "\u001b[0;31m---------------------------------------------------------------------------\u001b[0m",
            "\u001b[0;31mAttributeError\u001b[0m                            Traceback (most recent call last)",
            "\u001b[0;32m<ipython-input-122-f04a6a3b566c>\u001b[0m in \u001b[0;36m<module>\u001b[0;34m()\u001b[0m\n\u001b[0;32m----> 1\u001b[0;31m \u001b[0mpipeline\u001b[0m\u001b[0;34m.\u001b[0m\u001b[0mgetparams\u001b[0m\u001b[0;34m(\u001b[0m\u001b[0;34m)\u001b[0m\u001b[0;34m\u001b[0m\u001b[0m\n\u001b[0m",
            "\u001b[0;31mAttributeError\u001b[0m: 'Pipeline' object has no attribute 'getparams'"
          ]
        }
      ],
      "source": [
        "pipeline.getparams()"
      ]
    },
    {
      "cell_type": "markdown",
      "metadata": {
        "id": "hNzFKuJerZeD"
      },
      "source": [
        "### 6. Improve your model\n",
        "Use grid search to find better parameters."
      ]
    },
    {
      "cell_type": "code",
      "execution_count": null,
      "metadata": {
        "id": "bR1O1FdkrZeD"
      },
      "outputs": [],
      "source": [
        "parameters =\n",
        "\n",
        "cv ="
      ]
    },
    {
      "cell_type": "markdown",
      "metadata": {
        "id": "W42Sr1gtrZeD"
      },
      "source": [
        "### 7. Test your model\n",
        "Show the accuracy, precision, and recall of the tuned model.  \n",
        "\n",
        "Since this project focuses on code quality, process, and  pipelines, there is no minimum performance metric needed to pass. However, make sure to fine tune your models for accuracy, precision and recall to make your project stand out - especially for your portfolio!"
      ]
    },
    {
      "cell_type": "code",
      "execution_count": null,
      "metadata": {
        "id": "sMiOcE91rZeD"
      },
      "outputs": [],
      "source": []
    },
    {
      "cell_type": "markdown",
      "metadata": {
        "id": "Fr-Q3PlPrZeD"
      },
      "source": [
        "### 8. Try improving your model further. Here are a few ideas:\n",
        "* try other machine learning algorithms\n",
        "* add other features besides the TF-IDF"
      ]
    },
    {
      "cell_type": "code",
      "execution_count": null,
      "metadata": {
        "id": "QewzRy3brZeD"
      },
      "outputs": [],
      "source": []
    },
    {
      "cell_type": "markdown",
      "metadata": {
        "id": "0vEPLMcOrZeD"
      },
      "source": [
        "### 9. Export your model as a pickle file"
      ]
    },
    {
      "cell_type": "code",
      "execution_count": null,
      "metadata": {
        "id": "oDjEuV4-rZeD"
      },
      "outputs": [],
      "source": []
    },
    {
      "cell_type": "markdown",
      "metadata": {
        "id": "BoXeAxJirZeE"
      },
      "source": [
        "### 10. Use this notebook to complete `train.py`\n",
        "Use the template file attached in the Resources folder to write a script that runs the steps above to create a database and export a model based on a new dataset specified by the user."
      ]
    },
    {
      "cell_type": "code",
      "execution_count": null,
      "metadata": {
        "id": "G-WUlAvVrZeE"
      },
      "outputs": [],
      "source": []
    }
  ],
  "metadata": {
    "kernelspec": {
      "display_name": "Python 3",
      "language": "python",
      "name": "python3"
    },
    "language_info": {
      "codemirror_mode": {
        "name": "ipython",
        "version": 3
      },
      "file_extension": ".py",
      "mimetype": "text/x-python",
      "name": "python",
      "nbconvert_exporter": "python",
      "pygments_lexer": "ipython3",
      "version": "3.6.3"
    },
    "colab": {
      "provenance": [],
      "include_colab_link": true
    }
  },
  "nbformat": 4,
  "nbformat_minor": 0
}