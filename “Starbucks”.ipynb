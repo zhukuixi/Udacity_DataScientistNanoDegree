{
  "cells": [
    {
      "cell_type": "markdown",
      "metadata": {
        "id": "view-in-github",
        "colab_type": "text"
      },
      "source": [
        "<a href=\"https://colab.research.google.com/github/zhukuixi/Udacity_DataScientistNanoDegree/blob/main/%E2%80%9CStarbucks%E2%80%9D.ipynb\" target=\"_parent\"><img src=\"https://colab.research.google.com/assets/colab-badge.svg\" alt=\"Open In Colab\"/></a>"
      ]
    },
    {
      "cell_type": "markdown",
      "metadata": {
        "id": "YYUu2yaqPh28"
      },
      "source": [
        "## Portfolio Exercise: Starbucks\n",
        "<center><img src='https://www.freepnglogos.com/uploads/starbucks-logo-png-transparent-0.png'></center>\n",
        "\n",
        "\n",
        "#### Background Information\n",
        "\n",
        "The dataset you will be provided in this portfolio exercise was originally used as a take-home assignment provided by Starbucks for their job candidates. The data for this exercise consists of about 120,000 data points split in a 2:1 ratio among training and test files. In the experiment simulated by the data, an advertising promotion was tested to see if it would bring more customers to purchase a specific product priced at $10. Since it costs the company 0.15 to send out each promotion, it would be best to limit that promotion only to those that are most receptive to the promotion. Each data point includes one column indicating whether or not an individual was sent a promotion for the product, and one column indicating whether or not that individual eventually purchased that product. Each individual also has seven additional features associated with them, which are provided abstractly as V1-V7.\n",
        "\n",
        "#### Optimization Strategy\n",
        "\n",
        "Your task is to use the training data to understand what patterns in V1-V7 to indicate that a promotion should be provided to a user. Specifically, your goal is to maximize the following metrics:\n",
        "\n",
        "* **Incremental Response Rate (IRR)**\n",
        "\n",
        "IRR depicts how many more customers purchased the product with the promotion, as compared to if they didn't receive the promotion. Mathematically, it's the ratio of the number of purchasers in the promotion group to the total number of customers in the purchasers group (_treatment_) minus the ratio of the number of purchasers in the non-promotional group to the total number of customers in the non-promotional group (_control_).\n",
        "\n",
        "$$ IRR = \\frac{purch_{treat}}{cust_{treat}} - \\frac{purch_{ctrl}}{cust_{ctrl}} $$\n",
        "\n",
        "\n",
        "* **Net Incremental Revenue (NIR)**\n",
        "\n",
        "NIR depicts how much is made (or lost) by sending out the promotion. Mathematically, this is 10 times the total number of purchasers that received the promotion minus 0.15 times the number of promotions sent out, minus 10 times the number of purchasers who were not given the promotion.\n",
        "\n",
        "$$ NIR = (10\\cdot purch_{treat} - 0.15 \\cdot cust_{treat}) - 10 \\cdot purch_{ctrl}$$\n",
        "\n",
        "For a full description of what Starbucks provides to candidates see the [instructions available here](https://drive.google.com/open?id=18klca9Sef1Rs6q8DW4l7o349r8B70qXM).\n",
        "\n",
        "Below you can find the training data provided.  Explore the data and different optimization strategies.\n",
        "\n",
        "#### How To Test Your Strategy?\n",
        "\n",
        "When you feel like you have an optimization strategy, complete the `promotion_strategy` function to pass to the `test_results` function.  \n",
        "From past data, we know there are four possible outomes:\n",
        "\n",
        "Table of actual promotion vs. predicted promotion customers:  \n",
        "\n",
        "<table>\n",
        "<tr><th></th><th colspan = '2'>Actual</th></tr>\n",
        "<tr><th>Predicted</th><th>Yes</th><th>No</th></tr>\n",
        "<tr><th>Yes</th><td>I</td><td>II</td></tr>\n",
        "<tr><th>No</th><td>III</td><td>IV</td></tr>\n",
        "</table>\n",
        "\n",
        "The metrics are only being compared for the individuals we predict should obtain the promotion – that is, quadrants I and II.  Since the first set of individuals that receive the promotion (in the training set) receive it randomly, we can expect that quadrants I and II will have approximately equivalent participants.  \n",
        "\n",
        "Comparing quadrant I to II then gives an idea of how well your promotion strategy will work in the future.\n",
        "\n",
        "Get started by reading in the data below.  See how each variable or combination of variables along with a promotion influences the chance of purchasing.  When you feel like you have a strategy for who should receive a promotion, test your strategy against the test dataset used in the final `test_results` function.\n",
        "\n",
        "Questions:   \n",
        "1) Analyze the results of the experiment and identify the effect of the Treatment on\n",
        "product purchase and Net Incremental Revenue  \n",
        "  \n",
        "2) Build a model to select the best customers to target that maximizes the Incremental\n",
        "Response Rate and Net Incremental Revenue.\n",
        "\n",
        "\n",
        "Deliverables  \n",
        "3) Score the ‘Test.csv’ using the model and select the best customers and share the\n",
        "customer ID’s as csv file  \n",
        "  \n",
        "4) Explain briefly the approach used in a separate document and also share the code that\n",
        "can be executed to reproduce results."
      ]
    },
    {
      "cell_type": "code",
      "execution_count": null,
      "metadata": {
        "colab": {
          "base_uri": "https://localhost:8080/",
          "height": 333
        },
        "id": "-ZjgWfdLPh2-",
        "outputId": "fb7a27d1-093d-4399-f5af-e7d4f4b1faa0"
      },
      "outputs": [
        {
          "output_type": "stream",
          "name": "stdout",
          "text": [
            "Cloning into 'Udacity_DataScientistNanoDegree'...\n",
            "remote: Enumerating objects: 238, done.\u001b[K\n",
            "remote: Counting objects: 100% (61/61), done.\u001b[K\n",
            "remote: Compressing objects: 100% (35/35), done.\u001b[K\n",
            "remote: Total 238 (delta 30), reused 51 (delta 25), pack-reused 177\u001b[K\n",
            "Receiving objects: 100% (238/238), 125.61 MiB | 13.20 MiB/s, done.\n",
            "Resolving deltas: 100% (86/86), done.\n"
          ]
        },
        {
          "output_type": "execute_result",
          "data": {
            "text/plain": [
              "   ID Promotion  purchase  V1         V2        V3  V4  V5  V6  V7\n",
              "0   1        No         0   2  30.443518 -1.165083   1   1   3   2\n",
              "1   3        No         0   3  32.159350 -0.645617   2   3   2   2\n",
              "2   4        No         0   2  30.431659  0.133583   1   1   4   2\n",
              "3   5        No         0   0  26.588914 -0.212728   2   1   4   2\n",
              "4   8       Yes         0   3  28.044331 -0.385883   1   1   2   2"
            ],
            "text/html": [
              "\n",
              "  <div id=\"df-d2165a78-d3f1-45ab-b9bb-c8d38fbe0144\" class=\"colab-df-container\">\n",
              "    <div>\n",
              "<style scoped>\n",
              "    .dataframe tbody tr th:only-of-type {\n",
              "        vertical-align: middle;\n",
              "    }\n",
              "\n",
              "    .dataframe tbody tr th {\n",
              "        vertical-align: top;\n",
              "    }\n",
              "\n",
              "    .dataframe thead th {\n",
              "        text-align: right;\n",
              "    }\n",
              "</style>\n",
              "<table border=\"1\" class=\"dataframe\">\n",
              "  <thead>\n",
              "    <tr style=\"text-align: right;\">\n",
              "      <th></th>\n",
              "      <th>ID</th>\n",
              "      <th>Promotion</th>\n",
              "      <th>purchase</th>\n",
              "      <th>V1</th>\n",
              "      <th>V2</th>\n",
              "      <th>V3</th>\n",
              "      <th>V4</th>\n",
              "      <th>V5</th>\n",
              "      <th>V6</th>\n",
              "      <th>V7</th>\n",
              "    </tr>\n",
              "  </thead>\n",
              "  <tbody>\n",
              "    <tr>\n",
              "      <th>0</th>\n",
              "      <td>1</td>\n",
              "      <td>No</td>\n",
              "      <td>0</td>\n",
              "      <td>2</td>\n",
              "      <td>30.443518</td>\n",
              "      <td>-1.165083</td>\n",
              "      <td>1</td>\n",
              "      <td>1</td>\n",
              "      <td>3</td>\n",
              "      <td>2</td>\n",
              "    </tr>\n",
              "    <tr>\n",
              "      <th>1</th>\n",
              "      <td>3</td>\n",
              "      <td>No</td>\n",
              "      <td>0</td>\n",
              "      <td>3</td>\n",
              "      <td>32.159350</td>\n",
              "      <td>-0.645617</td>\n",
              "      <td>2</td>\n",
              "      <td>3</td>\n",
              "      <td>2</td>\n",
              "      <td>2</td>\n",
              "    </tr>\n",
              "    <tr>\n",
              "      <th>2</th>\n",
              "      <td>4</td>\n",
              "      <td>No</td>\n",
              "      <td>0</td>\n",
              "      <td>2</td>\n",
              "      <td>30.431659</td>\n",
              "      <td>0.133583</td>\n",
              "      <td>1</td>\n",
              "      <td>1</td>\n",
              "      <td>4</td>\n",
              "      <td>2</td>\n",
              "    </tr>\n",
              "    <tr>\n",
              "      <th>3</th>\n",
              "      <td>5</td>\n",
              "      <td>No</td>\n",
              "      <td>0</td>\n",
              "      <td>0</td>\n",
              "      <td>26.588914</td>\n",
              "      <td>-0.212728</td>\n",
              "      <td>2</td>\n",
              "      <td>1</td>\n",
              "      <td>4</td>\n",
              "      <td>2</td>\n",
              "    </tr>\n",
              "    <tr>\n",
              "      <th>4</th>\n",
              "      <td>8</td>\n",
              "      <td>Yes</td>\n",
              "      <td>0</td>\n",
              "      <td>3</td>\n",
              "      <td>28.044331</td>\n",
              "      <td>-0.385883</td>\n",
              "      <td>1</td>\n",
              "      <td>1</td>\n",
              "      <td>2</td>\n",
              "      <td>2</td>\n",
              "    </tr>\n",
              "  </tbody>\n",
              "</table>\n",
              "</div>\n",
              "    <div class=\"colab-df-buttons\">\n",
              "\n",
              "  <div class=\"colab-df-container\">\n",
              "    <button class=\"colab-df-convert\" onclick=\"convertToInteractive('df-d2165a78-d3f1-45ab-b9bb-c8d38fbe0144')\"\n",
              "            title=\"Convert this dataframe to an interactive table.\"\n",
              "            style=\"display:none;\">\n",
              "\n",
              "  <svg xmlns=\"http://www.w3.org/2000/svg\" height=\"24px\" viewBox=\"0 -960 960 960\">\n",
              "    <path d=\"M120-120v-720h720v720H120Zm60-500h600v-160H180v160Zm220 220h160v-160H400v160Zm0 220h160v-160H400v160ZM180-400h160v-160H180v160Zm440 0h160v-160H620v160ZM180-180h160v-160H180v160Zm440 0h160v-160H620v160Z\"/>\n",
              "  </svg>\n",
              "    </button>\n",
              "\n",
              "  <style>\n",
              "    .colab-df-container {\n",
              "      display:flex;\n",
              "      gap: 12px;\n",
              "    }\n",
              "\n",
              "    .colab-df-convert {\n",
              "      background-color: #E8F0FE;\n",
              "      border: none;\n",
              "      border-radius: 50%;\n",
              "      cursor: pointer;\n",
              "      display: none;\n",
              "      fill: #1967D2;\n",
              "      height: 32px;\n",
              "      padding: 0 0 0 0;\n",
              "      width: 32px;\n",
              "    }\n",
              "\n",
              "    .colab-df-convert:hover {\n",
              "      background-color: #E2EBFA;\n",
              "      box-shadow: 0px 1px 2px rgba(60, 64, 67, 0.3), 0px 1px 3px 1px rgba(60, 64, 67, 0.15);\n",
              "      fill: #174EA6;\n",
              "    }\n",
              "\n",
              "    .colab-df-buttons div {\n",
              "      margin-bottom: 4px;\n",
              "    }\n",
              "\n",
              "    [theme=dark] .colab-df-convert {\n",
              "      background-color: #3B4455;\n",
              "      fill: #D2E3FC;\n",
              "    }\n",
              "\n",
              "    [theme=dark] .colab-df-convert:hover {\n",
              "      background-color: #434B5C;\n",
              "      box-shadow: 0px 1px 3px 1px rgba(0, 0, 0, 0.15);\n",
              "      filter: drop-shadow(0px 1px 2px rgba(0, 0, 0, 0.3));\n",
              "      fill: #FFFFFF;\n",
              "    }\n",
              "  </style>\n",
              "\n",
              "    <script>\n",
              "      const buttonEl =\n",
              "        document.querySelector('#df-d2165a78-d3f1-45ab-b9bb-c8d38fbe0144 button.colab-df-convert');\n",
              "      buttonEl.style.display =\n",
              "        google.colab.kernel.accessAllowed ? 'block' : 'none';\n",
              "\n",
              "      async function convertToInteractive(key) {\n",
              "        const element = document.querySelector('#df-d2165a78-d3f1-45ab-b9bb-c8d38fbe0144');\n",
              "        const dataTable =\n",
              "          await google.colab.kernel.invokeFunction('convertToInteractive',\n",
              "                                                    [key], {});\n",
              "        if (!dataTable) return;\n",
              "\n",
              "        const docLinkHtml = 'Like what you see? Visit the ' +\n",
              "          '<a target=\"_blank\" href=https://colab.research.google.com/notebooks/data_table.ipynb>data table notebook</a>'\n",
              "          + ' to learn more about interactive tables.';\n",
              "        element.innerHTML = '';\n",
              "        dataTable['output_type'] = 'display_data';\n",
              "        await google.colab.output.renderOutput(dataTable, element);\n",
              "        const docLink = document.createElement('div');\n",
              "        docLink.innerHTML = docLinkHtml;\n",
              "        element.appendChild(docLink);\n",
              "      }\n",
              "    </script>\n",
              "  </div>\n",
              "\n",
              "\n",
              "<div id=\"df-01f94421-6594-4c75-a66e-b4e73148c93b\">\n",
              "  <button class=\"colab-df-quickchart\" onclick=\"quickchart('df-01f94421-6594-4c75-a66e-b4e73148c93b')\"\n",
              "            title=\"Suggest charts\"\n",
              "            style=\"display:none;\">\n",
              "\n",
              "<svg xmlns=\"http://www.w3.org/2000/svg\" height=\"24px\"viewBox=\"0 0 24 24\"\n",
              "     width=\"24px\">\n",
              "    <g>\n",
              "        <path d=\"M19 3H5c-1.1 0-2 .9-2 2v14c0 1.1.9 2 2 2h14c1.1 0 2-.9 2-2V5c0-1.1-.9-2-2-2zM9 17H7v-7h2v7zm4 0h-2V7h2v10zm4 0h-2v-4h2v4z\"/>\n",
              "    </g>\n",
              "</svg>\n",
              "  </button>\n",
              "\n",
              "<style>\n",
              "  .colab-df-quickchart {\n",
              "      --bg-color: #E8F0FE;\n",
              "      --fill-color: #1967D2;\n",
              "      --hover-bg-color: #E2EBFA;\n",
              "      --hover-fill-color: #174EA6;\n",
              "      --disabled-fill-color: #AAA;\n",
              "      --disabled-bg-color: #DDD;\n",
              "  }\n",
              "\n",
              "  [theme=dark] .colab-df-quickchart {\n",
              "      --bg-color: #3B4455;\n",
              "      --fill-color: #D2E3FC;\n",
              "      --hover-bg-color: #434B5C;\n",
              "      --hover-fill-color: #FFFFFF;\n",
              "      --disabled-bg-color: #3B4455;\n",
              "      --disabled-fill-color: #666;\n",
              "  }\n",
              "\n",
              "  .colab-df-quickchart {\n",
              "    background-color: var(--bg-color);\n",
              "    border: none;\n",
              "    border-radius: 50%;\n",
              "    cursor: pointer;\n",
              "    display: none;\n",
              "    fill: var(--fill-color);\n",
              "    height: 32px;\n",
              "    padding: 0;\n",
              "    width: 32px;\n",
              "  }\n",
              "\n",
              "  .colab-df-quickchart:hover {\n",
              "    background-color: var(--hover-bg-color);\n",
              "    box-shadow: 0 1px 2px rgba(60, 64, 67, 0.3), 0 1px 3px 1px rgba(60, 64, 67, 0.15);\n",
              "    fill: var(--button-hover-fill-color);\n",
              "  }\n",
              "\n",
              "  .colab-df-quickchart-complete:disabled,\n",
              "  .colab-df-quickchart-complete:disabled:hover {\n",
              "    background-color: var(--disabled-bg-color);\n",
              "    fill: var(--disabled-fill-color);\n",
              "    box-shadow: none;\n",
              "  }\n",
              "\n",
              "  .colab-df-spinner {\n",
              "    border: 2px solid var(--fill-color);\n",
              "    border-color: transparent;\n",
              "    border-bottom-color: var(--fill-color);\n",
              "    animation:\n",
              "      spin 1s steps(1) infinite;\n",
              "  }\n",
              "\n",
              "  @keyframes spin {\n",
              "    0% {\n",
              "      border-color: transparent;\n",
              "      border-bottom-color: var(--fill-color);\n",
              "      border-left-color: var(--fill-color);\n",
              "    }\n",
              "    20% {\n",
              "      border-color: transparent;\n",
              "      border-left-color: var(--fill-color);\n",
              "      border-top-color: var(--fill-color);\n",
              "    }\n",
              "    30% {\n",
              "      border-color: transparent;\n",
              "      border-left-color: var(--fill-color);\n",
              "      border-top-color: var(--fill-color);\n",
              "      border-right-color: var(--fill-color);\n",
              "    }\n",
              "    40% {\n",
              "      border-color: transparent;\n",
              "      border-right-color: var(--fill-color);\n",
              "      border-top-color: var(--fill-color);\n",
              "    }\n",
              "    60% {\n",
              "      border-color: transparent;\n",
              "      border-right-color: var(--fill-color);\n",
              "    }\n",
              "    80% {\n",
              "      border-color: transparent;\n",
              "      border-right-color: var(--fill-color);\n",
              "      border-bottom-color: var(--fill-color);\n",
              "    }\n",
              "    90% {\n",
              "      border-color: transparent;\n",
              "      border-bottom-color: var(--fill-color);\n",
              "    }\n",
              "  }\n",
              "</style>\n",
              "\n",
              "  <script>\n",
              "    async function quickchart(key) {\n",
              "      const quickchartButtonEl =\n",
              "        document.querySelector('#' + key + ' button');\n",
              "      quickchartButtonEl.disabled = true;  // To prevent multiple clicks.\n",
              "      quickchartButtonEl.classList.add('colab-df-spinner');\n",
              "      try {\n",
              "        const charts = await google.colab.kernel.invokeFunction(\n",
              "            'suggestCharts', [key], {});\n",
              "      } catch (error) {\n",
              "        console.error('Error during call to suggestCharts:', error);\n",
              "      }\n",
              "      quickchartButtonEl.classList.remove('colab-df-spinner');\n",
              "      quickchartButtonEl.classList.add('colab-df-quickchart-complete');\n",
              "    }\n",
              "    (() => {\n",
              "      let quickchartButtonEl =\n",
              "        document.querySelector('#df-01f94421-6594-4c75-a66e-b4e73148c93b button');\n",
              "      quickchartButtonEl.style.display =\n",
              "        google.colab.kernel.accessAllowed ? 'block' : 'none';\n",
              "    })();\n",
              "  </script>\n",
              "</div>\n",
              "\n",
              "    </div>\n",
              "  </div>\n"
            ]
          },
          "metadata": {},
          "execution_count": 3
        }
      ],
      "source": [
        "!git clone https://github.com/zhukuixi/Udacity_DataScientistNanoDegree\n",
        "\n",
        "import sys\n",
        "sys.path.insert(0,'/content/Udacity_DataScientistNanoDegree/Starbucks_takehome/')\n",
        "\n",
        "# load in packages\n",
        "from itertools import combinations\n",
        "from test_results import test_results, score\n",
        "import numpy as np\n",
        "import pandas as pd\n",
        "import scipy.stats as stats\n",
        "from sklearn.model_selection import RandomizedSearchCV\n",
        "from sklearn.ensemble import RandomForestClassifier\n",
        "import matplotlib.pyplot as plt\n",
        "import seaborn as sns\n",
        "%matplotlib inline\n",
        "\n",
        "# load in the data\n",
        "train_data = pd.read_csv('/content/Udacity_DataScientistNanoDegree/Starbucks_takehome/training.csv')\n",
        "train_data.head()"
      ]
    },
    {
      "cell_type": "code",
      "execution_count": null,
      "metadata": {
        "id": "I33wrLRoPh2_",
        "outputId": "bece0cc6-511f-4358-a687-9f16283f7198",
        "colab": {
          "base_uri": "https://localhost:8080/",
          "height": 143
        }
      },
      "outputs": [
        {
          "output_type": "execute_result",
          "data": {
            "text/plain": [
              "purchase       0    1\n",
              "Promotion            \n",
              "No         41851  319\n",
              "Yes        41643  721"
            ],
            "text/html": [
              "\n",
              "  <div id=\"df-79974143-1808-4e38-90cf-0d830d2334af\" class=\"colab-df-container\">\n",
              "    <div>\n",
              "<style scoped>\n",
              "    .dataframe tbody tr th:only-of-type {\n",
              "        vertical-align: middle;\n",
              "    }\n",
              "\n",
              "    .dataframe tbody tr th {\n",
              "        vertical-align: top;\n",
              "    }\n",
              "\n",
              "    .dataframe thead th {\n",
              "        text-align: right;\n",
              "    }\n",
              "</style>\n",
              "<table border=\"1\" class=\"dataframe\">\n",
              "  <thead>\n",
              "    <tr style=\"text-align: right;\">\n",
              "      <th>purchase</th>\n",
              "      <th>0</th>\n",
              "      <th>1</th>\n",
              "    </tr>\n",
              "    <tr>\n",
              "      <th>Promotion</th>\n",
              "      <th></th>\n",
              "      <th></th>\n",
              "    </tr>\n",
              "  </thead>\n",
              "  <tbody>\n",
              "    <tr>\n",
              "      <th>No</th>\n",
              "      <td>41851</td>\n",
              "      <td>319</td>\n",
              "    </tr>\n",
              "    <tr>\n",
              "      <th>Yes</th>\n",
              "      <td>41643</td>\n",
              "      <td>721</td>\n",
              "    </tr>\n",
              "  </tbody>\n",
              "</table>\n",
              "</div>\n",
              "    <div class=\"colab-df-buttons\">\n",
              "\n",
              "  <div class=\"colab-df-container\">\n",
              "    <button class=\"colab-df-convert\" onclick=\"convertToInteractive('df-79974143-1808-4e38-90cf-0d830d2334af')\"\n",
              "            title=\"Convert this dataframe to an interactive table.\"\n",
              "            style=\"display:none;\">\n",
              "\n",
              "  <svg xmlns=\"http://www.w3.org/2000/svg\" height=\"24px\" viewBox=\"0 -960 960 960\">\n",
              "    <path d=\"M120-120v-720h720v720H120Zm60-500h600v-160H180v160Zm220 220h160v-160H400v160Zm0 220h160v-160H400v160ZM180-400h160v-160H180v160Zm440 0h160v-160H620v160ZM180-180h160v-160H180v160Zm440 0h160v-160H620v160Z\"/>\n",
              "  </svg>\n",
              "    </button>\n",
              "\n",
              "  <style>\n",
              "    .colab-df-container {\n",
              "      display:flex;\n",
              "      gap: 12px;\n",
              "    }\n",
              "\n",
              "    .colab-df-convert {\n",
              "      background-color: #E8F0FE;\n",
              "      border: none;\n",
              "      border-radius: 50%;\n",
              "      cursor: pointer;\n",
              "      display: none;\n",
              "      fill: #1967D2;\n",
              "      height: 32px;\n",
              "      padding: 0 0 0 0;\n",
              "      width: 32px;\n",
              "    }\n",
              "\n",
              "    .colab-df-convert:hover {\n",
              "      background-color: #E2EBFA;\n",
              "      box-shadow: 0px 1px 2px rgba(60, 64, 67, 0.3), 0px 1px 3px 1px rgba(60, 64, 67, 0.15);\n",
              "      fill: #174EA6;\n",
              "    }\n",
              "\n",
              "    .colab-df-buttons div {\n",
              "      margin-bottom: 4px;\n",
              "    }\n",
              "\n",
              "    [theme=dark] .colab-df-convert {\n",
              "      background-color: #3B4455;\n",
              "      fill: #D2E3FC;\n",
              "    }\n",
              "\n",
              "    [theme=dark] .colab-df-convert:hover {\n",
              "      background-color: #434B5C;\n",
              "      box-shadow: 0px 1px 3px 1px rgba(0, 0, 0, 0.15);\n",
              "      filter: drop-shadow(0px 1px 2px rgba(0, 0, 0, 0.3));\n",
              "      fill: #FFFFFF;\n",
              "    }\n",
              "  </style>\n",
              "\n",
              "    <script>\n",
              "      const buttonEl =\n",
              "        document.querySelector('#df-79974143-1808-4e38-90cf-0d830d2334af button.colab-df-convert');\n",
              "      buttonEl.style.display =\n",
              "        google.colab.kernel.accessAllowed ? 'block' : 'none';\n",
              "\n",
              "      async function convertToInteractive(key) {\n",
              "        const element = document.querySelector('#df-79974143-1808-4e38-90cf-0d830d2334af');\n",
              "        const dataTable =\n",
              "          await google.colab.kernel.invokeFunction('convertToInteractive',\n",
              "                                                    [key], {});\n",
              "        if (!dataTable) return;\n",
              "\n",
              "        const docLinkHtml = 'Like what you see? Visit the ' +\n",
              "          '<a target=\"_blank\" href=https://colab.research.google.com/notebooks/data_table.ipynb>data table notebook</a>'\n",
              "          + ' to learn more about interactive tables.';\n",
              "        element.innerHTML = '';\n",
              "        dataTable['output_type'] = 'display_data';\n",
              "        await google.colab.output.renderOutput(dataTable, element);\n",
              "        const docLink = document.createElement('div');\n",
              "        docLink.innerHTML = docLinkHtml;\n",
              "        element.appendChild(docLink);\n",
              "      }\n",
              "    </script>\n",
              "  </div>\n",
              "\n",
              "\n",
              "<div id=\"df-b265bacc-d92c-4041-bf22-bb666aa93b90\">\n",
              "  <button class=\"colab-df-quickchart\" onclick=\"quickchart('df-b265bacc-d92c-4041-bf22-bb666aa93b90')\"\n",
              "            title=\"Suggest charts\"\n",
              "            style=\"display:none;\">\n",
              "\n",
              "<svg xmlns=\"http://www.w3.org/2000/svg\" height=\"24px\"viewBox=\"0 0 24 24\"\n",
              "     width=\"24px\">\n",
              "    <g>\n",
              "        <path d=\"M19 3H5c-1.1 0-2 .9-2 2v14c0 1.1.9 2 2 2h14c1.1 0 2-.9 2-2V5c0-1.1-.9-2-2-2zM9 17H7v-7h2v7zm4 0h-2V7h2v10zm4 0h-2v-4h2v4z\"/>\n",
              "    </g>\n",
              "</svg>\n",
              "  </button>\n",
              "\n",
              "<style>\n",
              "  .colab-df-quickchart {\n",
              "      --bg-color: #E8F0FE;\n",
              "      --fill-color: #1967D2;\n",
              "      --hover-bg-color: #E2EBFA;\n",
              "      --hover-fill-color: #174EA6;\n",
              "      --disabled-fill-color: #AAA;\n",
              "      --disabled-bg-color: #DDD;\n",
              "  }\n",
              "\n",
              "  [theme=dark] .colab-df-quickchart {\n",
              "      --bg-color: #3B4455;\n",
              "      --fill-color: #D2E3FC;\n",
              "      --hover-bg-color: #434B5C;\n",
              "      --hover-fill-color: #FFFFFF;\n",
              "      --disabled-bg-color: #3B4455;\n",
              "      --disabled-fill-color: #666;\n",
              "  }\n",
              "\n",
              "  .colab-df-quickchart {\n",
              "    background-color: var(--bg-color);\n",
              "    border: none;\n",
              "    border-radius: 50%;\n",
              "    cursor: pointer;\n",
              "    display: none;\n",
              "    fill: var(--fill-color);\n",
              "    height: 32px;\n",
              "    padding: 0;\n",
              "    width: 32px;\n",
              "  }\n",
              "\n",
              "  .colab-df-quickchart:hover {\n",
              "    background-color: var(--hover-bg-color);\n",
              "    box-shadow: 0 1px 2px rgba(60, 64, 67, 0.3), 0 1px 3px 1px rgba(60, 64, 67, 0.15);\n",
              "    fill: var(--button-hover-fill-color);\n",
              "  }\n",
              "\n",
              "  .colab-df-quickchart-complete:disabled,\n",
              "  .colab-df-quickchart-complete:disabled:hover {\n",
              "    background-color: var(--disabled-bg-color);\n",
              "    fill: var(--disabled-fill-color);\n",
              "    box-shadow: none;\n",
              "  }\n",
              "\n",
              "  .colab-df-spinner {\n",
              "    border: 2px solid var(--fill-color);\n",
              "    border-color: transparent;\n",
              "    border-bottom-color: var(--fill-color);\n",
              "    animation:\n",
              "      spin 1s steps(1) infinite;\n",
              "  }\n",
              "\n",
              "  @keyframes spin {\n",
              "    0% {\n",
              "      border-color: transparent;\n",
              "      border-bottom-color: var(--fill-color);\n",
              "      border-left-color: var(--fill-color);\n",
              "    }\n",
              "    20% {\n",
              "      border-color: transparent;\n",
              "      border-left-color: var(--fill-color);\n",
              "      border-top-color: var(--fill-color);\n",
              "    }\n",
              "    30% {\n",
              "      border-color: transparent;\n",
              "      border-left-color: var(--fill-color);\n",
              "      border-top-color: var(--fill-color);\n",
              "      border-right-color: var(--fill-color);\n",
              "    }\n",
              "    40% {\n",
              "      border-color: transparent;\n",
              "      border-right-color: var(--fill-color);\n",
              "      border-top-color: var(--fill-color);\n",
              "    }\n",
              "    60% {\n",
              "      border-color: transparent;\n",
              "      border-right-color: var(--fill-color);\n",
              "    }\n",
              "    80% {\n",
              "      border-color: transparent;\n",
              "      border-right-color: var(--fill-color);\n",
              "      border-bottom-color: var(--fill-color);\n",
              "    }\n",
              "    90% {\n",
              "      border-color: transparent;\n",
              "      border-bottom-color: var(--fill-color);\n",
              "    }\n",
              "  }\n",
              "</style>\n",
              "\n",
              "  <script>\n",
              "    async function quickchart(key) {\n",
              "      const quickchartButtonEl =\n",
              "        document.querySelector('#' + key + ' button');\n",
              "      quickchartButtonEl.disabled = true;  // To prevent multiple clicks.\n",
              "      quickchartButtonEl.classList.add('colab-df-spinner');\n",
              "      try {\n",
              "        const charts = await google.colab.kernel.invokeFunction(\n",
              "            'suggestCharts', [key], {});\n",
              "      } catch (error) {\n",
              "        console.error('Error during call to suggestCharts:', error);\n",
              "      }\n",
              "      quickchartButtonEl.classList.remove('colab-df-spinner');\n",
              "      quickchartButtonEl.classList.add('colab-df-quickchart-complete');\n",
              "    }\n",
              "    (() => {\n",
              "      let quickchartButtonEl =\n",
              "        document.querySelector('#df-b265bacc-d92c-4041-bf22-bb666aa93b90 button');\n",
              "      quickchartButtonEl.style.display =\n",
              "        google.colab.kernel.accessAllowed ? 'block' : 'none';\n",
              "    })();\n",
              "  </script>\n",
              "</div>\n",
              "\n",
              "    </div>\n",
              "  </div>\n"
            ]
          },
          "metadata": {},
          "execution_count": 5
        }
      ],
      "source": [
        "# Check the distribution of Promotion and purchase\n",
        "train_data[['Promotion','purchase']].pivot_table(index='Promotion',columns='purchase',aggfunc='size')"
      ]
    },
    {
      "cell_type": "code",
      "source": [
        "# Inspect the data\n",
        "train_data.describe()"
      ],
      "metadata": {
        "id": "Biuyy-q8l5rZ",
        "outputId": "b303ee29-4ad1-4df7-eb62-cd8f48f07806",
        "colab": {
          "base_uri": "https://localhost:8080/",
          "height": 300
        }
      },
      "execution_count": null,
      "outputs": [
        {
          "output_type": "execute_result",
          "data": {
            "text/plain": [
              "                  ID      purchase            V1            V2            V3  \\\n",
              "count   84534.000000  84534.000000  84534.000000  84534.000000  84534.000000   \n",
              "mean    62970.972413      0.012303      1.500662     29.973600      0.000190   \n",
              "std     36418.440539      0.110234      0.868234      5.010626      1.000485   \n",
              "min         1.000000      0.000000      0.000000      7.104007     -1.684550   \n",
              "25%     31467.250000      0.000000      1.000000     26.591501     -0.905350   \n",
              "50%     62827.500000      0.000000      2.000000     29.979744     -0.039572   \n",
              "75%     94438.750000      0.000000      2.000000     33.344593      0.826206   \n",
              "max    126184.000000      1.000000      3.000000     50.375913      1.691984   \n",
              "\n",
              "                 V4            V5            V6            V7  \n",
              "count  84534.000000  84534.000000  84534.000000  84534.000000  \n",
              "mean       1.679608      2.327643      2.502898      1.701694  \n",
              "std        0.466630      0.841167      1.117349      0.457517  \n",
              "min        1.000000      1.000000      1.000000      1.000000  \n",
              "25%        1.000000      2.000000      2.000000      1.000000  \n",
              "50%        2.000000      2.000000      3.000000      2.000000  \n",
              "75%        2.000000      3.000000      4.000000      2.000000  \n",
              "max        2.000000      4.000000      4.000000      2.000000  "
            ],
            "text/html": [
              "\n",
              "  <div id=\"df-b46a50af-49b1-4c4f-b83a-ab34d22f9554\" class=\"colab-df-container\">\n",
              "    <div>\n",
              "<style scoped>\n",
              "    .dataframe tbody tr th:only-of-type {\n",
              "        vertical-align: middle;\n",
              "    }\n",
              "\n",
              "    .dataframe tbody tr th {\n",
              "        vertical-align: top;\n",
              "    }\n",
              "\n",
              "    .dataframe thead th {\n",
              "        text-align: right;\n",
              "    }\n",
              "</style>\n",
              "<table border=\"1\" class=\"dataframe\">\n",
              "  <thead>\n",
              "    <tr style=\"text-align: right;\">\n",
              "      <th></th>\n",
              "      <th>ID</th>\n",
              "      <th>purchase</th>\n",
              "      <th>V1</th>\n",
              "      <th>V2</th>\n",
              "      <th>V3</th>\n",
              "      <th>V4</th>\n",
              "      <th>V5</th>\n",
              "      <th>V6</th>\n",
              "      <th>V7</th>\n",
              "    </tr>\n",
              "  </thead>\n",
              "  <tbody>\n",
              "    <tr>\n",
              "      <th>count</th>\n",
              "      <td>84534.000000</td>\n",
              "      <td>84534.000000</td>\n",
              "      <td>84534.000000</td>\n",
              "      <td>84534.000000</td>\n",
              "      <td>84534.000000</td>\n",
              "      <td>84534.000000</td>\n",
              "      <td>84534.000000</td>\n",
              "      <td>84534.000000</td>\n",
              "      <td>84534.000000</td>\n",
              "    </tr>\n",
              "    <tr>\n",
              "      <th>mean</th>\n",
              "      <td>62970.972413</td>\n",
              "      <td>0.012303</td>\n",
              "      <td>1.500662</td>\n",
              "      <td>29.973600</td>\n",
              "      <td>0.000190</td>\n",
              "      <td>1.679608</td>\n",
              "      <td>2.327643</td>\n",
              "      <td>2.502898</td>\n",
              "      <td>1.701694</td>\n",
              "    </tr>\n",
              "    <tr>\n",
              "      <th>std</th>\n",
              "      <td>36418.440539</td>\n",
              "      <td>0.110234</td>\n",
              "      <td>0.868234</td>\n",
              "      <td>5.010626</td>\n",
              "      <td>1.000485</td>\n",
              "      <td>0.466630</td>\n",
              "      <td>0.841167</td>\n",
              "      <td>1.117349</td>\n",
              "      <td>0.457517</td>\n",
              "    </tr>\n",
              "    <tr>\n",
              "      <th>min</th>\n",
              "      <td>1.000000</td>\n",
              "      <td>0.000000</td>\n",
              "      <td>0.000000</td>\n",
              "      <td>7.104007</td>\n",
              "      <td>-1.684550</td>\n",
              "      <td>1.000000</td>\n",
              "      <td>1.000000</td>\n",
              "      <td>1.000000</td>\n",
              "      <td>1.000000</td>\n",
              "    </tr>\n",
              "    <tr>\n",
              "      <th>25%</th>\n",
              "      <td>31467.250000</td>\n",
              "      <td>0.000000</td>\n",
              "      <td>1.000000</td>\n",
              "      <td>26.591501</td>\n",
              "      <td>-0.905350</td>\n",
              "      <td>1.000000</td>\n",
              "      <td>2.000000</td>\n",
              "      <td>2.000000</td>\n",
              "      <td>1.000000</td>\n",
              "    </tr>\n",
              "    <tr>\n",
              "      <th>50%</th>\n",
              "      <td>62827.500000</td>\n",
              "      <td>0.000000</td>\n",
              "      <td>2.000000</td>\n",
              "      <td>29.979744</td>\n",
              "      <td>-0.039572</td>\n",
              "      <td>2.000000</td>\n",
              "      <td>2.000000</td>\n",
              "      <td>3.000000</td>\n",
              "      <td>2.000000</td>\n",
              "    </tr>\n",
              "    <tr>\n",
              "      <th>75%</th>\n",
              "      <td>94438.750000</td>\n",
              "      <td>0.000000</td>\n",
              "      <td>2.000000</td>\n",
              "      <td>33.344593</td>\n",
              "      <td>0.826206</td>\n",
              "      <td>2.000000</td>\n",
              "      <td>3.000000</td>\n",
              "      <td>4.000000</td>\n",
              "      <td>2.000000</td>\n",
              "    </tr>\n",
              "    <tr>\n",
              "      <th>max</th>\n",
              "      <td>126184.000000</td>\n",
              "      <td>1.000000</td>\n",
              "      <td>3.000000</td>\n",
              "      <td>50.375913</td>\n",
              "      <td>1.691984</td>\n",
              "      <td>2.000000</td>\n",
              "      <td>4.000000</td>\n",
              "      <td>4.000000</td>\n",
              "      <td>2.000000</td>\n",
              "    </tr>\n",
              "  </tbody>\n",
              "</table>\n",
              "</div>\n",
              "    <div class=\"colab-df-buttons\">\n",
              "\n",
              "  <div class=\"colab-df-container\">\n",
              "    <button class=\"colab-df-convert\" onclick=\"convertToInteractive('df-b46a50af-49b1-4c4f-b83a-ab34d22f9554')\"\n",
              "            title=\"Convert this dataframe to an interactive table.\"\n",
              "            style=\"display:none;\">\n",
              "\n",
              "  <svg xmlns=\"http://www.w3.org/2000/svg\" height=\"24px\" viewBox=\"0 -960 960 960\">\n",
              "    <path d=\"M120-120v-720h720v720H120Zm60-500h600v-160H180v160Zm220 220h160v-160H400v160Zm0 220h160v-160H400v160ZM180-400h160v-160H180v160Zm440 0h160v-160H620v160ZM180-180h160v-160H180v160Zm440 0h160v-160H620v160Z\"/>\n",
              "  </svg>\n",
              "    </button>\n",
              "\n",
              "  <style>\n",
              "    .colab-df-container {\n",
              "      display:flex;\n",
              "      gap: 12px;\n",
              "    }\n",
              "\n",
              "    .colab-df-convert {\n",
              "      background-color: #E8F0FE;\n",
              "      border: none;\n",
              "      border-radius: 50%;\n",
              "      cursor: pointer;\n",
              "      display: none;\n",
              "      fill: #1967D2;\n",
              "      height: 32px;\n",
              "      padding: 0 0 0 0;\n",
              "      width: 32px;\n",
              "    }\n",
              "\n",
              "    .colab-df-convert:hover {\n",
              "      background-color: #E2EBFA;\n",
              "      box-shadow: 0px 1px 2px rgba(60, 64, 67, 0.3), 0px 1px 3px 1px rgba(60, 64, 67, 0.15);\n",
              "      fill: #174EA6;\n",
              "    }\n",
              "\n",
              "    .colab-df-buttons div {\n",
              "      margin-bottom: 4px;\n",
              "    }\n",
              "\n",
              "    [theme=dark] .colab-df-convert {\n",
              "      background-color: #3B4455;\n",
              "      fill: #D2E3FC;\n",
              "    }\n",
              "\n",
              "    [theme=dark] .colab-df-convert:hover {\n",
              "      background-color: #434B5C;\n",
              "      box-shadow: 0px 1px 3px 1px rgba(0, 0, 0, 0.15);\n",
              "      filter: drop-shadow(0px 1px 2px rgba(0, 0, 0, 0.3));\n",
              "      fill: #FFFFFF;\n",
              "    }\n",
              "  </style>\n",
              "\n",
              "    <script>\n",
              "      const buttonEl =\n",
              "        document.querySelector('#df-b46a50af-49b1-4c4f-b83a-ab34d22f9554 button.colab-df-convert');\n",
              "      buttonEl.style.display =\n",
              "        google.colab.kernel.accessAllowed ? 'block' : 'none';\n",
              "\n",
              "      async function convertToInteractive(key) {\n",
              "        const element = document.querySelector('#df-b46a50af-49b1-4c4f-b83a-ab34d22f9554');\n",
              "        const dataTable =\n",
              "          await google.colab.kernel.invokeFunction('convertToInteractive',\n",
              "                                                    [key], {});\n",
              "        if (!dataTable) return;\n",
              "\n",
              "        const docLinkHtml = 'Like what you see? Visit the ' +\n",
              "          '<a target=\"_blank\" href=https://colab.research.google.com/notebooks/data_table.ipynb>data table notebook</a>'\n",
              "          + ' to learn more about interactive tables.';\n",
              "        element.innerHTML = '';\n",
              "        dataTable['output_type'] = 'display_data';\n",
              "        await google.colab.output.renderOutput(dataTable, element);\n",
              "        const docLink = document.createElement('div');\n",
              "        docLink.innerHTML = docLinkHtml;\n",
              "        element.appendChild(docLink);\n",
              "      }\n",
              "    </script>\n",
              "  </div>\n",
              "\n",
              "\n",
              "<div id=\"df-eef70ae2-49e2-4035-b7c3-c9ded6dbea73\">\n",
              "  <button class=\"colab-df-quickchart\" onclick=\"quickchart('df-eef70ae2-49e2-4035-b7c3-c9ded6dbea73')\"\n",
              "            title=\"Suggest charts\"\n",
              "            style=\"display:none;\">\n",
              "\n",
              "<svg xmlns=\"http://www.w3.org/2000/svg\" height=\"24px\"viewBox=\"0 0 24 24\"\n",
              "     width=\"24px\">\n",
              "    <g>\n",
              "        <path d=\"M19 3H5c-1.1 0-2 .9-2 2v14c0 1.1.9 2 2 2h14c1.1 0 2-.9 2-2V5c0-1.1-.9-2-2-2zM9 17H7v-7h2v7zm4 0h-2V7h2v10zm4 0h-2v-4h2v4z\"/>\n",
              "    </g>\n",
              "</svg>\n",
              "  </button>\n",
              "\n",
              "<style>\n",
              "  .colab-df-quickchart {\n",
              "      --bg-color: #E8F0FE;\n",
              "      --fill-color: #1967D2;\n",
              "      --hover-bg-color: #E2EBFA;\n",
              "      --hover-fill-color: #174EA6;\n",
              "      --disabled-fill-color: #AAA;\n",
              "      --disabled-bg-color: #DDD;\n",
              "  }\n",
              "\n",
              "  [theme=dark] .colab-df-quickchart {\n",
              "      --bg-color: #3B4455;\n",
              "      --fill-color: #D2E3FC;\n",
              "      --hover-bg-color: #434B5C;\n",
              "      --hover-fill-color: #FFFFFF;\n",
              "      --disabled-bg-color: #3B4455;\n",
              "      --disabled-fill-color: #666;\n",
              "  }\n",
              "\n",
              "  .colab-df-quickchart {\n",
              "    background-color: var(--bg-color);\n",
              "    border: none;\n",
              "    border-radius: 50%;\n",
              "    cursor: pointer;\n",
              "    display: none;\n",
              "    fill: var(--fill-color);\n",
              "    height: 32px;\n",
              "    padding: 0;\n",
              "    width: 32px;\n",
              "  }\n",
              "\n",
              "  .colab-df-quickchart:hover {\n",
              "    background-color: var(--hover-bg-color);\n",
              "    box-shadow: 0 1px 2px rgba(60, 64, 67, 0.3), 0 1px 3px 1px rgba(60, 64, 67, 0.15);\n",
              "    fill: var(--button-hover-fill-color);\n",
              "  }\n",
              "\n",
              "  .colab-df-quickchart-complete:disabled,\n",
              "  .colab-df-quickchart-complete:disabled:hover {\n",
              "    background-color: var(--disabled-bg-color);\n",
              "    fill: var(--disabled-fill-color);\n",
              "    box-shadow: none;\n",
              "  }\n",
              "\n",
              "  .colab-df-spinner {\n",
              "    border: 2px solid var(--fill-color);\n",
              "    border-color: transparent;\n",
              "    border-bottom-color: var(--fill-color);\n",
              "    animation:\n",
              "      spin 1s steps(1) infinite;\n",
              "  }\n",
              "\n",
              "  @keyframes spin {\n",
              "    0% {\n",
              "      border-color: transparent;\n",
              "      border-bottom-color: var(--fill-color);\n",
              "      border-left-color: var(--fill-color);\n",
              "    }\n",
              "    20% {\n",
              "      border-color: transparent;\n",
              "      border-left-color: var(--fill-color);\n",
              "      border-top-color: var(--fill-color);\n",
              "    }\n",
              "    30% {\n",
              "      border-color: transparent;\n",
              "      border-left-color: var(--fill-color);\n",
              "      border-top-color: var(--fill-color);\n",
              "      border-right-color: var(--fill-color);\n",
              "    }\n",
              "    40% {\n",
              "      border-color: transparent;\n",
              "      border-right-color: var(--fill-color);\n",
              "      border-top-color: var(--fill-color);\n",
              "    }\n",
              "    60% {\n",
              "      border-color: transparent;\n",
              "      border-right-color: var(--fill-color);\n",
              "    }\n",
              "    80% {\n",
              "      border-color: transparent;\n",
              "      border-right-color: var(--fill-color);\n",
              "      border-bottom-color: var(--fill-color);\n",
              "    }\n",
              "    90% {\n",
              "      border-color: transparent;\n",
              "      border-bottom-color: var(--fill-color);\n",
              "    }\n",
              "  }\n",
              "</style>\n",
              "\n",
              "  <script>\n",
              "    async function quickchart(key) {\n",
              "      const quickchartButtonEl =\n",
              "        document.querySelector('#' + key + ' button');\n",
              "      quickchartButtonEl.disabled = true;  // To prevent multiple clicks.\n",
              "      quickchartButtonEl.classList.add('colab-df-spinner');\n",
              "      try {\n",
              "        const charts = await google.colab.kernel.invokeFunction(\n",
              "            'suggestCharts', [key], {});\n",
              "      } catch (error) {\n",
              "        console.error('Error during call to suggestCharts:', error);\n",
              "      }\n",
              "      quickchartButtonEl.classList.remove('colab-df-spinner');\n",
              "      quickchartButtonEl.classList.add('colab-df-quickchart-complete');\n",
              "    }\n",
              "    (() => {\n",
              "      let quickchartButtonEl =\n",
              "        document.querySelector('#df-eef70ae2-49e2-4035-b7c3-c9ded6dbea73 button');\n",
              "      quickchartButtonEl.style.display =\n",
              "        google.colab.kernel.accessAllowed ? 'block' : 'none';\n",
              "    })();\n",
              "  </script>\n",
              "</div>\n",
              "\n",
              "    </div>\n",
              "  </div>\n"
            ]
          },
          "metadata": {},
          "execution_count": 6
        }
      ]
    },
    {
      "cell_type": "code",
      "source": [
        "# Check missing value and data type\n",
        "train_data.info()"
      ],
      "metadata": {
        "id": "Sz20cFyHl827",
        "outputId": "7585bfb1-e1e1-403b-fea5-67891dbdbd6c",
        "colab": {
          "base_uri": "https://localhost:8080/"
        }
      },
      "execution_count": null,
      "outputs": [
        {
          "output_type": "stream",
          "name": "stdout",
          "text": [
            "<class 'pandas.core.frame.DataFrame'>\n",
            "RangeIndex: 84534 entries, 0 to 84533\n",
            "Data columns (total 10 columns):\n",
            " #   Column     Non-Null Count  Dtype  \n",
            "---  ------     --------------  -----  \n",
            " 0   ID         84534 non-null  int64  \n",
            " 1   Promotion  84534 non-null  object \n",
            " 2   purchase   84534 non-null  int64  \n",
            " 3   V1         84534 non-null  int64  \n",
            " 4   V2         84534 non-null  float64\n",
            " 5   V3         84534 non-null  float64\n",
            " 6   V4         84534 non-null  int64  \n",
            " 7   V5         84534 non-null  int64  \n",
            " 8   V6         84534 non-null  int64  \n",
            " 9   V7         84534 non-null  int64  \n",
            "dtypes: float64(2), int64(7), object(1)\n",
            "memory usage: 6.4+ MB\n"
          ]
        }
      ]
    },
    {
      "cell_type": "markdown",
      "source": [
        "# Check the invariant metrics\n",
        "Before we answer the questions, we need to check on the invariant metrics (the number of samples in case and control group) does not show any statisticaly signifcant difference.\n",
        "\n",
        "It's important to check this as a prerequisite so that the following inferences on the evaluation metrics are founded on solid ground.\n",
        "\n",
        "We could do it in either analytical way or non-parametric way (Bootstrapping).\n"
      ],
      "metadata": {
        "id": "If9DbaDA3JNN"
      }
    },
    {
      "cell_type": "markdown",
      "source": [
        "## Analytical Analysis\n",
        "\n",
        "It is essentialy a hypothesis test for one ratio from one population.  \n",
        "\n",
        "$$ H_{0}: \\frac{cust_{treat}}{n} = 0.5 $$\n",
        "$$ H_{a}: \\frac{cust_{treat}}{n} \\ne 0.5 $$\n",
        "$$ \\alpha = 0.05 $$\n",
        "\n",
        "\n",
        "Since $p_{null} = 0.5$ and n = 84534.  \n",
        "$$n * p_{null} >=5$$  \n",
        "$$n * (1-p_{null}) >= 5$$  \n",
        "It is safe to say that we can use normal distribution to approximate the binomial distribution and use z-test."
      ],
      "metadata": {
        "id": "oQ1Atl1l5P0P"
      }
    },
    {
      "cell_type": "code",
      "source": [
        "import scipy.stats as stats\n",
        "\n",
        "n = train_data.shape[0]\n",
        "cnt = sum(train_data['Promotion']=='Yes')\n",
        "p_observe = cnt / n\n",
        "p_null = 0.5\n",
        "mean = p_null\n",
        "variance = p_null * (1 - p_null) / n\n",
        "z = (mean - p_observe) / np.sqrt(variance)\n",
        "p_value = None\n",
        "if z < 0:\n",
        "  p_value = 2 * (stats.norm.cdf(z))\n",
        "else:\n",
        "  p_value = 2 * (1 - stats.norm.cdf(z))\n",
        "\n",
        "print('p_value:',p_value)\n"
      ],
      "metadata": {
        "id": "je4zK-f65G1b",
        "outputId": "6ed787d9-3f8b-4fd5-f144-431cc4e4f1e4",
        "colab": {
          "base_uri": "https://localhost:8080/"
        }
      },
      "execution_count": null,
      "outputs": [
        {
          "output_type": "stream",
          "name": "stdout",
          "text": [
            "p_value: 0.5046149723893156\n"
          ]
        }
      ]
    },
    {
      "cell_type": "markdown",
      "source": [
        "Similarily, we can use function from statsmodels packge to get the same result."
      ],
      "metadata": {
        "id": "6kqxcODg_Unm"
      }
    },
    {
      "cell_type": "code",
      "source": [
        "from statsmodels.stats.proportion import proportions_ztest,proportion_confint\n",
        "z,p_value = proportions_ztest(cnt,n,value=0.5)\n",
        "print('p_value:', p_value)\n",
        "lower_limit,upper_limit = proportion_confint(cnt,n,alpha=0.05)\n",
        "print(\"\\nConfidence intervals (Type I error rate = 0.05):\\n\"\n",
        "     \"Lower Limit:\", lower_limit,\"\\n\"\n",
        "     \"Upper Limit:\", upper_limit)"
      ],
      "metadata": {
        "id": "ydhEcMIS9VwV",
        "outputId": "591192cd-f115-4e16-8f3d-ec23f6a949b2",
        "colab": {
          "base_uri": "https://localhost:8080/"
        }
      },
      "execution_count": null,
      "outputs": [
        {
          "output_type": "stream",
          "name": "stdout",
          "text": [
            "p_value: 0.504613850214656\n",
            "\n",
            "Confidence intervals (Type I error rate = 0.05):\n",
            "Lower Limit: 0.4977769136596477 \n",
            "Upper Limit: 0.5045180209228872\n"
          ]
        }
      ]
    },
    {
      "cell_type": "markdown",
      "source": [
        "##  Conclusion"
      ],
      "metadata": {
        "id": "VsNGp83PHasf"
      }
    },
    {
      "cell_type": "markdown",
      "source": [
        "From the analytical analysis, we see that the p-value is less than the significance value (0.05) and thus we failed to reject the null hypothesis.\n",
        "\n",
        "Thus, we can conclude that there is no statistically different between the size of case and control group and we are good to back to our questions."
      ],
      "metadata": {
        "id": "z-h9sNXj_cbB"
      }
    },
    {
      "cell_type": "markdown",
      "source": [
        "# Q1: The impact of treatment on IRR and NIR\n",
        "\n",
        "Questions:   \n",
        "1) Analyze the results of the experiment and identify the effect of the Treatment on product purchase and Net Incremental Revenue   "
      ],
      "metadata": {
        "id": "wH6Dv4gKH3OG"
      }
    },
    {
      "cell_type": "markdown",
      "source": [
        "## IRR\n",
        "\n",
        "* **Incremental Response Rate (IRR)**\n",
        "\n",
        "$$ IRR = \\frac{purch_{treat}}{cust_{treat}} - \\frac{purch_{ctrl}}{cust_{ctrl}} $$"
      ],
      "metadata": {
        "id": "gIO6FLmTN0aI"
      }
    },
    {
      "cell_type": "markdown",
      "source": [
        "IRR is essentialy the difference of two ratios from two independent popluation. Thus, we can use analytical approach as well as non-parametric approach (permutation and bootstrapping) to see if there is any statistically difference between treatment and control group.\n",
        "\n",
        "### Analytical Analysis\n",
        "\n",
        "$$ H_{0}: \\frac{purch_{treat}}{cust_{treat}} \\le \\frac{purch_{ctrl}}{cust_{ctrl}} $$\n",
        "$$ H_{a}: \\frac{purch_{treat}}{cust_{treat}} < \\frac{purch_{ctrl}}{cust_{ctrl}} $$\n",
        "$$ \\alpha = 0.05 $$  \n",
        "\n",
        "Since we got IRR and NIR, two measurements here we need to correct the signifiance value. Here I will use Bonferroni correction:\n",
        " $$\\alpha_{correctd} = \\frac {\\alpha}{number\\;of\\;measurements} = \\frac {0.05}{2} = 0.025 $$"
      ],
      "metadata": {
        "id": "2mjW-mEUPJO0"
      }
    },
    {
      "cell_type": "code",
      "source": [
        "purch_treat = train_data.query('Promotion==\"Yes\" and purchase==1').shape[0]\n",
        "purch_ctrl = train_data.query('Promotion==\"No\" and purchase==1').shape[0]\n",
        "cust_treat = train_data.query('Promotion==\"Yes\"').shape[0]\n",
        "cust_ctrl = train_data.query('Promotion==\"No\"').shape[0]\n",
        "\n",
        "p_null = (purch_treat + purch_ctrl) / (cust_treat + cust_ctrl)\n",
        "\n",
        "sd = np.sqrt(p_null * (1-p_null) * (1/cust_treat + 1/cust_ctrl))\n",
        "p_observe_diff = purch_treat/cust_treat - purch_ctrl/cust_ctrl\n",
        "z = p_observe_diff / sd\n",
        "\n",
        "p_value = (1-stats.norm.cdf(z))\n",
        "print('z statistics:',z)\n",
        "print('p_value:',p_value)"
      ],
      "metadata": {
        "id": "P-Z6qqFPSL7h",
        "outputId": "cbb17ba9-ff83-4193-b3c2-5e69ac282fab",
        "colab": {
          "base_uri": "https://localhost:8080/"
        }
      },
      "execution_count": null,
      "outputs": [
        {
          "output_type": "stream",
          "name": "stdout",
          "text": [
            "z statistics: 12.468449461599388\n",
            "p_value: 0.0\n"
          ]
        }
      ]
    },
    {
      "cell_type": "markdown",
      "source": [
        "Similarily, packge statsmodel shows the same result:"
      ],
      "metadata": {
        "id": "6SHgqh0cUKuK"
      }
    },
    {
      "cell_type": "code",
      "source": [
        "from statsmodels.stats.proportion import test_proportions_2indep\n",
        "test_proportions_2indep(purch_treat,cust_treat,purch_ctrl,cust_ctrl,alternative=\"larger\")"
      ],
      "metadata": {
        "id": "w_jFM8bfTM4c",
        "outputId": "b65568f6-8971-46e8-82e7-9dde0648f7b9",
        "colab": {
          "base_uri": "https://localhost:8080/"
        }
      },
      "execution_count": null,
      "outputs": [
        {
          "output_type": "execute_result",
          "data": {
            "text/plain": [
              "<class 'statsmodels.stats.base.HolderTuple'>\n",
              "statistic = 12.478801225623789\n",
              "pvalue = 4.872132410268863e-36\n",
              "compare = 'diff'\n",
              "method = 'agresti-caffo'\n",
              "diff = 0.009454547819772702\n",
              "ratio = 2.24983787322826\n",
              "odds_ratio = 2.2714773590145283\n",
              "variance = 5.739644071787668e-07\n",
              "alternative = 'larger'\n",
              "value = 0\n",
              "tuple = (12.478801225623789, 4.872132410268863e-36)"
            ]
          },
          "metadata": {},
          "execution_count": 12
        }
      ]
    },
    {
      "cell_type": "markdown",
      "source": [
        "### Permutation Analysis"
      ],
      "metadata": {
        "id": "AVPZmy8uUV8A"
      }
    },
    {
      "cell_type": "code",
      "execution_count": null,
      "metadata": {
        "id": "a4GLF2KNPh3A"
      },
      "outputs": [],
      "source": [
        "def compute_IRR(df):\n",
        "  \"\"\"\n",
        "  Compute the IRR value for the input dataset\n",
        "\n",
        "  Input parameters:\n",
        "      df: pandas dataframe\n",
        "  Output value:\n",
        "      IRR: [float]\n",
        "  \"\"\"\n",
        "  purch_treat = df.query('Promotion==\"Yes\" and purchase==1').shape[0]\n",
        "  purch_ctrl = df.query('Promotion==\"No\" and purchase==1').shape[0]\n",
        "  cust_treat = df.query('Promotion==\"Yes\"').shape[0]\n",
        "  cust_ctrl = df.query('Promotion==\"No\"').shape[0]\n",
        "  IRR = purch_treat / cust_treat - purch_ctrl / cust_ctrl\n",
        "  return IRR\n",
        "\n",
        "def permutation_IRR(df):\n",
        "  \"\"\"\n",
        "  Generate the IRR values by permutation the 'Promotion' group label\n",
        "  on input dataset\n",
        "\n",
        "  Input parameters:\n",
        "      df: pandas dataframe\n",
        "  Output value:\n",
        "      record: [list] a list containing the IRR values from permutation\n",
        "      real_IRR: [float] the observed IRR value from dataset\n",
        "  \"\"\"\n",
        "\n",
        "  n_trials = 1000\n",
        "  real_IRR = compute_IRR(df)\n",
        "  record = []\n",
        "  cust_treat = df.query('Promotion==\"Yes\"').shape[0]\n",
        "  cust_ctrl = df.query('Promotion==\"No\"').shape[0]\n",
        "\n",
        "  for _ in range(n_trials):\n",
        "    temp_label = np.random.permutation(df['Promotion'])\n",
        "    purch_treat = df.loc[(temp_label=='Yes') & (df['purchase']==1)].shape[0]\n",
        "    purch_ctrl = df.loc[(temp_label=='No') & (df['purchase']==1)].shape[0]\n",
        "    temp_IRR = purch_treat / cust_treat - purch_ctrl / cust_ctrl\n",
        "    record.append(temp_IRR)\n",
        "  return record,real_IRR\n"
      ]
    },
    {
      "cell_type": "code",
      "execution_count": null,
      "metadata": {
        "id": "q7uryzFDPh3A"
      },
      "outputs": [],
      "source": [
        "record,real_IRR = permutation_IRR(train_data)"
      ]
    },
    {
      "cell_type": "code",
      "source": [
        "def drawPermutationGraph(permutation_value,observed_value,value_name,alternative='two-sided'):\n",
        "  \"\"\"\n",
        "  Generate a histogram of the permutation values to form a null\n",
        "  distribution.\n",
        "  Draw a vertical line for the observed value for comparison.\n",
        "  It will return the empirical p-value.\n",
        "\n",
        "  Input parameters:\n",
        "      permutation_value: [list] a list containing values generated\n",
        "                from permutation\n",
        "      observed_value: [float] the observed value\n",
        "      value_name: [str] the name of observed value\n",
        "      alternative: [str] the way to generate the empirical p-value,\n",
        "             it could be:\n",
        "              'two-sided': the empricial p-value is the ratio\n",
        "                     of permutation values with absolute\n",
        "                     value larger than that of observed\n",
        "                     value\n",
        "              'larger': the empricial p-value is the ratio\n",
        "                    of permutation values larger than\n",
        "                    or equal to the observed value\n",
        "              'smaller': the empricial p-value is the ratio\n",
        "                    of permutation values smaller than\n",
        "                    or equal to the observed value\n",
        "\n",
        "  Output value:\n",
        "      empirical_pvalue: [float] the empirical p-value\n",
        "  \"\"\"\n",
        "\n",
        "  # Compute the empirical p-value\n",
        "  empirical_pvalue = None\n",
        "  if alternative == 'larger':\n",
        "    empirical_pvalue = len(list(filter(lambda x:x>=observed_value,permutation_value))) / len(permutation_value)\n",
        "  elif alternative == 'smaller':\n",
        "    empirical_pvalue = len(list(filter(lambda x:x<=observed_value,permutation_value))) / len(permutation_value)\n",
        "  elif alternative == 'two-sided':\n",
        "    empirical_pvalue = len(list(filter(lambda x:abs(x)>=abs(observed_value),permutation_value))) / len(permutation_value)\n",
        "\n",
        "  # Create a histogram\n",
        "  plt.figure(figsize=(20,5))\n",
        "  sns.histplot(permutation_value,color='grey',label = '{} under null hypothesis'.format(value_name))\n",
        "  plt.title(\"The Distribution of {} under the Null Hypothesis and the Observed {}\".format(value_name,value_name))\n",
        "  plt.axvline(x=observed_value, color='orange',label = \"Observed {}\".format(value_name))\n",
        "  plt.xlabel(value_name)\n",
        "  plt.legend();\n",
        "  plt.show();\n",
        "  print('empirical pvalue:',empirical_pvalue)\n",
        "  return empirical_pvalue\n",
        "\n",
        "empirical_pvalue = drawPermutationGraph(record,real_IRR,'IRR','larger')"
      ],
      "metadata": {
        "id": "HK5zhmZ4YFUN",
        "outputId": "08035051-67cf-4551-a866-6259fbe28628",
        "colab": {
          "base_uri": "https://localhost:8080/",
          "height": 354
        }
      },
      "execution_count": null,
      "outputs": [
        {
          "output_type": "display_data",
          "data": {
            "text/plain": [
              "<Figure size 2000x500 with 1 Axes>"
            ],
            "image/png": "[encoded data removed]"
          },
          "metadata": {}
        },
        {
          "output_type": "stream",
          "name": "stdout",
          "text": [
            "empirical pvalue: 0.0\n"
          ]
        }
      ]
    },
    {
      "cell_type": "markdown",
      "source": [
        "### Bootstrapping Analysis"
      ],
      "metadata": {
        "id": "iDeFRAeFvmKI"
      }
    },
    {
      "cell_type": "code",
      "source": [
        "def compute_NIR(df):\n",
        "  \"\"\"\n",
        "  Compute the NIR value for the input dataset\n",
        "\n",
        "  Input parameters:\n",
        "      df: pandas dataframe\n",
        "  Output value:\n",
        "      NIR: [float]\n",
        "  \"\"\"\n",
        "  purch_treat = df.query('Promotion==\"Yes\" and purchase==1').shape[0]\n",
        "  purch_ctrl = df.query('Promotion==\"No\" and purchase==1').shape[0]\n",
        "  cust_treat = df.query('Promotion==\"Yes\"').shape[0]\n",
        "  NIR = 10 * purch_treat - 0.15 * cust_treat - 10 * purch_ctrl\n",
        "  return NIR\n",
        "\n",
        "def bootstrapping(df,metric = None):\n",
        "  \"\"\"\n",
        "  Genearte the bootstrapping values of the given metric\n",
        "\n",
        "  Input parameters:\n",
        "      df: pandas dataframe\n",
        "      metric: [str] the name of the metric, it could be:\n",
        "           'IRR'\n",
        "           'NIR'\n",
        "  Output value:\n",
        "      record: [list] a list containing the bootstrapping values\n",
        "  \"\"\"\n",
        "  n_trials = 1000\n",
        "  record = []\n",
        "  for _ in range(n_trials):\n",
        "    temp_df = df.sample(frac=1,replace=True)\n",
        "    if metric == 'IRR':\n",
        "      temp_IRR = compute_IRR(temp_df)\n",
        "      record.append(temp_IRR)\n",
        "    elif metric == 'NIR':\n",
        "      temp_NIR = compute_NIR(temp_df)\n",
        "      record.append(temp_NIR)\n",
        "  return record\n"
      ],
      "metadata": {
        "id": "8Tt5WxLQvrMp"
      },
      "execution_count": null,
      "outputs": []
    },
    {
      "cell_type": "code",
      "source": [
        "bootstrap_IRR = bootstrapping(train_data,'IRR')\n",
        "real_IRR = compute_IRR(train_data)\n"
      ],
      "metadata": {
        "id": "K_nqW7qowaQy"
      },
      "execution_count": null,
      "outputs": []
    },
    {
      "cell_type": "code",
      "source": [
        "def drawBootstrappingGraph(bootstrap_value,observed_value,value_name,alternative='two-sided',null_mean=0,alpha=0.05):\n",
        "  \"\"\"\n",
        "  Generate a histogram of the bootstrap metric values and a\n",
        "  histogram of the metric value under null hypothesis side by side\n",
        "  for comparison.\n",
        "\n",
        "\n",
        "\n",
        "  Input parameters:\n",
        "      bootstrap_value: [list] a list containing values generated\n",
        "                from bootstrapping\n",
        "      observed_value: [float] the observed value\n",
        "      value_name: [str] the name of observed value\n",
        "      alternative: [str] a string indicating the way to generate\n",
        "                the p-value,it could be:\n",
        "            'two-sided': the p-value is the probability\n",
        "                    that sampling a value from the\n",
        "                    null hypothesis and the value is\n",
        "                    as extreme or more extreme than\n",
        "                    that the observed value\n",
        "            'larger': the p-value is the probability\n",
        "                  that sampling a value from the\n",
        "                  null hypothesis and the value is\n",
        "                  larger than the observed value\n",
        "            'smaller': the p-value is the probability\n",
        "                    that sampling a value from the\n",
        "                    null hypothesis and the value is\n",
        "                    smaller than the observed value\n",
        "\n",
        "  Output value:\n",
        "      p_value: [float] the p-value\n",
        "  \"\"\"\n",
        "  confidence = 1 - alpha\n",
        "  lower_limit = np.percentile(bootstrap_value, (1 - confidence)/2 * 100)\n",
        "  upper_limit = np.percentile(bootstrap_value, (1 + confidence)/2 * 100)\n",
        "  std_bootstrap = np.std(bootstrap_value)\n",
        "  p_value = None\n",
        "  z = (observed_value - null_mean) / std_bootstrap\n",
        "  if alternative == 'two-sided':\n",
        "    if z > 0:\n",
        "      p_value = 2 * (1 - stats.norm.cdf(z,0,1))\n",
        "    else:\n",
        "      p_value = 2 * (stats.norm.cdf(z,0,1))\n",
        "  elif alternative == 'larger':\n",
        "    p_value = 1 - stats.norm.cdf(z,0,1)\n",
        "  elif alternative == 'smaller':\n",
        "    p_value = stats.norm.cdf(z,0,1)\n",
        "\n",
        "\n",
        "  # Create a histogram\n",
        "  plt.figure(figsize=(20,5))\n",
        "  null_distribution = np.random.normal(null_mean,std_bootstrap,len(bootstrap_value))\n",
        "  sns.histplot(bootstrap_value,color='blue',label='{} from bootstrapping'.format(value_name))\n",
        "  sns.histplot(null_distribution,color='grey',label = '{} under null hypothesis'.format(value_name))\n",
        "  plt.title(\"The Distribution of {} under the Null Hypothesis \\n v.s \\n The Distribution of {} from Bootstrapping\".format(value_name,value_name))\n",
        "  plt.axvline(x=0, color='red')\n",
        "  plt.axvline(x=observed_value, color='orange',label = \"Observed {}\".format(value_name))\n",
        "  plt.axvline(x=lower_limit, color='blue',linestyle='--')\n",
        "  plt.axvline(x=upper_limit, color='blue',linestyle='--',label='{}% confidence interval of bootstrapping'.format(confidence*100))\n",
        "  plt.xlabel(value_name)\n",
        "  plt.legend();\n",
        "  plt.show();\n",
        "  print('p-value:',p_value)\n",
        "  return p_value\n",
        "\n",
        "corrected_alpha = 0.025\n",
        "p_value = drawBootstrappingGraph(bootstrap_IRR,real_IRR,'IRR',alternative='larger',null_mean=0,alpha=corrected_alpha)\n",
        "\n"
      ],
      "metadata": {
        "id": "6GyLWh9gwspu",
        "outputId": "980a2f0c-d832-4bab-dc5c-eb7e88895a5d",
        "colab": {
          "base_uri": "https://localhost:8080/",
          "height": 385
        }
      },
      "execution_count": null,
      "outputs": [
        {
          "output_type": "display_data",
          "data": {
            "text/plain": [
              "<Figure size 2000x500 with 1 Axes>"
            ],
            "image/png": "[encoded data removed]"
          },
          "metadata": {}
        },
        {
          "output_type": "stream",
          "name": "stdout",
          "text": [
            "p-value: 0.0\n"
          ]
        }
      ]
    },
    {
      "cell_type": "markdown",
      "source": [
        "## Conclusion of IRR"
      ],
      "metadata": {
        "id": "YB2xHZeQrn9E"
      }
    },
    {
      "cell_type": "markdown",
      "source": [
        "From the bootstrapping analysis graph, we see that the confidence interval of bootstrapping values does not include the difference of zero. Additionly,\n",
        "all the p-values from the above analysises are under $\\alpha_{corrected}$. Thus, we can reject our null hypothesis and conclude that IRR is statistically significant larger in treatment group.\n",
        "\n",
        "\n"
      ],
      "metadata": {
        "id": "TupLAwzRql1l"
      }
    },
    {
      "cell_type": "markdown",
      "source": [
        "## NIR\n",
        "* **Net Incremental Revenue (NIR)**\n",
        "\n",
        "$$ NIR = (10\\cdot purch_{treat} - 0.15 \\cdot cust_{treat}) - 10 \\cdot purch_{ctrl}$$\n",
        "\n",
        "Unlike IRR, which is the difference with two ratios from 2 independent poplations and thus allow a formal hypothesis test. For NIR, we can only use non-parametric method (bootstrapping) here."
      ],
      "metadata": {
        "id": "JXUUiv85Zdh4"
      }
    },
    {
      "cell_type": "markdown",
      "source": [
        "### Bootstrapping Analysis\n",
        "\n",
        "$$ H_{0}: NIR \\le 0 $$\n",
        "$$ H_{a}: NIR > 0 $$\n",
        "\n",
        "$$ \\alpha = 0.05 $$  \n",
        "\n",
        "Since we got IRR and NIR these two measurements here. We need to correct the signifiance value. Here I will use Bonferroni correction:\n",
        " $$\\alpha_{correctd} = \\frac {\\alpha}{number\\;of\\;measurements} = \\frac {0.05}{2} = 0.025 $$"
      ],
      "metadata": {
        "id": "482nCaxraBKy"
      }
    },
    {
      "cell_type": "code",
      "execution_count": null,
      "metadata": {
        "id": "3RyhZrwbPh3B"
      },
      "outputs": [],
      "source": [
        "real_NIR = compute_NIR(train_data)\n",
        "bootstrapped_NIR = bootstrapping(train_data,'NIR')"
      ]
    },
    {
      "cell_type": "code",
      "source": [
        "p_value = drawBootstrappingGraph(bootstrapped_NIR,real_NIR,'NIR',alternative='larger',null_mean=0,alpha=corrected_alpha)"
      ],
      "metadata": {
        "id": "2AkFy-lZp5LS",
        "outputId": "edefe272-37a3-45a8-cbcb-bf1807c3d425",
        "colab": {
          "base_uri": "https://localhost:8080/",
          "height": 567
        }
      },
      "execution_count": null,
      "outputs": [
        {
          "output_type": "display_data",
          "data": {
            "text/plain": [
              "<Figure size 2000x500 with 1 Axes>"
            ],
            "image/png": "[encoded data removed]"
          },
          "metadata": {}
        },
        {
          "output_type": "stream",
          "name": "stdout",
          "text": [
            "p-value: 0.9999999999999768\n"
          ]
        }
      ]
    },
    {
      "cell_type": "markdown",
      "source": [
        "## Conclusion of NIR\n",
        "\n",
        "From the bootstrapping analysis graph, we see that the confidence interval of bootstrapping values does not include the difference of zero. Additionly,\n",
        "the p-value is larger than $\\alpha_{corrected}$. Thus, we cannot reject our null hypothesis"
      ],
      "metadata": {
        "id": "gluKYw0OG2Mr"
      }
    },
    {
      "cell_type": "markdown",
      "source": [
        "## Conclusion of Q1\n",
        "\n",
        "The promotional strategy significantly increased the IRR but failed to positively impact the Net Incremental Revenue.\n",
        "\n",
        "Although the purchase rate is statistically significantly higher among individuals who received the promotion compared to those who did not, the increase in purchase rate does not offset the cost of the promotion, resulting in a negative Net Incremental Revenue (NIR).\n",
        "\n",
        "Consequently, to enhance the NIR and refine our targeted promotion strategy, we plan to develop a machine learning model. This model will be designed to accurately identify potential customers who are more inclined to make a purchase upon receiving a promotion.\n"
      ],
      "metadata": {
        "id": "6udwjaMLJj6T"
      }
    },
    {
      "cell_type": "markdown",
      "source": [
        "# Q2: Use Machine learning model to improve targeted promotion"
      ],
      "metadata": {
        "id": "NM97rmRPaJkY"
      }
    },
    {
      "cell_type": "code",
      "source": [
        "train_data\n",
        "X = train_data.drop(['ID','Promotion','purchase'],axis=1)\n",
        "y = train_data['purchase']"
      ],
      "metadata": {
        "id": "tpreXoMDo676"
      },
      "execution_count": null,
      "outputs": []
    },
    {
      "cell_type": "code",
      "source": [
        "def tuneRFmodel(X,y):\n",
        "  clf = RandomForestClassifier(class_weight='balanced_subsample')\n",
        "  param_dist = {\n",
        "    'max_samples':[None,0.5,0.7,0.9],\n",
        "    'max_depth' : [int(x) for x in np.linspace(start=1, stop=30, num = 10)],\n",
        "    'n_estimators':[int(x) for x in np.linspace(start = 100, stop = 2000, num = 20)]\n",
        "  }\n",
        "  # run randomized search\n",
        "  n_iter_search = 40\n",
        "  random_search = RandomizedSearchCV(\n",
        "      clf, param_distributions=param_dist,cv=3,n_iter=n_iter_search,n_jobs=4,scoring='roc_auc'\n",
        "  )\n",
        "  return random_search.fit(X,y)\n",
        "\n",
        "X = train_data.drop(['ID','Promotion','purchase'],axis=1)\n",
        "y = train_data['purchase']\n",
        "model = tuneRFmodel(X,y)\n",
        "\n",
        "\n"
      ],
      "metadata": {
        "colab": {
          "base_uri": "https://localhost:8080/"
        },
        "id": "hMf5TfzQojzC",
        "outputId": "4ab4edbe-6de3-4625-9d58-edc36852c16a"
      },
      "execution_count": null,
      "outputs": [
        {
          "output_type": "stream",
          "name": "stderr",
          "text": [
            "/usr/local/lib/python3.10/dist-packages/joblib/externals/loky/process_executor.py:752: UserWarning: A worker stopped while some jobs were given to the executor. This can be caused by a too short worker timeout or by a memory leak.\n",
            "  warnings.warn(\n"
          ]
        }
      ]
    },
    {
      "cell_type": "code",
      "source": [
        "# Check the classifier's performance of training data\n",
        "from sklearn.metrics import classification_report\n",
        "y_predicted = model.predict(X)\n",
        "print(classification_report(y, y_predicted))"
      ],
      "metadata": {
        "colab": {
          "base_uri": "https://localhost:8080/"
        },
        "id": "CZeomMqEGIkv",
        "outputId": "3f6a361d-7891-4640-efea-1285d6db5e98"
      },
      "execution_count": null,
      "outputs": [
        {
          "output_type": "stream",
          "name": "stdout",
          "text": [
            "              precision    recall  f1-score   support\n",
            "\n",
            "           0       0.99      0.55      0.71     83494\n",
            "           1       0.02      0.69      0.04      1040\n",
            "\n",
            "    accuracy                           0.55     84534\n",
            "   macro avg       0.51      0.62      0.37     84534\n",
            "weighted avg       0.98      0.55      0.70     84534\n",
            "\n"
          ]
        }
      ]
    },
    {
      "cell_type": "code",
      "source": [
        "# Check the changes in IRR and NIR between old and new strategies\n",
        "y_predicted = ['Yes' if p==1 else 'No' for p in y_predicted]\n",
        "temp_train = train_data.copy()\n",
        "temp_train['Promotion'] = y_predicted\n",
        "old_IRR = compute_IRR(train_data)\n",
        "new_IRR = compute_IRR(temp_train)\n",
        "old_NIR = compute_NIR(train_data)\n",
        "new_NIR = compute_NIR(temp_train)\n",
        "df_IRR = pd.DataFrame({'IRR':[old_IRR,new_IRR],'Strategy':['old','new']})\n",
        "df_NIR = pd.DataFrame({'NIR':[old_NIR,new_NIR],'Strategy':['old','new']})\n",
        "\n",
        "# Visualize the result\n",
        "fig, axes = plt.subplots(2, 1, figsize=(7, 7))\n",
        "fig.suptitle('Comparison of IRR and NIR Metric between Old and New Strategy')\n",
        "ax = sns.barplot(ax=axes[0], data=df_IRR, x='Strategy', y='IRR')\n",
        "ax.bar_label(ax.containers[0])\n",
        "ax = sns.barplot(ax=axes[1], data=df_NIR, x='Strategy', y='NIR')\n",
        "ax.bar_label(ax.containers[0])\n",
        "fig.show();\n"
      ],
      "metadata": {
        "colab": {
          "base_uri": "https://localhost:8080/",
          "height": 689
        },
        "id": "HrQQgdDHKhIQ",
        "outputId": "9f0f87de-97f7-45e0-b2ea-61f3ce838427"
      },
      "execution_count": null,
      "outputs": [
        {
          "output_type": "display_data",
          "data": {
            "text/plain": [
              "<Figure size 700x700 with 2 Axes>"
            ],
            "image/png": "[encoded data removed]"
          },
          "metadata": {}
        }
      ]
    },
    {
      "cell_type": "code",
      "execution_count": null,
      "metadata": {
        "id": "vlqQFKGPPh3B"
      },
      "outputs": [],
      "source": [
        "def promotion_strategy(df,model):\n",
        "    '''\n",
        "    INPUT\n",
        "    df - a dataframe with *only* the columns V1 - V7 (same as train_data)\n",
        "\n",
        "    OUTPUT\n",
        "    promotion_df - np.array with the values\n",
        "                   'Yes' or 'No' related to whether or not an\n",
        "                   individual should recieve a promotion\n",
        "                   should be the length of df.shape[0]\n",
        "\n",
        "    Ex:\n",
        "    INPUT: df\n",
        "\n",
        "    V1\tV2\t  V3\tV4\tV5\tV6\tV7\n",
        "    2\t30\t-1.1\t1\t1\t3\t2\n",
        "    3\t32\t-0.6\t2\t3\t2\t2\n",
        "    2\t30\t0.13\t1\t1\t4\t2\n",
        "\n",
        "    OUTPUT: promotion\n",
        "\n",
        "    array(['Yes', 'Yes', 'No'])\n",
        "    indicating the first two users would recieve the promotion and\n",
        "    the last should not.\n",
        "    '''\n",
        "    predicted_y = model.predict(df)\n",
        "    promotion = np.array([\"Yes\" if p==1 else \"No\" for p in predicted_y])\n",
        "    return promotion"
      ]
    },
    {
      "cell_type": "code",
      "execution_count": null,
      "metadata": {
        "id": "S-hI0gWZPh3B",
        "outputId": "ca54ac0f-d13c-456c-a662-05f8e069be16",
        "colab": {
          "base_uri": "https://localhost:8080/"
        }
      },
      "outputs": [
        {
          "output_type": "stream",
          "name": "stdout",
          "text": [
            "Nice job!  See how well your strategy worked on our test data below!\n",
            "\n",
            "Your irr with this strategy is 0.0195.\n",
            "\n",
            "Your nir with this strategy is 407.55.\n",
            "We came up with a model with an irr of 0.0188 and an nir of 189.45 on the test set.\n",
            "\n",
            " How did you do?\n"
          ]
        },
        {
          "output_type": "execute_result",
          "data": {
            "text/plain": [
              "(0.01954320836925926, 407.54999999999995)"
            ]
          },
          "metadata": {},
          "execution_count": 44
        }
      ],
      "source": [
        "# This will test your results, and provide you back some information\n",
        "# on how well your promotion_strategy will work in practice\n",
        "from test_result_colab import test_results, score\n",
        "test_results(promotion_strategy,model)"
      ]
    },
    {
      "cell_type": "markdown",
      "source": [
        "\n",
        "# Conclusions\n",
        "With the machine learning model, we can improve the IRR and NIR metrics on training set as well as test set.\n",
        "\n",
        "\n",
        "\n"
      ],
      "metadata": {
        "id": "7kiFpsoSEi3m"
      }
    }
  ],
  "metadata": {
    "kernelspec": {
      "display_name": "Python 3",
      "language": "python",
      "name": "python3"
    },
    "language_info": {
      "codemirror_mode": {
        "name": "ipython",
        "version": 3
      },
      "file_extension": ".py",
      "mimetype": "text/x-python",
      "name": "python",
      "nbconvert_exporter": "python",
      "pygments_lexer": "ipython3",
      "version": "3.6.3"
    },
    "colab": {
      "provenance": [],
      "toc_visible": true,
      "include_colab_link": true
    }
  },
  "nbformat": 4,
  "nbformat_minor": 0
}