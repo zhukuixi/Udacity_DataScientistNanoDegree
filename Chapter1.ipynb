{
  "nbformat": 4,
  "nbformat_minor": 0,
  "metadata": {
    "colab": {
      "provenance": [],
      "collapsed_sections": [
        "d3EJ_lCBQ7M1",
        "kTYusGzMQb1M"
      ],
      "toc_visible": true,
      "authorship_tag": "ABX9TyOnzHHiplFMCioKotKs2XvD",
      "include_colab_link": true
    },
    "kernelspec": {
      "name": "python3",
      "display_name": "Python 3"
    },
    "language_info": {
      "name": "python"
    }
  },
  "cells": [
    {
      "cell_type": "markdown",
      "metadata": {
        "id": "view-in-github",
        "colab_type": "text"
      },
      "source": [
        "<a href=\"https://colab.research.google.com/github/zhukuixi/Udacity_DataScientistNanoDegree/blob/main/Chapter1.ipynb\" target=\"_parent\"><img src=\"https://colab.research.google.com/assets/colab-badge.svg\" alt=\"Open In Colab\"/></a>"
      ]
    },
    {
      "cell_type": "markdown",
      "source": [
        "# Load the data"
      ],
      "metadata": {
        "id": "DtKK34nFULdi"
      }
    },
    {
      "cell_type": "code",
      "execution_count": 25,
      "metadata": {
        "colab": {
          "base_uri": "https://localhost:8080/",
          "height": 595
        },
        "id": "ONI_R-A9QKoW",
        "outputId": "18568e42-b424-46e0-ad51-02cd5a898e08"
      },
      "outputs": [
        {
          "output_type": "execute_result",
          "data": {
            "text/plain": [
              "   Respondent                                       Professional  \\\n",
              "0           1                                            Student   \n",
              "1           2                                            Student   \n",
              "2           3                             Professional developer   \n",
              "3           4  Professional non-developer who sometimes write...   \n",
              "4           5                             Professional developer   \n",
              "\n",
              "                ProgramHobby         Country      University  \\\n",
              "0                  Yes, both   United States              No   \n",
              "1                  Yes, both  United Kingdom  Yes, full-time   \n",
              "2                  Yes, both  United Kingdom              No   \n",
              "3                  Yes, both   United States              No   \n",
              "4  Yes, I program as a hobby     Switzerland              No   \n",
              "\n",
              "                         EmploymentStatus  \\\n",
              "0  Not employed, and not looking for work   \n",
              "1                      Employed part-time   \n",
              "2                      Employed full-time   \n",
              "3                      Employed full-time   \n",
              "4                      Employed full-time   \n",
              "\n",
              "                                     FormalEducation  \\\n",
              "0                                   Secondary school   \n",
              "1  Some college/university study without earning ...   \n",
              "2                                  Bachelor's degree   \n",
              "3                                    Doctoral degree   \n",
              "4                                    Master's degree   \n",
              "\n",
              "                                  MajorUndergrad  \\\n",
              "0                                            NaN   \n",
              "1       Computer science or software engineering   \n",
              "2       Computer science or software engineering   \n",
              "3  A non-computer-focused engineering discipline   \n",
              "4       Computer science or software engineering   \n",
              "\n",
              "                                          HomeRemote  \\\n",
              "0                                                NaN   \n",
              "1              More than half, but not all, the time   \n",
              "2  Less than half the time, but at least one day ...   \n",
              "3  Less than half the time, but at least one day ...   \n",
              "4                                              Never   \n",
              "\n",
              "                CompanySize  ... StackOverflowMakeMoney Gender  \\\n",
              "0                       NaN  ...      Strongly disagree   Male   \n",
              "1        20 to 99 employees  ...      Strongly disagree   Male   \n",
              "2  10,000 or more employees  ...               Disagree   Male   \n",
              "3  10,000 or more employees  ...               Disagree   Male   \n",
              "4        10 to 19 employees  ...                    NaN    NaN   \n",
              "\n",
              "  HighestEducationParents                          Race         SurveyLong  \\\n",
              "0             High school  White or of European descent  Strongly disagree   \n",
              "1       A master's degree  White or of European descent     Somewhat agree   \n",
              "2   A professional degree  White or of European descent     Somewhat agree   \n",
              "3       A doctoral degree  White or of European descent              Agree   \n",
              "4                     NaN                           NaN                NaN   \n",
              "\n",
              "  QuestionsInteresting QuestionsConfusing InterestedAnswers    Salary  \\\n",
              "0       Strongly agree           Disagree    Strongly agree       NaN   \n",
              "1       Somewhat agree           Disagree    Strongly agree       NaN   \n",
              "2                Agree           Disagree             Agree  113750.0   \n",
              "3                Agree     Somewhat agree    Strongly agree       NaN   \n",
              "4                  NaN                NaN               NaN       NaN   \n",
              "\n",
              "   ExpectedSalary  \n",
              "0             NaN  \n",
              "1         37500.0  \n",
              "2             NaN  \n",
              "3             NaN  \n",
              "4             NaN  \n",
              "\n",
              "[5 rows x 154 columns]"
            ],
            "text/html": [
              "\n",
              "  <div id=\"df-359d6c51-b40a-4852-ba16-61e5f773baf0\">\n",
              "    <div class=\"colab-df-container\">\n",
              "      <div>\n",
              "<style scoped>\n",
              "    .dataframe tbody tr th:only-of-type {\n",
              "        vertical-align: middle;\n",
              "    }\n",
              "\n",
              "    .dataframe tbody tr th {\n",
              "        vertical-align: top;\n",
              "    }\n",
              "\n",
              "    .dataframe thead th {\n",
              "        text-align: right;\n",
              "    }\n",
              "</style>\n",
              "<table border=\"1\" class=\"dataframe\">\n",
              "  <thead>\n",
              "    <tr style=\"text-align: right;\">\n",
              "      <th></th>\n",
              "      <th>Respondent</th>\n",
              "      <th>Professional</th>\n",
              "      <th>ProgramHobby</th>\n",
              "      <th>Country</th>\n",
              "      <th>University</th>\n",
              "      <th>EmploymentStatus</th>\n",
              "      <th>FormalEducation</th>\n",
              "      <th>MajorUndergrad</th>\n",
              "      <th>HomeRemote</th>\n",
              "      <th>CompanySize</th>\n",
              "      <th>...</th>\n",
              "      <th>StackOverflowMakeMoney</th>\n",
              "      <th>Gender</th>\n",
              "      <th>HighestEducationParents</th>\n",
              "      <th>Race</th>\n",
              "      <th>SurveyLong</th>\n",
              "      <th>QuestionsInteresting</th>\n",
              "      <th>QuestionsConfusing</th>\n",
              "      <th>InterestedAnswers</th>\n",
              "      <th>Salary</th>\n",
              "      <th>ExpectedSalary</th>\n",
              "    </tr>\n",
              "  </thead>\n",
              "  <tbody>\n",
              "    <tr>\n",
              "      <th>0</th>\n",
              "      <td>1</td>\n",
              "      <td>Student</td>\n",
              "      <td>Yes, both</td>\n",
              "      <td>United States</td>\n",
              "      <td>No</td>\n",
              "      <td>Not employed, and not looking for work</td>\n",
              "      <td>Secondary school</td>\n",
              "      <td>NaN</td>\n",
              "      <td>NaN</td>\n",
              "      <td>NaN</td>\n",
              "      <td>...</td>\n",
              "      <td>Strongly disagree</td>\n",
              "      <td>Male</td>\n",
              "      <td>High school</td>\n",
              "      <td>White or of European descent</td>\n",
              "      <td>Strongly disagree</td>\n",
              "      <td>Strongly agree</td>\n",
              "      <td>Disagree</td>\n",
              "      <td>Strongly agree</td>\n",
              "      <td>NaN</td>\n",
              "      <td>NaN</td>\n",
              "    </tr>\n",
              "    <tr>\n",
              "      <th>1</th>\n",
              "      <td>2</td>\n",
              "      <td>Student</td>\n",
              "      <td>Yes, both</td>\n",
              "      <td>United Kingdom</td>\n",
              "      <td>Yes, full-time</td>\n",
              "      <td>Employed part-time</td>\n",
              "      <td>Some college/university study without earning ...</td>\n",
              "      <td>Computer science or software engineering</td>\n",
              "      <td>More than half, but not all, the time</td>\n",
              "      <td>20 to 99 employees</td>\n",
              "      <td>...</td>\n",
              "      <td>Strongly disagree</td>\n",
              "      <td>Male</td>\n",
              "      <td>A master's degree</td>\n",
              "      <td>White or of European descent</td>\n",
              "      <td>Somewhat agree</td>\n",
              "      <td>Somewhat agree</td>\n",
              "      <td>Disagree</td>\n",
              "      <td>Strongly agree</td>\n",
              "      <td>NaN</td>\n",
              "      <td>37500.0</td>\n",
              "    </tr>\n",
              "    <tr>\n",
              "      <th>2</th>\n",
              "      <td>3</td>\n",
              "      <td>Professional developer</td>\n",
              "      <td>Yes, both</td>\n",
              "      <td>United Kingdom</td>\n",
              "      <td>No</td>\n",
              "      <td>Employed full-time</td>\n",
              "      <td>Bachelor's degree</td>\n",
              "      <td>Computer science or software engineering</td>\n",
              "      <td>Less than half the time, but at least one day ...</td>\n",
              "      <td>10,000 or more employees</td>\n",
              "      <td>...</td>\n",
              "      <td>Disagree</td>\n",
              "      <td>Male</td>\n",
              "      <td>A professional degree</td>\n",
              "      <td>White or of European descent</td>\n",
              "      <td>Somewhat agree</td>\n",
              "      <td>Agree</td>\n",
              "      <td>Disagree</td>\n",
              "      <td>Agree</td>\n",
              "      <td>113750.0</td>\n",
              "      <td>NaN</td>\n",
              "    </tr>\n",
              "    <tr>\n",
              "      <th>3</th>\n",
              "      <td>4</td>\n",
              "      <td>Professional non-developer who sometimes write...</td>\n",
              "      <td>Yes, both</td>\n",
              "      <td>United States</td>\n",
              "      <td>No</td>\n",
              "      <td>Employed full-time</td>\n",
              "      <td>Doctoral degree</td>\n",
              "      <td>A non-computer-focused engineering discipline</td>\n",
              "      <td>Less than half the time, but at least one day ...</td>\n",
              "      <td>10,000 or more employees</td>\n",
              "      <td>...</td>\n",
              "      <td>Disagree</td>\n",
              "      <td>Male</td>\n",
              "      <td>A doctoral degree</td>\n",
              "      <td>White or of European descent</td>\n",
              "      <td>Agree</td>\n",
              "      <td>Agree</td>\n",
              "      <td>Somewhat agree</td>\n",
              "      <td>Strongly agree</td>\n",
              "      <td>NaN</td>\n",
              "      <td>NaN</td>\n",
              "    </tr>\n",
              "    <tr>\n",
              "      <th>4</th>\n",
              "      <td>5</td>\n",
              "      <td>Professional developer</td>\n",
              "      <td>Yes, I program as a hobby</td>\n",
              "      <td>Switzerland</td>\n",
              "      <td>No</td>\n",
              "      <td>Employed full-time</td>\n",
              "      <td>Master's degree</td>\n",
              "      <td>Computer science or software engineering</td>\n",
              "      <td>Never</td>\n",
              "      <td>10 to 19 employees</td>\n",
              "      <td>...</td>\n",
              "      <td>NaN</td>\n",
              "      <td>NaN</td>\n",
              "      <td>NaN</td>\n",
              "      <td>NaN</td>\n",
              "      <td>NaN</td>\n",
              "      <td>NaN</td>\n",
              "      <td>NaN</td>\n",
              "      <td>NaN</td>\n",
              "      <td>NaN</td>\n",
              "      <td>NaN</td>\n",
              "    </tr>\n",
              "  </tbody>\n",
              "</table>\n",
              "<p>5 rows × 154 columns</p>\n",
              "</div>\n",
              "      <button class=\"colab-df-convert\" onclick=\"convertToInteractive('df-359d6c51-b40a-4852-ba16-61e5f773baf0')\"\n",
              "              title=\"Convert this dataframe to an interactive table.\"\n",
              "              style=\"display:none;\">\n",
              "        \n",
              "  <svg xmlns=\"http://www.w3.org/2000/svg\" height=\"24px\"viewBox=\"0 0 24 24\"\n",
              "       width=\"24px\">\n",
              "    <path d=\"M0 0h24v24H0V0z\" fill=\"none\"/>\n",
              "    <path d=\"M18.56 5.44l.94 2.06.94-2.06 2.06-.94-2.06-.94-.94-2.06-.94 2.06-2.06.94zm-11 1L8.5 8.5l.94-2.06 2.06-.94-2.06-.94L8.5 2.5l-.94 2.06-2.06.94zm10 10l.94 2.06.94-2.06 2.06-.94-2.06-.94-.94-2.06-.94 2.06-2.06.94z\"/><path d=\"M17.41 7.96l-1.37-1.37c-.4-.4-.92-.59-1.43-.59-.52 0-1.04.2-1.43.59L10.3 9.45l-7.72 7.72c-.78.78-.78 2.05 0 2.83L4 21.41c.39.39.9.59 1.41.59.51 0 1.02-.2 1.41-.59l7.78-7.78 2.81-2.81c.8-.78.8-2.07 0-2.86zM5.41 20L4 18.59l7.72-7.72 1.47 1.35L5.41 20z\"/>\n",
              "  </svg>\n",
              "      </button>\n",
              "      \n",
              "  <style>\n",
              "    .colab-df-container {\n",
              "      display:flex;\n",
              "      flex-wrap:wrap;\n",
              "      gap: 12px;\n",
              "    }\n",
              "\n",
              "    .colab-df-convert {\n",
              "      background-color: #E8F0FE;\n",
              "      border: none;\n",
              "      border-radius: 50%;\n",
              "      cursor: pointer;\n",
              "      display: none;\n",
              "      fill: #1967D2;\n",
              "      height: 32px;\n",
              "      padding: 0 0 0 0;\n",
              "      width: 32px;\n",
              "    }\n",
              "\n",
              "    .colab-df-convert:hover {\n",
              "      background-color: #E2EBFA;\n",
              "      box-shadow: 0px 1px 2px rgba(60, 64, 67, 0.3), 0px 1px 3px 1px rgba(60, 64, 67, 0.15);\n",
              "      fill: #174EA6;\n",
              "    }\n",
              "\n",
              "    [theme=dark] .colab-df-convert {\n",
              "      background-color: #3B4455;\n",
              "      fill: #D2E3FC;\n",
              "    }\n",
              "\n",
              "    [theme=dark] .colab-df-convert:hover {\n",
              "      background-color: #434B5C;\n",
              "      box-shadow: 0px 1px 3px 1px rgba(0, 0, 0, 0.15);\n",
              "      filter: drop-shadow(0px 1px 2px rgba(0, 0, 0, 0.3));\n",
              "      fill: #FFFFFF;\n",
              "    }\n",
              "  </style>\n",
              "\n",
              "      <script>\n",
              "        const buttonEl =\n",
              "          document.querySelector('#df-359d6c51-b40a-4852-ba16-61e5f773baf0 button.colab-df-convert');\n",
              "        buttonEl.style.display =\n",
              "          google.colab.kernel.accessAllowed ? 'block' : 'none';\n",
              "\n",
              "        async function convertToInteractive(key) {\n",
              "          const element = document.querySelector('#df-359d6c51-b40a-4852-ba16-61e5f773baf0');\n",
              "          const dataTable =\n",
              "            await google.colab.kernel.invokeFunction('convertToInteractive',\n",
              "                                                     [key], {});\n",
              "          if (!dataTable) return;\n",
              "\n",
              "          const docLinkHtml = 'Like what you see? Visit the ' +\n",
              "            '<a target=\"_blank\" href=https://colab.research.google.com/notebooks/data_table.ipynb>data table notebook</a>'\n",
              "            + ' to learn more about interactive tables.';\n",
              "          element.innerHTML = '';\n",
              "          dataTable['output_type'] = 'display_data';\n",
              "          await google.colab.output.renderOutput(dataTable, element);\n",
              "          const docLink = document.createElement('div');\n",
              "          docLink.innerHTML = docLinkHtml;\n",
              "          element.appendChild(docLink);\n",
              "        }\n",
              "      </script>\n",
              "    </div>\n",
              "  </div>\n",
              "  "
            ]
          },
          "metadata": {},
          "execution_count": 25
        }
      ],
      "source": [
        "import pandas as pd\n",
        "import numpy as np\n",
        "from matplotlib import pyplot as plt\n",
        "\n",
        "df = pd.read_csv(\"/content/survey-results-public.csv\")\n",
        "schema = pd.read_csv(\"/content/survey-results-schema.csv\")\n",
        "df.head()"
      ]
    },
    {
      "cell_type": "markdown",
      "source": [
        "# Q1: How to break into the field? - CousinEduaction"
      ],
      "metadata": {
        "id": "kOdL4IKWTzzk"
      }
    },
    {
      "cell_type": "markdown",
      "source": [
        "Check the description of CousinEduaction "
      ],
      "metadata": {
        "id": "OlJiv9BrUiCr"
      }
    },
    {
      "cell_type": "code",
      "source": [
        "print(schema.loc[schema.Column == 'CousinEducation','Question'].values)"
      ],
      "metadata": {
        "colab": {
          "base_uri": "https://localhost:8080/"
        },
        "id": "kh4CTUk7UOxB",
        "outputId": "23e472fd-fa2d-41c4-caa9-41587aa4e15b"
      },
      "execution_count": 26,
      "outputs": [
        {
          "output_type": "stream",
          "name": "stdout",
          "text": [
            "[\"Let's pretend you have a distant cousin. They are 24 years old, have a college degree in a field not related to computer programming, and have been working a non-coding job for the last two years. They want your advice on how to switch to a career as a software developer. Which of the following options would you most strongly recommend to your cousin?\\nLet's pretend you have a distant cousin named Robert. He is 24 years old, has a college degree in a field not related to computer programming, and has been working a non-coding job for the last two years. He wants your advice on how to switch to a career as a software developer. Which of the following options would you most strongly recommend to Robert?\\nLet's pretend you have a distant cousin named Alice. She is 24 years old, has a college degree in a field not related to computer programming, and has been working a non-coding job for the last two years. She wants your advice on how to switch to a career as a software developer. Which of the following options would you most strongly recommend to Alice?\"]\n"
          ]
        }
      ]
    },
    {
      "cell_type": "code",
      "source": [
        "cous_ed_vals = df.CousinEducation.value_counts()\n",
        "cous_ed_vals"
      ],
      "metadata": {
        "colab": {
          "base_uri": "https://localhost:8080/"
        },
        "id": "bv0SCbG1Q99F",
        "outputId": "b4fc2474-f27a-4642-eb4a-3f27888348fc"
      },
      "execution_count": 27,
      "outputs": [
        {
          "output_type": "execute_result",
          "data": {
            "text/plain": [
              "Take online courses; Buy books and work through the exercises                                         711\n",
              "Take online courses                                                                                   551\n",
              "None of these                                                                                         523\n",
              "Take online courses; Part-time/evening courses; Buy books and work through the exercises              479\n",
              "Take online courses; Bootcamp; Part-time/evening courses; Buy books and work through the exercises    465\n",
              "                                                                                                     ... \n",
              "Master's degree; Contribute to open source; Part-time/evening courses; Participate in hackathons        1\n",
              "Return to college; Participate in online coding competitions; Conferences/meet-ups; Other               1\n",
              "Return to college; Get a job as a QA tester; Participate in hackathons; Other                           1\n",
              "Return to college; Participate in hackathons; Conferences/meet-ups; Other                               1\n",
              "Master's degree; Take online courses; Other                                                             1\n",
              "Name: CousinEducation, Length: 735, dtype: int64"
            ]
          },
          "metadata": {},
          "execution_count": 27
        }
      ]
    },
    {
      "cell_type": "markdown",
      "source": [
        "We see that each row of CousinEducation contains many methods separated \n",
        "by a delimiter \";\".   \n",
        "Thus we need to separate the methods."
      ],
      "metadata": {
        "id": "x815UWm2T8lH"
      }
    },
    {
      "cell_type": "code",
      "source": [
        "# I create a function to count the method within CousinEducation column\n",
        "def fun(df,title,plot):\n",
        "    '''\n",
        "    INPUT \n",
        "        df - a dataframe holding the CousinEducation column\n",
        "        title - string the title of your plot\n",
        "\n",
        "        plot - bool providing whether or not you want a plot back\n",
        "\n",
        "    OUTPUT\n",
        "        study_df - a dataframe with the count of how many individuals\n",
        "        Displays a plot of pretty things related to the CousinEducation column.\n",
        "    '''\n",
        "\t\t# Separate methods\n",
        "    methods=[ele for row in list(df.CousinEducation.dropna().str.split(\";\")) for ele in row ] \n",
        "    cous_ed_vals = pd.Series(methods).str.strip().value_counts()\n",
        "\n",
        "\t\t# Get the percentage of each method\n",
        "    cous_ed_vals = cous_ed_vals/cous_ed_vals.sum()\t\t\n",
        "    study_df = cous_ed_vals.reset_index()\n",
        "    study_df.columns=[\"method\",\"percent\"]\n",
        "    study_df.set_index('method',inplace=True)\n",
        "    if plot:\n",
        "        study_df.plot(kind=\"bar\",legend=None)\n",
        "        plt.title(title)\n",
        "        plt.show()\n",
        "    return study_df"
      ],
      "metadata": {
        "id": "XsWLzDS_TIPp"
      },
      "execution_count": 28,
      "outputs": []
    },
    {
      "cell_type": "markdown",
      "source": [
        "## The method suggested by population with different education"
      ],
      "metadata": {
        "id": "3jlr82-LttYk"
      }
    },
    {
      "cell_type": "code",
      "source": [
        "# Get low and high education df respectively\n",
        "df_highEdu = df[df.FormalEducation.isin([\"Master's degree\", \"Professional degree\"])]\n",
        "df_lowEdu = df[~df.FormalEducation.isin([\"Master's degree\", \"Professional degree\"])]\n",
        "# Obtain the method percentage in each group\n",
        "highEdu_per = fun(df_highEdu,\"HighEdu\",True)\n",
        "lowEdu_per = fun(df_lowEdu,\"LowEdu\",True)\n",
        "# Combine and draw the barplot\n",
        "combine_per = highEdu_per.join(lowEdu_per,how=\"outer\",lsuffix=\"_high\",rsuffix=\"_low\")\n",
        "combine_per.fillna(0,inplace=True)\n",
        "combine_per['Diff'] = combine_per.percent_low - combine_per.percent_high\n",
        "combine_per.style.bar(subset=['Diff'], align='mid', color=['#d65f5f', '#5fba7d'])"
      ],
      "metadata": {
        "colab": {
          "base_uri": "https://localhost:8080/",
          "height": 1000
        },
        "id": "4zml_qqkTNEK",
        "outputId": "e17f7e77-ecd2-4fa0-d80c-561adfa273f5"
      },
      "execution_count": 29,
      "outputs": [
        {
          "output_type": "display_data",
          "data": {
            "text/plain": [
              "<Figure size 640x480 with 1 Axes>"
            ],
            "image/png": "[encoded data removed]"
          },
          "metadata": {}
        },
        {
          "output_type": "display_data",
          "data": {
            "text/plain": [
              "<Figure size 640x480 with 1 Axes>"
            ],
            "image/png": "[encoded data removed]"
          },
          "metadata": {}
        },
        {
          "output_type": "execute_result",
          "data": {
            "text/plain": [
              "<pandas.io.formats.style.Styler at 0x7f2add640790>"
            ],
            "text/html": [
              "<style type=\"text/css\">\n",
              "#T_06ef6_row0_col2 {\n",
              "  width: 10em;\n",
              "  background: linear-gradient(90deg, transparent 71.2%, #d65f5f 71.2%, #d65f5f 78.6%, transparent 78.6%);\n",
              "}\n",
              "#T_06ef6_row1_col2 {\n",
              "  width: 10em;\n",
              "  background: linear-gradient(90deg, transparent 76.3%, #d65f5f 76.3%, #d65f5f 78.6%, transparent 78.6%);\n",
              "}\n",
              "#T_06ef6_row2_col2 {\n",
              "  width: 10em;\n",
              "  background: linear-gradient(90deg, transparent 78.6%, #5fba7d 78.6%, #5fba7d 100.0%, transparent 100.0%);\n",
              "}\n",
              "#T_06ef6_row3_col2 {\n",
              "  width: 10em;\n",
              "  background: linear-gradient(90deg, transparent 78.6%, #5fba7d 78.6%, #5fba7d 92.9%, transparent 92.9%);\n",
              "}\n",
              "#T_06ef6_row4_col2 {\n",
              "  width: 10em;\n",
              "  background: linear-gradient(90deg, transparent 71.3%, #d65f5f 71.3%, #d65f5f 78.6%, transparent 78.6%);\n",
              "}\n",
              "#T_06ef6_row5_col2 {\n",
              "  width: 10em;\n",
              "  background: linear-gradient(90deg, #d65f5f 78.6%, transparent 78.6%);\n",
              "}\n",
              "#T_06ef6_row6_col2 {\n",
              "  width: 10em;\n",
              "  background: linear-gradient(90deg, transparent 78.3%, #d65f5f 78.3%, #d65f5f 78.6%, transparent 78.6%);\n",
              "}\n",
              "#T_06ef6_row7_col2 {\n",
              "  width: 10em;\n",
              "  background: linear-gradient(90deg, transparent 78.6%, #5fba7d 78.6%, #5fba7d 96.8%, transparent 96.8%);\n",
              "}\n",
              "#T_06ef6_row8_col2 {\n",
              "  width: 10em;\n",
              "  background: linear-gradient(90deg, transparent 78.4%, #d65f5f 78.4%, #d65f5f 78.6%, transparent 78.6%);\n",
              "}\n",
              "#T_06ef6_row9_col2 {\n",
              "  width: 10em;\n",
              "  background: linear-gradient(90deg, transparent 78.6%, #5fba7d 78.6%, #5fba7d 99.7%, transparent 99.7%);\n",
              "}\n",
              "#T_06ef6_row10_col2 {\n",
              "  width: 10em;\n",
              "  background: linear-gradient(90deg, transparent 78.6%, #5fba7d 78.6%, #5fba7d 93.2%, transparent 93.2%);\n",
              "}\n",
              "#T_06ef6_row11_col2 {\n",
              "  width: 10em;\n",
              "  background: linear-gradient(90deg, transparent 78.6%, #5fba7d 78.6%, #5fba7d 79.2%, transparent 79.2%);\n",
              "}\n",
              "#T_06ef6_row12_col2 {\n",
              "  width: 10em;\n",
              "  background: linear-gradient(90deg, transparent 78.6%, #5fba7d 78.6%, #5fba7d 83.9%, transparent 83.9%);\n",
              "}\n",
              "</style>\n",
              "<table id=\"T_06ef6\" class=\"dataframe\">\n",
              "  <thead>\n",
              "    <tr>\n",
              "      <th class=\"blank level0\" >&nbsp;</th>\n",
              "      <th id=\"T_06ef6_level0_col0\" class=\"col_heading level0 col0\" >percent_high</th>\n",
              "      <th id=\"T_06ef6_level0_col1\" class=\"col_heading level0 col1\" >percent_low</th>\n",
              "      <th id=\"T_06ef6_level0_col2\" class=\"col_heading level0 col2\" >Diff</th>\n",
              "    </tr>\n",
              "    <tr>\n",
              "      <th class=\"index_name level0\" >method</th>\n",
              "      <th class=\"blank col0\" >&nbsp;</th>\n",
              "      <th class=\"blank col1\" >&nbsp;</th>\n",
              "      <th class=\"blank col2\" >&nbsp;</th>\n",
              "    </tr>\n",
              "  </thead>\n",
              "  <tbody>\n",
              "    <tr>\n",
              "      <th id=\"T_06ef6_level0_row0\" class=\"row_heading level0 row0\" >Bootcamp</th>\n",
              "      <td id=\"T_06ef6_row0_col0\" class=\"data row0 col0\" >0.074617</td>\n",
              "      <td id=\"T_06ef6_row0_col1\" class=\"data row0 col1\" >0.071824</td>\n",
              "      <td id=\"T_06ef6_row0_col2\" class=\"data row0 col2\" >-0.002793</td>\n",
              "    </tr>\n",
              "    <tr>\n",
              "      <th id=\"T_06ef6_level0_row1\" class=\"row_heading level0 row1\" >Buy books and work through the exercises</th>\n",
              "      <td id=\"T_06ef6_row1_col0\" class=\"data row1 col0\" >0.162073</td>\n",
              "      <td id=\"T_06ef6_row1_col1\" class=\"data row1 col1\" >0.161205</td>\n",
              "      <td id=\"T_06ef6_row1_col2\" class=\"data row1 col2\" >-0.000868</td>\n",
              "    </tr>\n",
              "    <tr>\n",
              "      <th id=\"T_06ef6_level0_row2\" class=\"row_heading level0 row2\" >Conferences/meet-ups</th>\n",
              "      <td id=\"T_06ef6_row2_col0\" class=\"data row2 col0\" >0.065842</td>\n",
              "      <td id=\"T_06ef6_row2_col1\" class=\"data row2 col1\" >0.073920</td>\n",
              "      <td id=\"T_06ef6_row2_col2\" class=\"data row2 col2\" >0.008078</td>\n",
              "    </tr>\n",
              "    <tr>\n",
              "      <th id=\"T_06ef6_level0_row3\" class=\"row_heading level0 row3\" >Contribute to open source</th>\n",
              "      <td id=\"T_06ef6_row3_col0\" class=\"data row3 col0\" >0.097821</td>\n",
              "      <td id=\"T_06ef6_row3_col1\" class=\"data row3 col1\" >0.103230</td>\n",
              "      <td id=\"T_06ef6_row3_col2\" class=\"data row3 col2\" >0.005409</td>\n",
              "    </tr>\n",
              "    <tr>\n",
              "      <th id=\"T_06ef6_level0_row4\" class=\"row_heading level0 row4\" >Get a job as a QA tester</th>\n",
              "      <td id=\"T_06ef6_row4_col0\" class=\"data row4 col0\" >0.048469</td>\n",
              "      <td id=\"T_06ef6_row4_col1\" class=\"data row4 col1\" >0.045739</td>\n",
              "      <td id=\"T_06ef6_row4_col2\" class=\"data row4 col2\" >-0.002730</td>\n",
              "    </tr>\n",
              "    <tr>\n",
              "      <th id=\"T_06ef6_level0_row5\" class=\"row_heading level0 row5\" >Master's degree</th>\n",
              "      <td id=\"T_06ef6_row5_col0\" class=\"data row5 col0\" >0.058952</td>\n",
              "      <td id=\"T_06ef6_row5_col1\" class=\"data row5 col1\" >0.029346</td>\n",
              "      <td id=\"T_06ef6_row5_col2\" class=\"data row5 col2\" >-0.029606</td>\n",
              "    </tr>\n",
              "    <tr>\n",
              "      <th id=\"T_06ef6_level0_row6\" class=\"row_heading level0 row6\" >None of these</th>\n",
              "      <td id=\"T_06ef6_row6_col0\" class=\"data row6 col0\" >0.008363</td>\n",
              "      <td id=\"T_06ef6_row6_col1\" class=\"data row6 col1\" >0.008277</td>\n",
              "      <td id=\"T_06ef6_row6_col2\" class=\"data row6 col2\" >-0.000086</td>\n",
              "    </tr>\n",
              "    <tr>\n",
              "      <th id=\"T_06ef6_level0_row7\" class=\"row_heading level0 row7\" >Other</th>\n",
              "      <td id=\"T_06ef6_row7_col0\" class=\"data row7 col0\" >0.026973</td>\n",
              "      <td id=\"T_06ef6_row7_col1\" class=\"data row7 col1\" >0.033861</td>\n",
              "      <td id=\"T_06ef6_row7_col2\" class=\"data row7 col2\" >0.006888</td>\n",
              "    </tr>\n",
              "    <tr>\n",
              "      <th id=\"T_06ef6_level0_row8\" class=\"row_heading level0 row8\" >Part-time/evening courses</th>\n",
              "      <td id=\"T_06ef6_row8_col0\" class=\"data row8 col0\" >0.103298</td>\n",
              "      <td id=\"T_06ef6_row8_col1\" class=\"data row8 col1\" >0.103248</td>\n",
              "      <td id=\"T_06ef6_row8_col2\" class=\"data row8 col2\" >-0.000050</td>\n",
              "    </tr>\n",
              "    <tr>\n",
              "      <th id=\"T_06ef6_level0_row9\" class=\"row_heading level0 row9\" >Participate in hackathons</th>\n",
              "      <td id=\"T_06ef6_row9_col0\" class=\"data row9 col0\" >0.031625</td>\n",
              "      <td id=\"T_06ef6_row9_col1\" class=\"data row9 col1\" >0.039594</td>\n",
              "      <td id=\"T_06ef6_row9_col2\" class=\"data row9 col2\" >0.007968</td>\n",
              "    </tr>\n",
              "    <tr>\n",
              "      <th id=\"T_06ef6_level0_row10\" class=\"row_heading level0 row10\" >Participate in online coding competitions</th>\n",
              "      <td id=\"T_06ef6_row10_col0\" class=\"data row10 col0\" >0.045347</td>\n",
              "      <td id=\"T_06ef6_row10_col1\" class=\"data row10 col1\" >0.050881</td>\n",
              "      <td id=\"T_06ef6_row10_col2\" class=\"data row10 col2\" >0.005533</td>\n",
              "    </tr>\n",
              "    <tr>\n",
              "      <th id=\"T_06ef6_level0_row11\" class=\"row_heading level0 row11\" >Return to college</th>\n",
              "      <td id=\"T_06ef6_row11_col0\" class=\"data row11 col0\" >0.068728</td>\n",
              "      <td id=\"T_06ef6_row11_col1\" class=\"data row11 col1\" >0.068975</td>\n",
              "      <td id=\"T_06ef6_row11_col2\" class=\"data row11 col2\" >0.000247</td>\n",
              "    </tr>\n",
              "    <tr>\n",
              "      <th id=\"T_06ef6_level0_row12\" class=\"row_heading level0 row12\" >Take online courses</th>\n",
              "      <td id=\"T_06ef6_row12_col0\" class=\"data row12 col0\" >0.207892</td>\n",
              "      <td id=\"T_06ef6_row12_col1\" class=\"data row12 col1\" >0.209900</td>\n",
              "      <td id=\"T_06ef6_row12_col2\" class=\"data row12 col2\" >0.002009</td>\n",
              "    </tr>\n",
              "  </tbody>\n",
              "</table>\n"
            ]
          },
          "metadata": {},
          "execution_count": 29
        }
      ]
    },
    {
      "cell_type": "markdown",
      "source": [
        "## The salary distribution of population suggesting different methods"
      ],
      "metadata": {
        "id": "9_1Tiv0St08S"
      }
    },
    {
      "cell_type": "code",
      "source": [
        "temp_df = df[['CousinEducation','Salary']].dropna()\n",
        "\n",
        "def getMethod(input_row):\n",
        "  methods = [method.strip() for method in input_row.CousinEducation.split(\";\")]\n",
        "  return pd.DataFrame({\"method\":methods,\"Salary\":input_row.Salary})\n",
        "\n",
        "result_df = pd.DataFrame()\n",
        "for i in np.arange(temp_df.shape[0]):\n",
        "  d = getMethod(temp_df.iloc[i,:])\n",
        "  result_df = pd.concat([result_df,d],axis=0)\n"
      ],
      "metadata": {
        "id": "IzYCmk9Kt9DI"
      },
      "execution_count": 92,
      "outputs": []
    },
    {
      "cell_type": "code",
      "source": [
        "result_df.groupby(\"method\")['Salary'].agg(['mean','std',('lower_95',lambda x:x.mean()-np.std(x)*1.96) ]).sort_values('mean')"
      ],
      "metadata": {
        "colab": {
          "base_uri": "https://localhost:8080/",
          "height": 488
        },
        "id": "R34GNCeMxsSq",
        "outputId": "5347a8a2-185a-4910-a4e1-7d4f6ea161a7"
      },
      "execution_count": 94,
      "outputs": [
        {
          "output_type": "execute_result",
          "data": {
            "text/plain": [
              "                                                   mean           std  \\\n",
              "method                                                                  \n",
              "Participate in online coding competitions  46537.703161  37539.951689   \n",
              "None of these                              48009.706357  39038.734482   \n",
              "Part-time/evening courses                  53119.613118  39594.231740   \n",
              "Take online courses                        53740.566104  39841.876501   \n",
              "Buy books and work through the exercises   56257.071544  40274.403123   \n",
              "Get a job as a QA tester                   56654.043442  40606.474293   \n",
              "Conferences/meet-ups                       57770.118326  40576.908734   \n",
              "Participate in hackathons                  58237.114855  41050.873430   \n",
              "Bootcamp                                   59046.391551  41876.732135   \n",
              "Return to college                          59251.636145  37476.923599   \n",
              "Master's degree                            59425.969277  41258.009194   \n",
              "Other                                      60859.281694  38946.726688   \n",
              "Contribute to open source                  61741.337383  41030.284130   \n",
              "\n",
              "                                               lower_95  \n",
              "method                                                   \n",
              "Participate in online coding competitions -27001.075795  \n",
              "None of these                             -28163.858403  \n",
              "Part-time/evening courses                 -24466.749996  \n",
              "Take online courses                       -24340.825029  \n",
              "Buy books and work through the exercises  -22669.132119  \n",
              "Get a job as a QA tester                  -22896.113761  \n",
              "Conferences/meet-ups                      -21736.935305  \n",
              "Participate in hackathons                 -22172.104617  \n",
              "Bootcamp                                  -23006.713527  \n",
              "Return to college                         -14178.213066  \n",
              "Master's degree                           -21383.630437  \n",
              "Other                                     -15424.567208  \n",
              "Contribute to open source                 -18660.186191  "
            ],
            "text/html": [
              "\n",
              "  <div id=\"df-26ab0689-9030-4617-a47f-d8f7450a27c0\">\n",
              "    <div class=\"colab-df-container\">\n",
              "      <div>\n",
              "<style scoped>\n",
              "    .dataframe tbody tr th:only-of-type {\n",
              "        vertical-align: middle;\n",
              "    }\n",
              "\n",
              "    .dataframe tbody tr th {\n",
              "        vertical-align: top;\n",
              "    }\n",
              "\n",
              "    .dataframe thead th {\n",
              "        text-align: right;\n",
              "    }\n",
              "</style>\n",
              "<table border=\"1\" class=\"dataframe\">\n",
              "  <thead>\n",
              "    <tr style=\"text-align: right;\">\n",
              "      <th></th>\n",
              "      <th>mean</th>\n",
              "      <th>std</th>\n",
              "      <th>lower_95</th>\n",
              "    </tr>\n",
              "    <tr>\n",
              "      <th>method</th>\n",
              "      <th></th>\n",
              "      <th></th>\n",
              "      <th></th>\n",
              "    </tr>\n",
              "  </thead>\n",
              "  <tbody>\n",
              "    <tr>\n",
              "      <th>Participate in online coding competitions</th>\n",
              "      <td>46537.703161</td>\n",
              "      <td>37539.951689</td>\n",
              "      <td>-27001.075795</td>\n",
              "    </tr>\n",
              "    <tr>\n",
              "      <th>None of these</th>\n",
              "      <td>48009.706357</td>\n",
              "      <td>39038.734482</td>\n",
              "      <td>-28163.858403</td>\n",
              "    </tr>\n",
              "    <tr>\n",
              "      <th>Part-time/evening courses</th>\n",
              "      <td>53119.613118</td>\n",
              "      <td>39594.231740</td>\n",
              "      <td>-24466.749996</td>\n",
              "    </tr>\n",
              "    <tr>\n",
              "      <th>Take online courses</th>\n",
              "      <td>53740.566104</td>\n",
              "      <td>39841.876501</td>\n",
              "      <td>-24340.825029</td>\n",
              "    </tr>\n",
              "    <tr>\n",
              "      <th>Buy books and work through the exercises</th>\n",
              "      <td>56257.071544</td>\n",
              "      <td>40274.403123</td>\n",
              "      <td>-22669.132119</td>\n",
              "    </tr>\n",
              "    <tr>\n",
              "      <th>Get a job as a QA tester</th>\n",
              "      <td>56654.043442</td>\n",
              "      <td>40606.474293</td>\n",
              "      <td>-22896.113761</td>\n",
              "    </tr>\n",
              "    <tr>\n",
              "      <th>Conferences/meet-ups</th>\n",
              "      <td>57770.118326</td>\n",
              "      <td>40576.908734</td>\n",
              "      <td>-21736.935305</td>\n",
              "    </tr>\n",
              "    <tr>\n",
              "      <th>Participate in hackathons</th>\n",
              "      <td>58237.114855</td>\n",
              "      <td>41050.873430</td>\n",
              "      <td>-22172.104617</td>\n",
              "    </tr>\n",
              "    <tr>\n",
              "      <th>Bootcamp</th>\n",
              "      <td>59046.391551</td>\n",
              "      <td>41876.732135</td>\n",
              "      <td>-23006.713527</td>\n",
              "    </tr>\n",
              "    <tr>\n",
              "      <th>Return to college</th>\n",
              "      <td>59251.636145</td>\n",
              "      <td>37476.923599</td>\n",
              "      <td>-14178.213066</td>\n",
              "    </tr>\n",
              "    <tr>\n",
              "      <th>Master's degree</th>\n",
              "      <td>59425.969277</td>\n",
              "      <td>41258.009194</td>\n",
              "      <td>-21383.630437</td>\n",
              "    </tr>\n",
              "    <tr>\n",
              "      <th>Other</th>\n",
              "      <td>60859.281694</td>\n",
              "      <td>38946.726688</td>\n",
              "      <td>-15424.567208</td>\n",
              "    </tr>\n",
              "    <tr>\n",
              "      <th>Contribute to open source</th>\n",
              "      <td>61741.337383</td>\n",
              "      <td>41030.284130</td>\n",
              "      <td>-18660.186191</td>\n",
              "    </tr>\n",
              "  </tbody>\n",
              "</table>\n",
              "</div>\n",
              "      <button class=\"colab-df-convert\" onclick=\"convertToInteractive('df-26ab0689-9030-4617-a47f-d8f7450a27c0')\"\n",
              "              title=\"Convert this dataframe to an interactive table.\"\n",
              "              style=\"display:none;\">\n",
              "        \n",
              "  <svg xmlns=\"http://www.w3.org/2000/svg\" height=\"24px\"viewBox=\"0 0 24 24\"\n",
              "       width=\"24px\">\n",
              "    <path d=\"M0 0h24v24H0V0z\" fill=\"none\"/>\n",
              "    <path d=\"M18.56 5.44l.94 2.06.94-2.06 2.06-.94-2.06-.94-.94-2.06-.94 2.06-2.06.94zm-11 1L8.5 8.5l.94-2.06 2.06-.94-2.06-.94L8.5 2.5l-.94 2.06-2.06.94zm10 10l.94 2.06.94-2.06 2.06-.94-2.06-.94-.94-2.06-.94 2.06-2.06.94z\"/><path d=\"M17.41 7.96l-1.37-1.37c-.4-.4-.92-.59-1.43-.59-.52 0-1.04.2-1.43.59L10.3 9.45l-7.72 7.72c-.78.78-.78 2.05 0 2.83L4 21.41c.39.39.9.59 1.41.59.51 0 1.02-.2 1.41-.59l7.78-7.78 2.81-2.81c.8-.78.8-2.07 0-2.86zM5.41 20L4 18.59l7.72-7.72 1.47 1.35L5.41 20z\"/>\n",
              "  </svg>\n",
              "      </button>\n",
              "      \n",
              "  <style>\n",
              "    .colab-df-container {\n",
              "      display:flex;\n",
              "      flex-wrap:wrap;\n",
              "      gap: 12px;\n",
              "    }\n",
              "\n",
              "    .colab-df-convert {\n",
              "      background-color: #E8F0FE;\n",
              "      border: none;\n",
              "      border-radius: 50%;\n",
              "      cursor: pointer;\n",
              "      display: none;\n",
              "      fill: #1967D2;\n",
              "      height: 32px;\n",
              "      padding: 0 0 0 0;\n",
              "      width: 32px;\n",
              "    }\n",
              "\n",
              "    .colab-df-convert:hover {\n",
              "      background-color: #E2EBFA;\n",
              "      box-shadow: 0px 1px 2px rgba(60, 64, 67, 0.3), 0px 1px 3px 1px rgba(60, 64, 67, 0.15);\n",
              "      fill: #174EA6;\n",
              "    }\n",
              "\n",
              "    [theme=dark] .colab-df-convert {\n",
              "      background-color: #3B4455;\n",
              "      fill: #D2E3FC;\n",
              "    }\n",
              "\n",
              "    [theme=dark] .colab-df-convert:hover {\n",
              "      background-color: #434B5C;\n",
              "      box-shadow: 0px 1px 3px 1px rgba(0, 0, 0, 0.15);\n",
              "      filter: drop-shadow(0px 1px 2px rgba(0, 0, 0, 0.3));\n",
              "      fill: #FFFFFF;\n",
              "    }\n",
              "  </style>\n",
              "\n",
              "      <script>\n",
              "        const buttonEl =\n",
              "          document.querySelector('#df-26ab0689-9030-4617-a47f-d8f7450a27c0 button.colab-df-convert');\n",
              "        buttonEl.style.display =\n",
              "          google.colab.kernel.accessAllowed ? 'block' : 'none';\n",
              "\n",
              "        async function convertToInteractive(key) {\n",
              "          const element = document.querySelector('#df-26ab0689-9030-4617-a47f-d8f7450a27c0');\n",
              "          const dataTable =\n",
              "            await google.colab.kernel.invokeFunction('convertToInteractive',\n",
              "                                                     [key], {});\n",
              "          if (!dataTable) return;\n",
              "\n",
              "          const docLinkHtml = 'Like what you see? Visit the ' +\n",
              "            '<a target=\"_blank\" href=https://colab.research.google.com/notebooks/data_table.ipynb>data table notebook</a>'\n",
              "            + ' to learn more about interactive tables.';\n",
              "          element.innerHTML = '';\n",
              "          dataTable['output_type'] = 'display_data';\n",
              "          await google.colab.output.renderOutput(dataTable, element);\n",
              "          const docLink = document.createElement('div');\n",
              "          docLink.innerHTML = docLinkHtml;\n",
              "          element.appendChild(docLink);\n",
              "        }\n",
              "      </script>\n",
              "    </div>\n",
              "  </div>\n",
              "  "
            ]
          },
          "metadata": {},
          "execution_count": 94
        }
      ]
    },
    {
      "cell_type": "markdown",
      "source": [
        "#Q2: What does the data suggest about graduates of bootcamps, in terms of job placement and salary? \n",
        "- TimeAfterBootcamp"
      ],
      "metadata": {
        "id": "H2J2UJ6LU25F"
      }
    },
    {
      "cell_type": "code",
      "source": [
        "from scipy import stats \n",
        "import re\n"
      ],
      "metadata": {
        "id": "QYOoRpXSU7aA"
      },
      "execution_count": 30,
      "outputs": []
    },
    {
      "cell_type": "code",
      "source": [
        "df.TimeAfterBootcamp.value_counts(dropna=False)"
      ],
      "metadata": {
        "colab": {
          "base_uri": "https://localhost:8080/"
        },
        "id": "usGFFx-MXVT9",
        "outputId": "6edf5add-96d7-4457-9b7b-e46cac314031"
      },
      "execution_count": 31,
      "outputs": [
        {
          "output_type": "execute_result",
          "data": {
            "text/plain": [
              "NaN                                                              48790\n",
              "I already had a job as a developer when I started the program     1193\n",
              "Immediately upon graduating                                        294\n",
              "I got a job as a developer before completing the program           252\n",
              "One to three months                                                228\n",
              "I haven't gotten a job as a developer yet                          211\n",
              "Less than a month                                                  156\n",
              "Four to six months                                                 105\n",
              "Longer than a year                                                  85\n",
              "Six months to a year                                                78\n",
              "Name: TimeAfterBootcamp, dtype: int64"
            ]
          },
          "metadata": {},
          "execution_count": 31
        }
      ]
    },
    {
      "cell_type": "code",
      "source": [
        "df_bootcamp = df[~df.TimeAfterBootcamp.isna()]\n",
        "df_nobootcamp = df[df.TimeAfterBootcamp.isna()]"
      ],
      "metadata": {
        "id": "SRxfd5oIXcwO"
      },
      "execution_count": 32,
      "outputs": []
    },
    {
      "cell_type": "markdown",
      "source": [
        "## Difference in gender proportion"
      ],
      "metadata": {
        "id": "VtZN6w4lZRa6"
      }
    },
    {
      "cell_type": "code",
      "source": [
        "df_bootcamp['Gender'].value_counts()/sum(~df_bootcamp.Gender.isna())"
      ],
      "metadata": {
        "colab": {
          "base_uri": "https://localhost:8080/"
        },
        "id": "k0QZH2n3Y1wl",
        "outputId": "cc1c4179-1ba1-4c9d-a07f-e4ed1c33de46"
      },
      "execution_count": 33,
      "outputs": [
        {
          "output_type": "execute_result",
          "data": {
            "text/plain": [
              "Male                                                       0.863071\n",
              "Female                                                     0.112494\n",
              "Other                                                      0.006455\n",
              "Gender non-conforming                                      0.005533\n",
              "Male; Other                                                0.002766\n",
              "Female; Gender non-conforming                              0.001383\n",
              "Male; Gender non-conforming                                0.001383\n",
              "Transgender; Gender non-conforming                         0.000922\n",
              "Transgender                                                0.000922\n",
              "Male; Female                                               0.000922\n",
              "Female; Transgender; Gender non-conforming                 0.000922\n",
              "Male; Female; Transgender; Gender non-conforming; Other    0.000922\n",
              "Male; Transgender                                          0.000922\n",
              "Male; Gender non-conforming; Other                         0.000461\n",
              "Female; Gender non-conforming; Other                       0.000461\n",
              "Male; Female; Transgender; Gender non-conforming           0.000461\n",
              "Name: Gender, dtype: float64"
            ]
          },
          "metadata": {},
          "execution_count": 33
        }
      ]
    },
    {
      "cell_type": "code",
      "source": [
        "df_nobootcamp['Gender'].value_counts()/sum(~df_nobootcamp.Gender.isna())"
      ],
      "metadata": {
        "colab": {
          "base_uri": "https://localhost:8080/"
        },
        "id": "-y-EY_veY6TV",
        "outputId": "48fd7d28-3d4b-4ace-e5dc-3eebc67aa5e0"
      },
      "execution_count": 34,
      "outputs": [
        {
          "output_type": "execute_result",
          "data": {
            "text/plain": [
              "Male                                                       0.903857\n",
              "Female                                                     0.071659\n",
              "Other                                                      0.006418\n",
              "Male; Other                                                0.005019\n",
              "Gender non-conforming                                      0.004501\n",
              "Male; Gender non-conforming                                0.001886\n",
              "Female; Transgender                                        0.001703\n",
              "Transgender                                                0.001612\n",
              "Female; Gender non-conforming                              0.000791\n",
              "Male; Female                                               0.000395\n",
              "Transgender; Gender non-conforming                         0.000395\n",
              "Male; Female; Transgender; Gender non-conforming; Other    0.000395\n",
              "Male; Transgender                                          0.000274\n",
              "Female; Transgender; Gender non-conforming                 0.000182\n",
              "Male; Female; Transgender; Gender non-conforming           0.000182\n",
              "Male; Female; Transgender                                  0.000122\n",
              "Gender non-conforming; Other                               0.000122\n",
              "Male; Transgender; Gender non-conforming                   0.000122\n",
              "Male; Female; Other                                        0.000061\n",
              "Male; Gender non-conforming; Other                         0.000061\n",
              "Male; Female; Gender non-conforming                        0.000030\n",
              "Female; Other                                              0.000030\n",
              "Transgender; Other                                         0.000030\n",
              "Male; Female; Gender non-conforming; Other                 0.000030\n",
              "Female; Transgender; Other                                 0.000030\n",
              "Female; Transgender; Gender non-conforming; Other          0.000030\n",
              "Male; Transgender; Other                                   0.000030\n",
              "Male; Female; Transgender; Other                           0.000030\n",
              "Name: Gender, dtype: float64"
            ]
          },
          "metadata": {},
          "execution_count": 34
        }
      ]
    },
    {
      "cell_type": "code",
      "source": [
        "df_bootcamp_gender = (df_bootcamp['Gender'].value_counts()/sum(~df_bootcamp.Gender.isna())).reset_index()\n",
        "df_nobootcamp_gender = (df_nobootcamp['Gender'].value_counts()/sum(~df_nobootcamp.Gender.isna())).reset_index()\n",
        "\n",
        "df_study_gender = pd.merge(df_bootcamp_gender,df_nobootcamp_gender,on=\"index\",how=\"outer\").fillna(0)\n",
        "df_study_gender.columns=['gender','bootcamp','non-bootcamp']\n",
        "df_study_gender['Diff'] = df_study_gender['non-bootcamp'] -  df_study_gender['bootcamp']\n",
        "df_study_gender.style.bar(subset=['Diff'], align='zero', color=['#d65f5f', '#5fba7d'])"
      ],
      "metadata": {
        "colab": {
          "base_uri": "https://localhost:8080/",
          "height": 959
        },
        "id": "6B7HoCc7djnu",
        "outputId": "31a6c14f-7780-42c9-a9f8-e56c1fb6d8f3"
      },
      "execution_count": 35,
      "outputs": [
        {
          "output_type": "execute_result",
          "data": {
            "text/plain": [
              "<pandas.io.formats.style.Styler at 0x7f2ae05be850>"
            ],
            "text/html": [
              "<style type=\"text/css\">\n",
              "#T_085ef_row0_col3 {\n",
              "  width: 10em;\n",
              "  background: linear-gradient(90deg, transparent 50.0%, #5fba7d 50.0%, #5fba7d 99.9%, transparent 99.9%);\n",
              "}\n",
              "#T_085ef_row1_col3 {\n",
              "  width: 10em;\n",
              "  background: linear-gradient(90deg, #d65f5f 50.0%, transparent 50.0%);\n",
              "}\n",
              "#T_085ef_row2_col3 {\n",
              "  width: 10em;\n",
              "  background: linear-gradient(90deg, transparent 50.0%, #d65f5f 50.0%, #d65f5f 50.0%, transparent 50.0%);\n",
              "}\n",
              "#T_085ef_row3_col3 {\n",
              "  width: 10em;\n",
              "  background: linear-gradient(90deg, transparent 48.7%, #d65f5f 48.7%, #d65f5f 50.0%, transparent 50.0%);\n",
              "}\n",
              "#T_085ef_row4_col3 {\n",
              "  width: 10em;\n",
              "  background: linear-gradient(90deg, transparent 50.0%, #5fba7d 50.0%, #5fba7d 52.8%, transparent 52.8%);\n",
              "}\n",
              "#T_085ef_row5_col3 {\n",
              "  width: 10em;\n",
              "  background: linear-gradient(90deg, transparent 49.3%, #d65f5f 49.3%, #d65f5f 50.0%, transparent 50.0%);\n",
              "}\n",
              "#T_085ef_row6_col3 {\n",
              "  width: 10em;\n",
              "  background: linear-gradient(90deg, transparent 50.0%, #5fba7d 50.0%, #5fba7d 50.6%, transparent 50.6%);\n",
              "}\n",
              "#T_085ef_row7_col3, #T_085ef_row9_col3, #T_085ef_row11_col3, #T_085ef_row14_col3 {\n",
              "  width: 10em;\n",
              "  background: linear-gradient(90deg, transparent 49.4%, #d65f5f 49.4%, #d65f5f 50.0%, transparent 50.0%);\n",
              "}\n",
              "#T_085ef_row8_col3 {\n",
              "  width: 10em;\n",
              "  background: linear-gradient(90deg, transparent 50.0%, #5fba7d 50.0%, #5fba7d 50.8%, transparent 50.8%);\n",
              "}\n",
              "#T_085ef_row10_col3 {\n",
              "  width: 10em;\n",
              "  background: linear-gradient(90deg, transparent 49.1%, #d65f5f 49.1%, #d65f5f 50.0%, transparent 50.0%);\n",
              "}\n",
              "#T_085ef_row12_col3 {\n",
              "  width: 10em;\n",
              "  background: linear-gradient(90deg, transparent 49.2%, #d65f5f 49.2%, #d65f5f 50.0%, transparent 50.0%);\n",
              "}\n",
              "#T_085ef_row13_col3 {\n",
              "  width: 10em;\n",
              "  background: linear-gradient(90deg, transparent 49.5%, #d65f5f 49.5%, #d65f5f 50.0%, transparent 50.0%);\n",
              "}\n",
              "#T_085ef_row15_col3 {\n",
              "  width: 10em;\n",
              "  background: linear-gradient(90deg, transparent 49.7%, #d65f5f 49.7%, #d65f5f 50.0%, transparent 50.0%);\n",
              "}\n",
              "#T_085ef_row16_col3 {\n",
              "  width: 10em;\n",
              "  background: linear-gradient(90deg, transparent 50.0%, #5fba7d 50.0%, #5fba7d 52.1%, transparent 52.1%);\n",
              "}\n",
              "#T_085ef_row17_col3, #T_085ef_row18_col3, #T_085ef_row19_col3, #T_085ef_row20_col3 {\n",
              "  width: 10em;\n",
              "  background: linear-gradient(90deg, transparent 50.0%, #5fba7d 50.0%, #5fba7d 50.1%, transparent 50.1%);\n",
              "}\n",
              "#T_085ef_row21_col3, #T_085ef_row22_col3, #T_085ef_row23_col3, #T_085ef_row24_col3, #T_085ef_row25_col3, #T_085ef_row26_col3, #T_085ef_row27_col3, #T_085ef_row28_col3 {\n",
              "  width: 10em;\n",
              "  background: linear-gradient(90deg, transparent 50.0%, #5fba7d 50.0%, #5fba7d 50.0%, transparent 50.0%);\n",
              "}\n",
              "</style>\n",
              "<table id=\"T_085ef\" class=\"dataframe\">\n",
              "  <thead>\n",
              "    <tr>\n",
              "      <th class=\"blank level0\" >&nbsp;</th>\n",
              "      <th id=\"T_085ef_level0_col0\" class=\"col_heading level0 col0\" >gender</th>\n",
              "      <th id=\"T_085ef_level0_col1\" class=\"col_heading level0 col1\" >bootcamp</th>\n",
              "      <th id=\"T_085ef_level0_col2\" class=\"col_heading level0 col2\" >non-bootcamp</th>\n",
              "      <th id=\"T_085ef_level0_col3\" class=\"col_heading level0 col3\" >Diff</th>\n",
              "    </tr>\n",
              "  </thead>\n",
              "  <tbody>\n",
              "    <tr>\n",
              "      <th id=\"T_085ef_level0_row0\" class=\"row_heading level0 row0\" >0</th>\n",
              "      <td id=\"T_085ef_row0_col0\" class=\"data row0 col0\" >Male</td>\n",
              "      <td id=\"T_085ef_row0_col1\" class=\"data row0 col1\" >0.863071</td>\n",
              "      <td id=\"T_085ef_row0_col2\" class=\"data row0 col2\" >0.903857</td>\n",
              "      <td id=\"T_085ef_row0_col3\" class=\"data row0 col3\" >0.040786</td>\n",
              "    </tr>\n",
              "    <tr>\n",
              "      <th id=\"T_085ef_level0_row1\" class=\"row_heading level0 row1\" >1</th>\n",
              "      <td id=\"T_085ef_row1_col0\" class=\"data row1 col0\" >Female</td>\n",
              "      <td id=\"T_085ef_row1_col1\" class=\"data row1 col1\" >0.112494</td>\n",
              "      <td id=\"T_085ef_row1_col2\" class=\"data row1 col2\" >0.071659</td>\n",
              "      <td id=\"T_085ef_row1_col3\" class=\"data row1 col3\" >-0.040835</td>\n",
              "    </tr>\n",
              "    <tr>\n",
              "      <th id=\"T_085ef_level0_row2\" class=\"row_heading level0 row2\" >2</th>\n",
              "      <td id=\"T_085ef_row2_col0\" class=\"data row2 col0\" >Other</td>\n",
              "      <td id=\"T_085ef_row2_col1\" class=\"data row2 col1\" >0.006455</td>\n",
              "      <td id=\"T_085ef_row2_col2\" class=\"data row2 col2\" >0.006418</td>\n",
              "      <td id=\"T_085ef_row2_col3\" class=\"data row2 col3\" >-0.000037</td>\n",
              "    </tr>\n",
              "    <tr>\n",
              "      <th id=\"T_085ef_level0_row3\" class=\"row_heading level0 row3\" >3</th>\n",
              "      <td id=\"T_085ef_row3_col0\" class=\"data row3 col0\" >Gender non-conforming</td>\n",
              "      <td id=\"T_085ef_row3_col1\" class=\"data row3 col1\" >0.005533</td>\n",
              "      <td id=\"T_085ef_row3_col2\" class=\"data row3 col2\" >0.004501</td>\n",
              "      <td id=\"T_085ef_row3_col3\" class=\"data row3 col3\" >-0.001031</td>\n",
              "    </tr>\n",
              "    <tr>\n",
              "      <th id=\"T_085ef_level0_row4\" class=\"row_heading level0 row4\" >4</th>\n",
              "      <td id=\"T_085ef_row4_col0\" class=\"data row4 col0\" >Male; Other</td>\n",
              "      <td id=\"T_085ef_row4_col1\" class=\"data row4 col1\" >0.002766</td>\n",
              "      <td id=\"T_085ef_row4_col2\" class=\"data row4 col2\" >0.005019</td>\n",
              "      <td id=\"T_085ef_row4_col3\" class=\"data row4 col3\" >0.002252</td>\n",
              "    </tr>\n",
              "    <tr>\n",
              "      <th id=\"T_085ef_level0_row5\" class=\"row_heading level0 row5\" >5</th>\n",
              "      <td id=\"T_085ef_row5_col0\" class=\"data row5 col0\" >Female; Gender non-conforming</td>\n",
              "      <td id=\"T_085ef_row5_col1\" class=\"data row5 col1\" >0.001383</td>\n",
              "      <td id=\"T_085ef_row5_col2\" class=\"data row5 col2\" >0.000791</td>\n",
              "      <td id=\"T_085ef_row5_col3\" class=\"data row5 col3\" >-0.000592</td>\n",
              "    </tr>\n",
              "    <tr>\n",
              "      <th id=\"T_085ef_level0_row6\" class=\"row_heading level0 row6\" >6</th>\n",
              "      <td id=\"T_085ef_row6_col0\" class=\"data row6 col0\" >Male; Gender non-conforming</td>\n",
              "      <td id=\"T_085ef_row6_col1\" class=\"data row6 col1\" >0.001383</td>\n",
              "      <td id=\"T_085ef_row6_col2\" class=\"data row6 col2\" >0.001886</td>\n",
              "      <td id=\"T_085ef_row6_col3\" class=\"data row6 col3\" >0.000503</td>\n",
              "    </tr>\n",
              "    <tr>\n",
              "      <th id=\"T_085ef_level0_row7\" class=\"row_heading level0 row7\" >7</th>\n",
              "      <td id=\"T_085ef_row7_col0\" class=\"data row7 col0\" >Transgender; Gender non-conforming</td>\n",
              "      <td id=\"T_085ef_row7_col1\" class=\"data row7 col1\" >0.000922</td>\n",
              "      <td id=\"T_085ef_row7_col2\" class=\"data row7 col2\" >0.000395</td>\n",
              "      <td id=\"T_085ef_row7_col3\" class=\"data row7 col3\" >-0.000527</td>\n",
              "    </tr>\n",
              "    <tr>\n",
              "      <th id=\"T_085ef_level0_row8\" class=\"row_heading level0 row8\" >8</th>\n",
              "      <td id=\"T_085ef_row8_col0\" class=\"data row8 col0\" >Transgender</td>\n",
              "      <td id=\"T_085ef_row8_col1\" class=\"data row8 col1\" >0.000922</td>\n",
              "      <td id=\"T_085ef_row8_col2\" class=\"data row8 col2\" >0.001612</td>\n",
              "      <td id=\"T_085ef_row8_col3\" class=\"data row8 col3\" >0.000690</td>\n",
              "    </tr>\n",
              "    <tr>\n",
              "      <th id=\"T_085ef_level0_row9\" class=\"row_heading level0 row9\" >9</th>\n",
              "      <td id=\"T_085ef_row9_col0\" class=\"data row9 col0\" >Male; Female</td>\n",
              "      <td id=\"T_085ef_row9_col1\" class=\"data row9 col1\" >0.000922</td>\n",
              "      <td id=\"T_085ef_row9_col2\" class=\"data row9 col2\" >0.000395</td>\n",
              "      <td id=\"T_085ef_row9_col3\" class=\"data row9 col3\" >-0.000527</td>\n",
              "    </tr>\n",
              "    <tr>\n",
              "      <th id=\"T_085ef_level0_row10\" class=\"row_heading level0 row10\" >10</th>\n",
              "      <td id=\"T_085ef_row10_col0\" class=\"data row10 col0\" >Female; Transgender; Gender non-conforming</td>\n",
              "      <td id=\"T_085ef_row10_col1\" class=\"data row10 col1\" >0.000922</td>\n",
              "      <td id=\"T_085ef_row10_col2\" class=\"data row10 col2\" >0.000182</td>\n",
              "      <td id=\"T_085ef_row10_col3\" class=\"data row10 col3\" >-0.000740</td>\n",
              "    </tr>\n",
              "    <tr>\n",
              "      <th id=\"T_085ef_level0_row11\" class=\"row_heading level0 row11\" >11</th>\n",
              "      <td id=\"T_085ef_row11_col0\" class=\"data row11 col0\" >Male; Female; Transgender; Gender non-conforming; Other</td>\n",
              "      <td id=\"T_085ef_row11_col1\" class=\"data row11 col1\" >0.000922</td>\n",
              "      <td id=\"T_085ef_row11_col2\" class=\"data row11 col2\" >0.000395</td>\n",
              "      <td id=\"T_085ef_row11_col3\" class=\"data row11 col3\" >-0.000527</td>\n",
              "    </tr>\n",
              "    <tr>\n",
              "      <th id=\"T_085ef_level0_row12\" class=\"row_heading level0 row12\" >12</th>\n",
              "      <td id=\"T_085ef_row12_col0\" class=\"data row12 col0\" >Male; Transgender</td>\n",
              "      <td id=\"T_085ef_row12_col1\" class=\"data row12 col1\" >0.000922</td>\n",
              "      <td id=\"T_085ef_row12_col2\" class=\"data row12 col2\" >0.000274</td>\n",
              "      <td id=\"T_085ef_row12_col3\" class=\"data row12 col3\" >-0.000648</td>\n",
              "    </tr>\n",
              "    <tr>\n",
              "      <th id=\"T_085ef_level0_row13\" class=\"row_heading level0 row13\" >13</th>\n",
              "      <td id=\"T_085ef_row13_col0\" class=\"data row13 col0\" >Male; Gender non-conforming; Other</td>\n",
              "      <td id=\"T_085ef_row13_col1\" class=\"data row13 col1\" >0.000461</td>\n",
              "      <td id=\"T_085ef_row13_col2\" class=\"data row13 col2\" >0.000061</td>\n",
              "      <td id=\"T_085ef_row13_col3\" class=\"data row13 col3\" >-0.000400</td>\n",
              "    </tr>\n",
              "    <tr>\n",
              "      <th id=\"T_085ef_level0_row14\" class=\"row_heading level0 row14\" >14</th>\n",
              "      <td id=\"T_085ef_row14_col0\" class=\"data row14 col0\" >Female; Gender non-conforming; Other</td>\n",
              "      <td id=\"T_085ef_row14_col1\" class=\"data row14 col1\" >0.000461</td>\n",
              "      <td id=\"T_085ef_row14_col2\" class=\"data row14 col2\" >0.000000</td>\n",
              "      <td id=\"T_085ef_row14_col3\" class=\"data row14 col3\" >-0.000461</td>\n",
              "    </tr>\n",
              "    <tr>\n",
              "      <th id=\"T_085ef_level0_row15\" class=\"row_heading level0 row15\" >15</th>\n",
              "      <td id=\"T_085ef_row15_col0\" class=\"data row15 col0\" >Male; Female; Transgender; Gender non-conforming</td>\n",
              "      <td id=\"T_085ef_row15_col1\" class=\"data row15 col1\" >0.000461</td>\n",
              "      <td id=\"T_085ef_row15_col2\" class=\"data row15 col2\" >0.000182</td>\n",
              "      <td id=\"T_085ef_row15_col3\" class=\"data row15 col3\" >-0.000279</td>\n",
              "    </tr>\n",
              "    <tr>\n",
              "      <th id=\"T_085ef_level0_row16\" class=\"row_heading level0 row16\" >16</th>\n",
              "      <td id=\"T_085ef_row16_col0\" class=\"data row16 col0\" >Female; Transgender</td>\n",
              "      <td id=\"T_085ef_row16_col1\" class=\"data row16 col1\" >0.000000</td>\n",
              "      <td id=\"T_085ef_row16_col2\" class=\"data row16 col2\" >0.001703</td>\n",
              "      <td id=\"T_085ef_row16_col3\" class=\"data row16 col3\" >0.001703</td>\n",
              "    </tr>\n",
              "    <tr>\n",
              "      <th id=\"T_085ef_level0_row17\" class=\"row_heading level0 row17\" >17</th>\n",
              "      <td id=\"T_085ef_row17_col0\" class=\"data row17 col0\" >Male; Female; Transgender</td>\n",
              "      <td id=\"T_085ef_row17_col1\" class=\"data row17 col1\" >0.000000</td>\n",
              "      <td id=\"T_085ef_row17_col2\" class=\"data row17 col2\" >0.000122</td>\n",
              "      <td id=\"T_085ef_row17_col3\" class=\"data row17 col3\" >0.000122</td>\n",
              "    </tr>\n",
              "    <tr>\n",
              "      <th id=\"T_085ef_level0_row18\" class=\"row_heading level0 row18\" >18</th>\n",
              "      <td id=\"T_085ef_row18_col0\" class=\"data row18 col0\" >Gender non-conforming; Other</td>\n",
              "      <td id=\"T_085ef_row18_col1\" class=\"data row18 col1\" >0.000000</td>\n",
              "      <td id=\"T_085ef_row18_col2\" class=\"data row18 col2\" >0.000122</td>\n",
              "      <td id=\"T_085ef_row18_col3\" class=\"data row18 col3\" >0.000122</td>\n",
              "    </tr>\n",
              "    <tr>\n",
              "      <th id=\"T_085ef_level0_row19\" class=\"row_heading level0 row19\" >19</th>\n",
              "      <td id=\"T_085ef_row19_col0\" class=\"data row19 col0\" >Male; Transgender; Gender non-conforming</td>\n",
              "      <td id=\"T_085ef_row19_col1\" class=\"data row19 col1\" >0.000000</td>\n",
              "      <td id=\"T_085ef_row19_col2\" class=\"data row19 col2\" >0.000122</td>\n",
              "      <td id=\"T_085ef_row19_col3\" class=\"data row19 col3\" >0.000122</td>\n",
              "    </tr>\n",
              "    <tr>\n",
              "      <th id=\"T_085ef_level0_row20\" class=\"row_heading level0 row20\" >20</th>\n",
              "      <td id=\"T_085ef_row20_col0\" class=\"data row20 col0\" >Male; Female; Other</td>\n",
              "      <td id=\"T_085ef_row20_col1\" class=\"data row20 col1\" >0.000000</td>\n",
              "      <td id=\"T_085ef_row20_col2\" class=\"data row20 col2\" >0.000061</td>\n",
              "      <td id=\"T_085ef_row20_col3\" class=\"data row20 col3\" >0.000061</td>\n",
              "    </tr>\n",
              "    <tr>\n",
              "      <th id=\"T_085ef_level0_row21\" class=\"row_heading level0 row21\" >21</th>\n",
              "      <td id=\"T_085ef_row21_col0\" class=\"data row21 col0\" >Male; Female; Gender non-conforming</td>\n",
              "      <td id=\"T_085ef_row21_col1\" class=\"data row21 col1\" >0.000000</td>\n",
              "      <td id=\"T_085ef_row21_col2\" class=\"data row21 col2\" >0.000030</td>\n",
              "      <td id=\"T_085ef_row21_col3\" class=\"data row21 col3\" >0.000030</td>\n",
              "    </tr>\n",
              "    <tr>\n",
              "      <th id=\"T_085ef_level0_row22\" class=\"row_heading level0 row22\" >22</th>\n",
              "      <td id=\"T_085ef_row22_col0\" class=\"data row22 col0\" >Female; Other</td>\n",
              "      <td id=\"T_085ef_row22_col1\" class=\"data row22 col1\" >0.000000</td>\n",
              "      <td id=\"T_085ef_row22_col2\" class=\"data row22 col2\" >0.000030</td>\n",
              "      <td id=\"T_085ef_row22_col3\" class=\"data row22 col3\" >0.000030</td>\n",
              "    </tr>\n",
              "    <tr>\n",
              "      <th id=\"T_085ef_level0_row23\" class=\"row_heading level0 row23\" >23</th>\n",
              "      <td id=\"T_085ef_row23_col0\" class=\"data row23 col0\" >Transgender; Other</td>\n",
              "      <td id=\"T_085ef_row23_col1\" class=\"data row23 col1\" >0.000000</td>\n",
              "      <td id=\"T_085ef_row23_col2\" class=\"data row23 col2\" >0.000030</td>\n",
              "      <td id=\"T_085ef_row23_col3\" class=\"data row23 col3\" >0.000030</td>\n",
              "    </tr>\n",
              "    <tr>\n",
              "      <th id=\"T_085ef_level0_row24\" class=\"row_heading level0 row24\" >24</th>\n",
              "      <td id=\"T_085ef_row24_col0\" class=\"data row24 col0\" >Male; Female; Gender non-conforming; Other</td>\n",
              "      <td id=\"T_085ef_row24_col1\" class=\"data row24 col1\" >0.000000</td>\n",
              "      <td id=\"T_085ef_row24_col2\" class=\"data row24 col2\" >0.000030</td>\n",
              "      <td id=\"T_085ef_row24_col3\" class=\"data row24 col3\" >0.000030</td>\n",
              "    </tr>\n",
              "    <tr>\n",
              "      <th id=\"T_085ef_level0_row25\" class=\"row_heading level0 row25\" >25</th>\n",
              "      <td id=\"T_085ef_row25_col0\" class=\"data row25 col0\" >Female; Transgender; Other</td>\n",
              "      <td id=\"T_085ef_row25_col1\" class=\"data row25 col1\" >0.000000</td>\n",
              "      <td id=\"T_085ef_row25_col2\" class=\"data row25 col2\" >0.000030</td>\n",
              "      <td id=\"T_085ef_row25_col3\" class=\"data row25 col3\" >0.000030</td>\n",
              "    </tr>\n",
              "    <tr>\n",
              "      <th id=\"T_085ef_level0_row26\" class=\"row_heading level0 row26\" >26</th>\n",
              "      <td id=\"T_085ef_row26_col0\" class=\"data row26 col0\" >Female; Transgender; Gender non-conforming; Other</td>\n",
              "      <td id=\"T_085ef_row26_col1\" class=\"data row26 col1\" >0.000000</td>\n",
              "      <td id=\"T_085ef_row26_col2\" class=\"data row26 col2\" >0.000030</td>\n",
              "      <td id=\"T_085ef_row26_col3\" class=\"data row26 col3\" >0.000030</td>\n",
              "    </tr>\n",
              "    <tr>\n",
              "      <th id=\"T_085ef_level0_row27\" class=\"row_heading level0 row27\" >27</th>\n",
              "      <td id=\"T_085ef_row27_col0\" class=\"data row27 col0\" >Male; Transgender; Other</td>\n",
              "      <td id=\"T_085ef_row27_col1\" class=\"data row27 col1\" >0.000000</td>\n",
              "      <td id=\"T_085ef_row27_col2\" class=\"data row27 col2\" >0.000030</td>\n",
              "      <td id=\"T_085ef_row27_col3\" class=\"data row27 col3\" >0.000030</td>\n",
              "    </tr>\n",
              "    <tr>\n",
              "      <th id=\"T_085ef_level0_row28\" class=\"row_heading level0 row28\" >28</th>\n",
              "      <td id=\"T_085ef_row28_col0\" class=\"data row28 col0\" >Male; Female; Transgender; Other</td>\n",
              "      <td id=\"T_085ef_row28_col1\" class=\"data row28 col1\" >0.000000</td>\n",
              "      <td id=\"T_085ef_row28_col2\" class=\"data row28 col2\" >0.000030</td>\n",
              "      <td id=\"T_085ef_row28_col3\" class=\"data row28 col3\" >0.000030</td>\n",
              "    </tr>\n",
              "  </tbody>\n",
              "</table>\n"
            ]
          },
          "metadata": {},
          "execution_count": 35
        }
      ]
    },
    {
      "cell_type": "markdown",
      "source": [
        "## Difference in Salary"
      ],
      "metadata": {
        "id": "_lOKKcrSjnqK"
      }
    },
    {
      "cell_type": "code",
      "source": [
        "plt.subplot(211)\n",
        "df_bootcamp['Salary'].hist(bins=20)\n",
        "plt.title(\"Bootcamp Salary\")\n",
        "plt.subplot(212)\n",
        "df_nobootcamp['Salary'].hist(bins=20)\n",
        "plt.title(\"non Bootcamp Salary\")\n",
        "plt.tight_layout()"
      ],
      "metadata": {
        "colab": {
          "base_uri": "https://localhost:8080/",
          "height": 486
        },
        "id": "xe3JSbp9ZNhk",
        "outputId": "602c4c8a-750d-4273-ff0f-28b86a614cee"
      },
      "execution_count": 36,
      "outputs": [
        {
          "output_type": "display_data",
          "data": {
            "text/plain": [
              "<Figure size 640x480 with 2 Axes>"
            ],
            "image/png": "[encoded data removed]"
          },
          "metadata": {}
        }
      ]
    },
    {
      "cell_type": "code",
      "source": [
        "stats.ttest_ind(df_bootcamp['Salary'].dropna(),df_nobootcamp['Salary'].dropna(),alternative=\"greater\")"
      ],
      "metadata": {
        "colab": {
          "base_uri": "https://localhost:8080/"
        },
        "id": "1SVMwnhIby2J",
        "outputId": "c01960bd-e056-44d0-a3cd-a8000e5f6989"
      },
      "execution_count": 37,
      "outputs": [
        {
          "output_type": "execute_result",
          "data": {
            "text/plain": [
              "Ttest_indResult(statistic=3.918603358972457, pvalue=4.4761814068970024e-05)"
            ]
          },
          "metadata": {},
          "execution_count": 37
        }
      ]
    },
    {
      "cell_type": "markdown",
      "source": [
        "# EDA on Job Satisfication before modeling"
      ],
      "metadata": {
        "id": "3cjjDHsPjyVu"
      }
    },
    {
      "cell_type": "markdown",
      "source": [
        "## Employment Status v.s Average job satisfaction"
      ],
      "metadata": {
        "id": "olX_UlAcj_3F"
      }
    },
    {
      "cell_type": "markdown",
      "source": [
        "Independent contractor rules!"
      ],
      "metadata": {
        "id": "chGY54F5kPOG"
      }
    },
    {
      "cell_type": "code",
      "source": [
        "df.groupby('EmploymentStatus')['JobSatisfaction'].mean()"
      ],
      "metadata": {
        "colab": {
          "base_uri": "https://localhost:8080/"
        },
        "id": "I7SjoC9jjz5z",
        "outputId": "7e29a957-0db8-4933-8067-8f6184f7059e"
      },
      "execution_count": 38,
      "outputs": [
        {
          "output_type": "execute_result",
          "data": {
            "text/plain": [
              "EmploymentStatus\n",
              "Employed full-time                                      6.926805\n",
              "Employed part-time                                      6.821468\n",
              "I prefer not to say                                          NaN\n",
              "Independent contractor, freelancer, or self-employed    7.252823\n",
              "Not employed, and not looking for work                  7.000000\n",
              "Not employed, but looking for work                           NaN\n",
              "Retired                                                      NaN\n",
              "Name: JobSatisfaction, dtype: float64"
            ]
          },
          "metadata": {},
          "execution_count": 38
        }
      ]
    },
    {
      "cell_type": "markdown",
      "source": [
        "## Company size v.s Average job satisfaction\n",
        "It seems like smaller company makes happier employee!"
      ],
      "metadata": {
        "id": "yEqWotsRkFdi"
      }
    },
    {
      "cell_type": "code",
      "source": [
        "df.CompanySize.value_counts()\n",
        "df.groupby('CompanySize')['JobSatisfaction'].mean().sort_values()"
      ],
      "metadata": {
        "colab": {
          "base_uri": "https://localhost:8080/"
        },
        "id": "S7o-0noJj-h5",
        "outputId": "0cc0aca3-072e-4d92-8d84-abe1aecc437b"
      },
      "execution_count": 39,
      "outputs": [
        {
          "output_type": "execute_result",
          "data": {
            "text/plain": [
              "CompanySize\n",
              "5,000 to 9,999 employees    6.748153\n",
              "10,000 or more employees    6.810345\n",
              "I don't know                6.842679\n",
              "500 to 999 employees        6.883661\n",
              "1,000 to 4,999 employees    6.884509\n",
              "100 to 499 employees        6.937089\n",
              "20 to 99 employees          6.949092\n",
              "10 to 19 employees          7.000799\n",
              "Fewer than 10 employees     7.008749\n",
              "I prefer not to answer      7.280835\n",
              "Name: JobSatisfaction, dtype: float64"
            ]
          },
          "metadata": {},
          "execution_count": 39
        }
      ]
    },
    {
      "cell_type": "markdown",
      "source": [
        "## Remote or not v.s Average job satisfaction\n"
      ],
      "metadata": {
        "id": "8YJu4N8EleQn"
      }
    },
    {
      "cell_type": "code",
      "source": [
        "df.groupby(['HomeRemote']).mean()['JobSatisfaction'].sort_values().dropna()"
      ],
      "metadata": {
        "colab": {
          "base_uri": "https://localhost:8080/"
        },
        "id": "j4FWz1mjlFpy",
        "outputId": "685b857b-b452-45ae-dc33-55dce66d9f31"
      },
      "execution_count": 40,
      "outputs": [
        {
          "output_type": "execute_result",
          "data": {
            "text/plain": [
              "HomeRemote\n",
              "Never                                                      6.632502\n",
              "It's complicated                                           6.840830\n",
              "More than half, but not all, the time                      6.953184\n",
              "About half the time                                        6.973702\n",
              "A few days each month                                      7.077509\n",
              "Less than half the time, but at least one day each week    7.120125\n",
              "All or almost all the time (I'm full-time remote)          7.388430\n",
              "Name: JobSatisfaction, dtype: float64"
            ]
          },
          "metadata": {},
          "execution_count": 40
        }
      ]
    },
    {
      "cell_type": "code",
      "source": [],
      "metadata": {
        "id": "rxmaI2r8nXkw"
      },
      "execution_count": 40,
      "outputs": []
    },
    {
      "cell_type": "markdown",
      "source": [
        "# Q3: How well can we predict an individual's salary? What variables correlate well with salary?"
      ],
      "metadata": {
        "id": "4T0kGcO5qWAF"
      }
    },
    {
      "cell_type": "code",
      "source": [
        "from sklearn.linear_model import LinearRegression\n",
        "from sklearn.model_selection import train_test_split\n",
        "from sklearn.metrics import r2_score, mean_squared_error\n"
      ],
      "metadata": {
        "id": "8BEb7dzAnaJJ"
      },
      "execution_count": 41,
      "outputs": []
    },
    {
      "cell_type": "markdown",
      "source": [
        "Let's start with the numeric features, we see that there are a lot of missing values"
      ],
      "metadata": {
        "id": "op78SHN7BQi4"
      }
    },
    {
      "cell_type": "code",
      "source": [
        "print(df.describe())\n",
        "print(df.select_dtypes(include=[\"number\"]).isna().mean())"
      ],
      "metadata": {
        "colab": {
          "base_uri": "https://localhost:8080/"
        },
        "id": "XO3iNgCFrObE",
        "outputId": "9fc883ed-a450-4b31-b0da-60c99a813658"
      },
      "execution_count": 42,
      "outputs": [
        {
          "output_type": "stream",
          "name": "stdout",
          "text": [
            "         Respondent  CareerSatisfaction  JobSatisfaction  HoursPerWeek  \\\n",
            "count  51392.000000        42695.000000     40376.000000  20600.000000   \n",
            "mean   25696.500000            7.300574         6.957078      3.952282   \n",
            "std    14835.736854            1.955444         2.167652      7.564722   \n",
            "min        1.000000            0.000000         0.000000      0.000000   \n",
            "25%    12848.750000            6.000000         6.000000      1.000000   \n",
            "50%    25696.500000            8.000000         7.000000      1.000000   \n",
            "75%    38544.250000            9.000000         8.000000      4.000000   \n",
            "max    51392.000000           10.000000        10.000000     40.000000   \n",
            "\n",
            "       StackOverflowSatisfaction         Salary  ExpectedSalary  \n",
            "count               36592.000000   12891.000000     2566.000000  \n",
            "mean                    8.429875   56298.480641    33142.220468  \n",
            "std                     1.390635   39880.905277    30162.988829  \n",
            "min                     0.000000       0.000000        0.000000  \n",
            "25%                     8.000000   26440.371839     4490.492484  \n",
            "50%                     9.000000   50000.000000    29364.263691  \n",
            "75%                    10.000000   80000.000000    50403.225806  \n",
            "max                    10.000000  197000.000000   187500.000000  \n",
            "Respondent                   0.000000\n",
            "CareerSatisfaction           0.169229\n",
            "JobSatisfaction              0.214352\n",
            "HoursPerWeek                 0.599159\n",
            "StackOverflowSatisfaction    0.287983\n",
            "Salary                       0.749163\n",
            "ExpectedSalary               0.950070\n",
            "dtype: float64\n"
          ]
        }
      ]
    },
    {
      "cell_type": "markdown",
      "source": [
        "## Dealing with missing value\n",
        " 1. Remove the sample containing missing value\n",
        " 2. Imputation\n",
        " 3. Work around"
      ],
      "metadata": {
        "id": "ScCkQx7GCFVm"
      }
    },
    {
      "cell_type": "markdown",
      "source": [
        "### Option1: Remove all samples with NA"
      ],
      "metadata": {
        "id": "d3EJ_lCBQ7M1"
      }
    },
    {
      "cell_type": "code",
      "source": [
        "num_vars = df[['CareerSatisfaction', 'HoursPerWeek', 'JobSatisfaction', 'StackOverflowSatisfaction','Salary']]\n",
        "# drop samples containing NA\n",
        "all_rm = num_vars.dropna()\n",
        "X = all_rm[['CareerSatisfaction', 'HoursPerWeek', 'JobSatisfaction', 'StackOverflowSatisfaction']]\n",
        "y = all_rm['Salary']\n",
        "\n",
        "X_train,X_test,y_train,y_test = train_test_split(X,y,test_size=0.2,random_state=42)\n",
        "regressor = LinearRegression()\n",
        "regressor.fit(X_train,y_train)\n",
        "y_pred = regressor.predict(X_test)\n",
        "r2_score(y_test,y_pred)"
      ],
      "metadata": {
        "colab": {
          "base_uri": "https://localhost:8080/"
        },
        "id": "a4oxXS1UBZog",
        "outputId": "c5ecce6c-3b2f-4691-f804-fd86a6440f4a"
      },
      "execution_count": 43,
      "outputs": [
        {
          "output_type": "execute_result",
          "data": {
            "text/plain": [
              "0.02989441006452942"
            ]
          },
          "metadata": {},
          "execution_count": 43
        }
      ]
    },
    {
      "cell_type": "markdown",
      "source": [
        "### Option 2:Imputation\n",
        "\n",
        "Here I tried out different imputation method.\n",
        "\n",
        "https://scikit-learn.org/stable/modules/preprocessing.html\n",
        "\n",
        "https://scikit-learn.org/stable/modules/impute.html#impute"
      ],
      "metadata": {
        "id": "kTYusGzMQb1M"
      }
    },
    {
      "cell_type": "code",
      "source": [
        "from sklearn.impute import SimpleImputer\n",
        "from sklearn.experimental import enable_iterative_imputer\n",
        "from sklearn.impute import IterativeImputer\n",
        "from sklearn.model_selection import cross_val_score\n",
        "from sklearn.pipeline import make_pipeline\n",
        "from sklearn.kernel_approximation import Nystroem\n",
        "from sklearn.ensemble import RandomForestRegressor\n",
        "from sklearn.neighbors import KNeighborsRegressor\n",
        "from sklearn.linear_model import BayesianRidge, RidgeClassifier,Ridge\n",
        "from sklearn.preprocessing import Normalizer\n",
        "from sklearn.model_selection import KFold\n",
        "\n",
        "drop_sal = num_vars.dropna(subset=['Salary'])\n",
        "X = drop_sal[['CareerSatisfaction', 'HoursPerWeek', 'JobSatisfaction', 'StackOverflowSatisfaction','Salary']]\n",
        "y = drop_sal[['Salary']]\n",
        "\n",
        "kf = KFold(5,shuffle=True,random_state=42)\n",
        "\n",
        "## Simple Imputer\n",
        "score_simpleImputer = pd.DataFrame()\n",
        "simpleImputer_strategy = ['mean','median','most_frequent']\n",
        "for i in np.arange(len(simpleImputer_strategy)):\n",
        "  current_strategy = simpleImputer_strategy[i]\n",
        "  pipeline = make_pipeline(SimpleImputer(missing_values=np.nan, strategy=current_strategy),\n",
        "                Normalizer(),\n",
        "                LinearRegression())\n",
        "  score_simpleImputer[current_strategy] = cross_val_score(\n",
        "        pipeline, X, y, scoring=\"r2\", cv=kf\n",
        "    )\n",
        "\n",
        "## Iterative Imputer\n",
        "iterative_estimators = [\n",
        "    BayesianRidge(),\n",
        "    RandomForestRegressor(\n",
        "        # We tuned the hyperparameters of the RandomForestRegressor to get a good\n",
        "        # enough predictive performance for a restricted execution time.\n",
        "        n_estimators=4,\n",
        "        max_depth=10,\n",
        "        bootstrap=True,\n",
        "        max_samples=0.5,\n",
        "        n_jobs=2,\n",
        "        random_state=0,\n",
        "    ),   \n",
        "    KNeighborsRegressor(n_neighbors=15),\n",
        "]\n",
        "score_iterativeImputer = pd.DataFrame()\n",
        "tolerances = (1e-3, 1e-1,  1e-2)\n",
        "\n",
        "for impute_estimator, tol in zip(iterative_estimators, tolerances):\n",
        "    estimator = make_pipeline(\n",
        "        IterativeImputer(\n",
        "            random_state=0, estimator=impute_estimator, max_iter=25, tol=tol\n",
        "        ),\n",
        "        Normalizer(),\n",
        "        LinearRegression(),\n",
        "    )\n",
        "    score_iterativeImputer[impute_estimator.__class__.__name__] = cross_val_score(\n",
        "        estimator, X, y, scoring=\"r2\", cv=kf\n",
        "    )\n",
        "\n",
        "scores = pd.concat(\n",
        "    [score_simpleImputer, score_iterativeImputer],\n",
        "    keys=[\"SimpleImputer\", \"IterativeImputer\"],\n",
        "    axis=1,\n",
        ")\n"
      ],
      "metadata": {
        "id": "CzZi7ZwyQWfD"
      },
      "execution_count": 44,
      "outputs": []
    },
    {
      "cell_type": "code",
      "source": [
        "scores"
      ],
      "metadata": {
        "colab": {
          "base_uri": "https://localhost:8080/",
          "height": 238
        },
        "id": "BzRY_vKdeY8l",
        "outputId": "0f0738c7-3e71-4e25-aec1-61ce52c30c85"
      },
      "execution_count": 45,
      "outputs": [
        {
          "output_type": "execute_result",
          "data": {
            "text/plain": [
              "  SimpleImputer                         IterativeImputer  \\\n",
              "           mean    median most_frequent    BayesianRidge   \n",
              "0      0.030892  0.030535      0.030538         0.030731   \n",
              "1      0.030953  0.030979      0.030983         0.030475   \n",
              "2      0.033371  0.033648      0.033295         0.034046   \n",
              "3      0.024584  0.022195      0.022537         0.024368   \n",
              "4      0.026460  0.023539      0.023536         0.026511   \n",
              "\n",
              "                                             \n",
              "  RandomForestRegressor KNeighborsRegressor  \n",
              "0              0.030231            0.031402  \n",
              "1              0.031255            0.029722  \n",
              "2              0.033851            0.032325  \n",
              "3              0.021695            0.026434  \n",
              "4              0.030289            0.029684  "
            ],
            "text/html": [
              "\n",
              "  <div id=\"df-8cd3dbf7-bf49-4508-b294-d10f25f8a5ec\">\n",
              "    <div class=\"colab-df-container\">\n",
              "      <div>\n",
              "<style scoped>\n",
              "    .dataframe tbody tr th:only-of-type {\n",
              "        vertical-align: middle;\n",
              "    }\n",
              "\n",
              "    .dataframe tbody tr th {\n",
              "        vertical-align: top;\n",
              "    }\n",
              "\n",
              "    .dataframe thead tr th {\n",
              "        text-align: left;\n",
              "    }\n",
              "</style>\n",
              "<table border=\"1\" class=\"dataframe\">\n",
              "  <thead>\n",
              "    <tr>\n",
              "      <th></th>\n",
              "      <th colspan=\"3\" halign=\"left\">SimpleImputer</th>\n",
              "      <th colspan=\"3\" halign=\"left\">IterativeImputer</th>\n",
              "    </tr>\n",
              "    <tr>\n",
              "      <th></th>\n",
              "      <th>mean</th>\n",
              "      <th>median</th>\n",
              "      <th>most_frequent</th>\n",
              "      <th>BayesianRidge</th>\n",
              "      <th>RandomForestRegressor</th>\n",
              "      <th>KNeighborsRegressor</th>\n",
              "    </tr>\n",
              "  </thead>\n",
              "  <tbody>\n",
              "    <tr>\n",
              "      <th>0</th>\n",
              "      <td>0.030892</td>\n",
              "      <td>0.030535</td>\n",
              "      <td>0.030538</td>\n",
              "      <td>0.030731</td>\n",
              "      <td>0.030231</td>\n",
              "      <td>0.031402</td>\n",
              "    </tr>\n",
              "    <tr>\n",
              "      <th>1</th>\n",
              "      <td>0.030953</td>\n",
              "      <td>0.030979</td>\n",
              "      <td>0.030983</td>\n",
              "      <td>0.030475</td>\n",
              "      <td>0.031255</td>\n",
              "      <td>0.029722</td>\n",
              "    </tr>\n",
              "    <tr>\n",
              "      <th>2</th>\n",
              "      <td>0.033371</td>\n",
              "      <td>0.033648</td>\n",
              "      <td>0.033295</td>\n",
              "      <td>0.034046</td>\n",
              "      <td>0.033851</td>\n",
              "      <td>0.032325</td>\n",
              "    </tr>\n",
              "    <tr>\n",
              "      <th>3</th>\n",
              "      <td>0.024584</td>\n",
              "      <td>0.022195</td>\n",
              "      <td>0.022537</td>\n",
              "      <td>0.024368</td>\n",
              "      <td>0.021695</td>\n",
              "      <td>0.026434</td>\n",
              "    </tr>\n",
              "    <tr>\n",
              "      <th>4</th>\n",
              "      <td>0.026460</td>\n",
              "      <td>0.023539</td>\n",
              "      <td>0.023536</td>\n",
              "      <td>0.026511</td>\n",
              "      <td>0.030289</td>\n",
              "      <td>0.029684</td>\n",
              "    </tr>\n",
              "  </tbody>\n",
              "</table>\n",
              "</div>\n",
              "      <button class=\"colab-df-convert\" onclick=\"convertToInteractive('df-8cd3dbf7-bf49-4508-b294-d10f25f8a5ec')\"\n",
              "              title=\"Convert this dataframe to an interactive table.\"\n",
              "              style=\"display:none;\">\n",
              "        \n",
              "  <svg xmlns=\"http://www.w3.org/2000/svg\" height=\"24px\"viewBox=\"0 0 24 24\"\n",
              "       width=\"24px\">\n",
              "    <path d=\"M0 0h24v24H0V0z\" fill=\"none\"/>\n",
              "    <path d=\"M18.56 5.44l.94 2.06.94-2.06 2.06-.94-2.06-.94-.94-2.06-.94 2.06-2.06.94zm-11 1L8.5 8.5l.94-2.06 2.06-.94-2.06-.94L8.5 2.5l-.94 2.06-2.06.94zm10 10l.94 2.06.94-2.06 2.06-.94-2.06-.94-.94-2.06-.94 2.06-2.06.94z\"/><path d=\"M17.41 7.96l-1.37-1.37c-.4-.4-.92-.59-1.43-.59-.52 0-1.04.2-1.43.59L10.3 9.45l-7.72 7.72c-.78.78-.78 2.05 0 2.83L4 21.41c.39.39.9.59 1.41.59.51 0 1.02-.2 1.41-.59l7.78-7.78 2.81-2.81c.8-.78.8-2.07 0-2.86zM5.41 20L4 18.59l7.72-7.72 1.47 1.35L5.41 20z\"/>\n",
              "  </svg>\n",
              "      </button>\n",
              "      \n",
              "  <style>\n",
              "    .colab-df-container {\n",
              "      display:flex;\n",
              "      flex-wrap:wrap;\n",
              "      gap: 12px;\n",
              "    }\n",
              "\n",
              "    .colab-df-convert {\n",
              "      background-color: #E8F0FE;\n",
              "      border: none;\n",
              "      border-radius: 50%;\n",
              "      cursor: pointer;\n",
              "      display: none;\n",
              "      fill: #1967D2;\n",
              "      height: 32px;\n",
              "      padding: 0 0 0 0;\n",
              "      width: 32px;\n",
              "    }\n",
              "\n",
              "    .colab-df-convert:hover {\n",
              "      background-color: #E2EBFA;\n",
              "      box-shadow: 0px 1px 2px rgba(60, 64, 67, 0.3), 0px 1px 3px 1px rgba(60, 64, 67, 0.15);\n",
              "      fill: #174EA6;\n",
              "    }\n",
              "\n",
              "    [theme=dark] .colab-df-convert {\n",
              "      background-color: #3B4455;\n",
              "      fill: #D2E3FC;\n",
              "    }\n",
              "\n",
              "    [theme=dark] .colab-df-convert:hover {\n",
              "      background-color: #434B5C;\n",
              "      box-shadow: 0px 1px 3px 1px rgba(0, 0, 0, 0.15);\n",
              "      filter: drop-shadow(0px 1px 2px rgba(0, 0, 0, 0.3));\n",
              "      fill: #FFFFFF;\n",
              "    }\n",
              "  </style>\n",
              "\n",
              "      <script>\n",
              "        const buttonEl =\n",
              "          document.querySelector('#df-8cd3dbf7-bf49-4508-b294-d10f25f8a5ec button.colab-df-convert');\n",
              "        buttonEl.style.display =\n",
              "          google.colab.kernel.accessAllowed ? 'block' : 'none';\n",
              "\n",
              "        async function convertToInteractive(key) {\n",
              "          const element = document.querySelector('#df-8cd3dbf7-bf49-4508-b294-d10f25f8a5ec');\n",
              "          const dataTable =\n",
              "            await google.colab.kernel.invokeFunction('convertToInteractive',\n",
              "                                                     [key], {});\n",
              "          if (!dataTable) return;\n",
              "\n",
              "          const docLinkHtml = 'Like what you see? Visit the ' +\n",
              "            '<a target=\"_blank\" href=https://colab.research.google.com/notebooks/data_table.ipynb>data table notebook</a>'\n",
              "            + ' to learn more about interactive tables.';\n",
              "          element.innerHTML = '';\n",
              "          dataTable['output_type'] = 'display_data';\n",
              "          await google.colab.output.renderOutput(dataTable, element);\n",
              "          const docLink = document.createElement('div');\n",
              "          docLink.innerHTML = docLinkHtml;\n",
              "          element.appendChild(docLink);\n",
              "        }\n",
              "      </script>\n",
              "    </div>\n",
              "  </div>\n",
              "  "
            ]
          },
          "metadata": {},
          "execution_count": 45
        }
      ]
    },
    {
      "cell_type": "code",
      "source": [
        "# plot california housing results\n",
        "fig, ax = plt.subplots(figsize=(13, 6))\n",
        "means = scores.mean()\n",
        "errors = scores.std()\n",
        "means.plot.barh(xerr=errors, ax=ax)\n",
        "ax.set_title(\"r2_score with Different Imputation Methods\")\n",
        "ax.set_xlabel(\"r2 (bigger is better)\")\n",
        "ax.set_yticks(np.arange(means.shape[0]))\n",
        "ax.set_yticklabels([\" w/ \".join(label) for label in means.index.tolist()])\n",
        "plt.tight_layout(pad=1)\n",
        "plt.show()"
      ],
      "metadata": {
        "colab": {
          "base_uri": "https://localhost:8080/",
          "height": 609
        },
        "id": "CKd0vaq2dMzE",
        "outputId": "300f5977-8386-456f-f3b0-06133899fac8"
      },
      "execution_count": 46,
      "outputs": [
        {
          "output_type": "display_data",
          "data": {
            "text/plain": [
              "<Figure size 1300x600 with 1 Axes>"
            ],
            "image/png": "[encoded data removed]"
          },
          "metadata": {}
        }
      ]
    },
    {
      "cell_type": "markdown",
      "source": [
        "## Dealing with categorical value"
      ],
      "metadata": {
        "id": "GPqAsYk_gFYr"
      }
    },
    {
      "cell_type": "code",
      "source": [
        "from sklearn.metrics.pairwise import normalize\n",
        "df = pd.read_csv(\"/content/survey-results-public.csv\")\n",
        "df = df.dropna(subset=['Salary'])\n",
        "df = df.dropna(how='all',axis=1)\n",
        "\n",
        "categorical_featureName = df.select_dtypes(include='object').columns.values\n",
        "df_dummy = pd.get_dummies(df,prefix=categorical_featureName,dummy_na = False, drop_first=True)\n"
      ],
      "metadata": {
        "id": "C9gfMImcgIo5"
      },
      "execution_count": 47,
      "outputs": []
    },
    {
      "cell_type": "code",
      "source": [
        "from sklearn import preprocessing\n",
        "X = df_dummy.drop('Salary',axis=1)\n",
        "X = SimpleImputer().fit_transform(X)\n",
        "y = df_dummy['Salary']\n",
        "X_train,X_test,y_train,y_test = train_test_split(X,y,test_size=0.3,random_state=42)\n",
        "estimator = make_pipeline(preprocessing.Normalizer(), LinearRegression())\n",
        "estimator.fit(X_train,y_train)\n",
        "y_train_pred = estimator.predict(X_train)\n",
        "y_test_pred = estimator.predict(X_test)\n",
        "\n",
        "print(r2_score(y_train,y_train_pred))\n",
        "print(r2_score(y_test,y_test_pred))\n",
        "\n",
        "\n"
      ],
      "metadata": {
        "id": "oxSOeTQIDXLn"
      },
      "execution_count": null,
      "outputs": []
    },
    {
      "cell_type": "markdown",
      "source": [
        "Too many features! we got OVERFITTING here!"
      ],
      "metadata": {
        "id": "1zZvD4bsJ6AC"
      }
    },
    {
      "cell_type": "code",
      "source": [],
      "metadata": {
        "colab": {
          "base_uri": "https://localhost:8080/"
        },
        "id": "UGJ-MP7pJ_X7",
        "outputId": "7c834743-1353-4296-ba24-665a87a13881"
      },
      "execution_count": 51,
      "outputs": [
        {
          "output_type": "execute_result",
          "data": {
            "text/plain": [
              "array([1, 2])"
            ]
          },
          "metadata": {},
          "execution_count": 51
        }
      ]
    },
    {
      "cell_type": "code",
      "source": [],
      "metadata": {
        "id": "c2CQ9oEDmHMY"
      },
      "execution_count": null,
      "outputs": []
    }
  ]
}