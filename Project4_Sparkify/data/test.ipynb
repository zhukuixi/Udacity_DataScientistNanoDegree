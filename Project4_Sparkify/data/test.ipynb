| Algorithm    | Best Parameter | <td colspan=2> **Precision** | <td colspan=2> **Recall**| <td colspan=2> **F1-Score** | AUC-PR |
| --- | --- | --- | --- | --- | --- |
|     |  | <td colspan=1> Overall <td colspan=1> Churned | <td colspan=1> Overall <td colspan=1> Churned| <td colspan=1> Overall <td colspan=1> Churned |
|Random Forest|NumTrees=50, MaxDepth=20|<td colspan=1>0.97 <td colspan=1>1.00|<td colspan=1>0.97 <td colspan=1>0.88|<td colspan=1>0.97 <td colspan=1>0.94|0.97|
|SVM|RegParam=0.01,maxIter=100|<td colspan=1>0.86 <td colspan=1>0.70|<td colspan=1>0.85 <td colspan=1>0.78|<td colspan=1>0.85 <td colspan=1>0.74|0.73|
|Logistic Regression|RegParam=0.01, MaxIter=20|<td colspan=1>0.86 <td colspan=1>0.70|<td colspan=1>0.85 <td colspan=1>0.78|<td colspan=1>0.85 <td colspan=1>0.74|0.72|
    
    
