{
  "cells": [
    {
      "cell_type": "markdown",
      "metadata": {
        "id": "YYUu2yaqPh28"
      },
      "source": [
        "## Portfolio Exercise: Starbucks\n",
        "<br>\n",
        "\n",
        "<img src=\"https://opj.ca/wp-content/uploads/2018/02/New-Starbucks-Logo-1200x969.jpg\" width=\"200\" height=\"200\">\n",
        "<br>\n",
        "<br>\n",
        "\n",
        "#### Background Information\n",
        "\n",
        "The dataset you will be provided in this portfolio exercise was originally used as a take-home assignment provided by Starbucks for their job candidates. The data for this exercise consists of about 120,000 data points split in a 2:1 ratio among training and test files. In the experiment simulated by the data, an advertising promotion was tested to see if it would bring more customers to purchase a specific product priced at $10. Since it costs the company 0.15 to send out each promotion, it would be best to limit that promotion only to those that are most receptive to the promotion. Each data point includes one column indicating whether or not an individual was sent a promotion for the product, and one column indicating whether or not that individual eventually purchased that product. Each individual also has seven additional features associated with them, which are provided abstractly as V1-V7.\n",
        "\n",
        "#### Optimization Strategy\n",
        "\n",
        "Your task is to use the training data to understand what patterns in V1-V7 to indicate that a promotion should be provided to a user. Specifically, your goal is to maximize the following metrics:\n",
        "\n",
        "* **Incremental Response Rate (IRR)**\n",
        "\n",
        "IRR depicts how many more customers purchased the product with the promotion, as compared to if they didn't receive the promotion. Mathematically, it's the ratio of the number of purchasers in the promotion group to the total number of customers in the purchasers group (_treatment_) minus the ratio of the number of purchasers in the non-promotional group to the total number of customers in the non-promotional group (_control_).\n",
        "\n",
        "$$ IRR = \\frac{purch_{treat}}{cust_{treat}} - \\frac{purch_{ctrl}}{cust_{ctrl}} $$\n",
        "\n",
        "\n",
        "* **Net Incremental Revenue (NIR)**\n",
        "\n",
        "NIR depicts how much is made (or lost) by sending out the promotion. Mathematically, this is 10 times the total number of purchasers that received the promotion minus 0.15 times the number of promotions sent out, minus 10 times the number of purchasers who were not given the promotion.\n",
        "\n",
        "$$ NIR = (10\\cdot purch_{treat} - 0.15 \\cdot cust_{treat}) - 10 \\cdot purch_{ctrl}$$\n",
        "\n",
        "For a full description of what Starbucks provides to candidates see the [instructions available here](https://drive.google.com/open?id=18klca9Sef1Rs6q8DW4l7o349r8B70qXM).\n",
        "\n",
        "Below you can find the training data provided.  Explore the data and different optimization strategies.\n",
        "\n",
        "#### How To Test Your Strategy?\n",
        "\n",
        "When you feel like you have an optimization strategy, complete the `promotion_strategy` function to pass to the `test_results` function.  \n",
        "From past data, we know there are four possible outomes:\n",
        "\n",
        "Table of actual promotion vs. predicted promotion customers:  \n",
        "\n",
        "<table>\n",
        "<tr><th></th><th colspan = '2'>Actual</th></tr>\n",
        "<tr><th>Predicted</th><th>Yes</th><th>No</th></tr>\n",
        "<tr><th>Yes</th><td>I</td><td>II</td></tr>\n",
        "<tr><th>No</th><td>III</td><td>IV</td></tr>\n",
        "</table>\n",
        "\n",
        "The metrics are only being compared for the individuals we predict should obtain the promotion – that is, quadrants I and II.  Since the first set of individuals that receive the promotion (in the training set) receive it randomly, we can expect that quadrants I and II will have approximately equivalent participants.  \n",
        "\n",
        "Comparing quadrant I to II then gives an idea of how well your promotion strategy will work in the future.\n",
        "\n",
        "Get started by reading in the data below.  See how each variable or combination of variables along with a promotion influences the chance of purchasing.  When you feel like you have a strategy for who should receive a promotion, test your strategy against the test dataset used in the final `test_results` function."
      ]
    },
    {
      "cell_type": "code",
      "execution_count": 16,
      "metadata": {
        "colab": {
          "base_uri": "https://localhost:8080/",
          "height": 401
        },
        "id": "-ZjgWfdLPh2-",
        "outputId": "3df5f4a9-843a-4c0b-9e01-1a7762d3bcf4"
      },
      "outputs": [
        {
          "output_type": "error",
          "ename": "ModuleNotFoundError",
          "evalue": "ignored",
          "traceback": [
            "\u001b[0;31m---------------------------------------------------------------------------\u001b[0m",
            "\u001b[0;31mModuleNotFoundError\u001b[0m                       Traceback (most recent call last)",
            "\u001b[0;32m<ipython-input-16-8d56859a337d>\u001b[0m in \u001b[0;36m<cell line: 4>\u001b[0;34m()\u001b[0m\n\u001b[1;32m      2\u001b[0m \u001b[0;31m# load in packages\u001b[0m\u001b[0;34m\u001b[0m\u001b[0;34m\u001b[0m\u001b[0m\n\u001b[1;32m      3\u001b[0m \u001b[0;32mfrom\u001b[0m \u001b[0mitertools\u001b[0m \u001b[0;32mimport\u001b[0m \u001b[0mcombinations\u001b[0m\u001b[0;34m\u001b[0m\u001b[0;34m\u001b[0m\u001b[0m\n\u001b[0;32m----> 4\u001b[0;31m \u001b[0;32mfrom\u001b[0m \u001b[0mtest_results\u001b[0m \u001b[0;32mimport\u001b[0m \u001b[0mtest_results\u001b[0m\u001b[0;34m,\u001b[0m \u001b[0mscore\u001b[0m\u001b[0;34m\u001b[0m\u001b[0;34m\u001b[0m\u001b[0m\n\u001b[0m\u001b[1;32m      5\u001b[0m \u001b[0;32mimport\u001b[0m \u001b[0mnumpy\u001b[0m \u001b[0;32mas\u001b[0m \u001b[0mnp\u001b[0m\u001b[0;34m\u001b[0m\u001b[0;34m\u001b[0m\u001b[0m\n\u001b[1;32m      6\u001b[0m \u001b[0;32mimport\u001b[0m \u001b[0mpandas\u001b[0m \u001b[0;32mas\u001b[0m \u001b[0mpd\u001b[0m\u001b[0;34m\u001b[0m\u001b[0;34m\u001b[0m\u001b[0m\n",
            "\u001b[0;31mModuleNotFoundError\u001b[0m: No module named 'test_results'",
            "",
            "\u001b[0;31m---------------------------------------------------------------------------\u001b[0;32m\nNOTE: If your import is failing due to a missing package, you can\nmanually install dependencies using either !pip or !apt.\n\nTo view examples of installing some common dependencies, click the\n\"Open Examples\" button below.\n\u001b[0;31m---------------------------------------------------------------------------\u001b[0m\n"
          ],
          "errorDetails": {
            "actions": [
              {
                "action": "open_url",
                "actionText": "Open Examples",
                "url": "/notebooks/snippets/importing_libraries.ipynb"
              }
            ]
          }
        }
      ],
      "source": [
        "\n",
        "# load in packages\n",
        "from itertools import combinations\n",
        "from test_results import test_results, score\n",
        "import numpy as np\n",
        "import pandas as pd\n",
        "import scipy as sp\n",
        "import sklearn as sk\n",
        "\n",
        "import matplotlib.pyplot as plt\n",
        "import seaborn as sb\n",
        "%matplotlib inline\n",
        "\n",
        "# load in the data\n",
        "train_data = pd.read_csv('./training.csv')\n",
        "train_data.head()"
      ]
    },
    {
      "cell_type": "code",
      "source": [
        "!cd /content/Udacity_DataScientistNanoDegree/Starbucks_takehome/\n"
      ],
      "metadata": {
        "colab": {
          "base_uri": "https://localhost:8080/"
        },
        "id": "DDIN8uPJPsJa",
        "outputId": "08d341ed-ee5b-4b50-b6ae-75e0971c1598"
      },
      "execution_count": 10,
      "outputs": [
        {
          "output_type": "stream",
          "name": "stdout",
          "text": [
            "Starbucks.ipynb  Take_Home_Assignment.docx  Test.csv  test_results.py  training.csv\n"
          ]
        }
      ]
    },
    {
      "cell_type": "code",
      "source": [],
      "metadata": {
        "id": "EYcamFmSQM6y"
      },
      "execution_count": 4,
      "outputs": []
    },
    {
      "cell_type": "code",
      "execution_count": null,
      "metadata": {
        "id": "I33wrLRoPh2_"
      },
      "outputs": [],
      "source": [
        "!pip uninstall statsmodels\n",
        "!pip install statsmodels"
      ]
    },
    {
      "cell_type": "code",
      "execution_count": null,
      "metadata": {
        "id": "Wi8qp2gbPh3A"
      },
      "outputs": [],
      "source": [
        "# Cells for you to work and document as necessary -\n",
        "# definitely feel free to add more cells as you need\n",
        "from statsmodels.stats.proportion import proportions_ztest\n",
        "from statsmodels.stats.proportion import test_proportions_2indep\n"
      ]
    },
    {
      "cell_type": "code",
      "execution_count": null,
      "metadata": {
        "id": "Hrl-KIxMPh3A"
      },
      "outputs": [],
      "source": [
        "case_group = train_data.query('Promotion==\"Yes\"')\n",
        "control_group = train_data.query('Promotion==\"No\"')\n",
        "case_observe = sum(case_group['purchase']==1)\n",
        "case_size = case_group.shape[0]\n",
        "\n",
        "control_observe = sum(control_group['purchase']==1)\n",
        "control_size =  control_group.shape[0]\n",
        "test_proportions_2indep(case_observe,case_size,control_observe,control_size)"
      ]
    },
    {
      "cell_type": "code",
      "execution_count": null,
      "metadata": {
        "id": "kj9bP-rDPh3A",
        "outputId": "4800aecf-5e0a-46d5-b665-93abf0878e3d"
      },
      "outputs": [
        {
          "data": {
            "text/plain": [
              "0.017019167217448776"
            ]
          },
          "execution_count": 11,
          "metadata": {},
          "output_type": "execute_result"
        }
      ],
      "source": []
    },
    {
      "cell_type": "code",
      "execution_count": null,
      "metadata": {
        "id": "IQLLbTXbPh3A",
        "outputId": "7c94afc6-6135-4c1f-a29d-2f729a66ab03"
      },
      "outputs": [
        {
          "data": {
            "text/plain": [
              "0.007564619397676073"
            ]
          },
          "execution_count": 13,
          "metadata": {},
          "output_type": "execute_result"
        }
      ],
      "source": [
        "control_purchaseRatio"
      ]
    },
    {
      "cell_type": "code",
      "execution_count": null,
      "metadata": {
        "id": "a4GLF2KNPh3A"
      },
      "outputs": [],
      "source": []
    },
    {
      "cell_type": "code",
      "execution_count": null,
      "metadata": {
        "id": "q7uryzFDPh3A"
      },
      "outputs": [],
      "source": []
    },
    {
      "cell_type": "code",
      "execution_count": null,
      "metadata": {
        "id": "4K7OH6jlPh3A"
      },
      "outputs": [],
      "source": []
    },
    {
      "cell_type": "code",
      "execution_count": null,
      "metadata": {
        "id": "3RyhZrwbPh3B"
      },
      "outputs": [],
      "source": []
    },
    {
      "cell_type": "code",
      "execution_count": null,
      "metadata": {
        "id": "CfOjGDgFPh3B"
      },
      "outputs": [],
      "source": []
    },
    {
      "cell_type": "code",
      "execution_count": null,
      "metadata": {
        "id": "vlqQFKGPPh3B"
      },
      "outputs": [],
      "source": [
        "def promotion_strategy(df):\n",
        "    '''\n",
        "    INPUT\n",
        "    df - a dataframe with *only* the columns V1 - V7 (same as train_data)\n",
        "\n",
        "    OUTPUT\n",
        "    promotion_df - np.array with the values\n",
        "                   'Yes' or 'No' related to whether or not an\n",
        "                   individual should recieve a promotion\n",
        "                   should be the length of df.shape[0]\n",
        "\n",
        "    Ex:\n",
        "    INPUT: df\n",
        "\n",
        "    V1\tV2\t  V3\tV4\tV5\tV6\tV7\n",
        "    2\t30\t-1.1\t1\t1\t3\t2\n",
        "    3\t32\t-0.6\t2\t3\t2\t2\n",
        "    2\t30\t0.13\t1\t1\t4\t2\n",
        "\n",
        "    OUTPUT: promotion\n",
        "\n",
        "    array(['Yes', 'Yes', 'No'])\n",
        "    indicating the first two users would recieve the promotion and\n",
        "    the last should not.\n",
        "    '''\n",
        "\n",
        "\n",
        "\n",
        "\n",
        "    return promotion"
      ]
    },
    {
      "cell_type": "code",
      "execution_count": null,
      "metadata": {
        "id": "S-hI0gWZPh3B",
        "outputId": "1f01ce83-8caf-46ae-a772-736fac864cde"
      },
      "outputs": [
        {
          "ename": "NameError",
          "evalue": "name 'promotion' is not defined",
          "output_type": "error",
          "traceback": [
            "\u001b[0;31m---------------------------------------------------------------------------\u001b[0m",
            "\u001b[0;31mNameError\u001b[0m                                 Traceback (most recent call last)",
            "\u001b[0;32m<ipython-input-3-9a8cdce888a1>\u001b[0m in \u001b[0;36m<module>\u001b[0;34m()\u001b[0m\n\u001b[1;32m      2\u001b[0m \u001b[0;31m# on how well your promotion_strategy will work in practice\u001b[0m\u001b[0;34m\u001b[0m\u001b[0;34m\u001b[0m\u001b[0m\n\u001b[1;32m      3\u001b[0m \u001b[0;34m\u001b[0m\u001b[0m\n\u001b[0;32m----> 4\u001b[0;31m \u001b[0mtest_results\u001b[0m\u001b[0;34m(\u001b[0m\u001b[0mpromotion_strategy\u001b[0m\u001b[0;34m)\u001b[0m\u001b[0;34m\u001b[0m\u001b[0m\n\u001b[0m",
            "\u001b[0;32m/workspace/home/test_results.py\u001b[0m in \u001b[0;36mtest_results\u001b[0;34m(promotion_strategy)\u001b[0m\n\u001b[1;32m     15\u001b[0m     \u001b[0mtest_data\u001b[0m \u001b[0;34m=\u001b[0m \u001b[0mpd\u001b[0m\u001b[0;34m.\u001b[0m\u001b[0mread_csv\u001b[0m\u001b[0;34m(\u001b[0m\u001b[0;34m'Test.csv'\u001b[0m\u001b[0;34m)\u001b[0m\u001b[0;34m\u001b[0m\u001b[0m\n\u001b[1;32m     16\u001b[0m     \u001b[0mdf\u001b[0m \u001b[0;34m=\u001b[0m \u001b[0mtest_data\u001b[0m\u001b[0;34m[\u001b[0m\u001b[0;34m[\u001b[0m\u001b[0;34m'V1'\u001b[0m\u001b[0;34m,\u001b[0m \u001b[0;34m'V2'\u001b[0m\u001b[0;34m,\u001b[0m \u001b[0;34m'V3'\u001b[0m\u001b[0;34m,\u001b[0m \u001b[0;34m'V4'\u001b[0m\u001b[0;34m,\u001b[0m \u001b[0;34m'V5'\u001b[0m\u001b[0;34m,\u001b[0m \u001b[0;34m'V6'\u001b[0m\u001b[0;34m,\u001b[0m \u001b[0;34m'V7'\u001b[0m\u001b[0;34m]\u001b[0m\u001b[0;34m]\u001b[0m\u001b[0;34m\u001b[0m\u001b[0m\n\u001b[0;32m---> 17\u001b[0;31m     \u001b[0mpromos\u001b[0m \u001b[0;34m=\u001b[0m \u001b[0mpromotion_strategy\u001b[0m\u001b[0;34m(\u001b[0m\u001b[0mdf\u001b[0m\u001b[0;34m)\u001b[0m\u001b[0;34m\u001b[0m\u001b[0m\n\u001b[0m\u001b[1;32m     18\u001b[0m     \u001b[0mscore_df\u001b[0m \u001b[0;34m=\u001b[0m \u001b[0mtest_data\u001b[0m\u001b[0;34m.\u001b[0m\u001b[0miloc\u001b[0m\u001b[0;34m[\u001b[0m\u001b[0mnp\u001b[0m\u001b[0;34m.\u001b[0m\u001b[0mwhere\u001b[0m\u001b[0;34m(\u001b[0m\u001b[0mpromos\u001b[0m \u001b[0;34m==\u001b[0m \u001b[0;34m'Yes'\u001b[0m\u001b[0;34m)\u001b[0m\u001b[0;34m]\u001b[0m\u001b[0;34m\u001b[0m\u001b[0m\n\u001b[1;32m     19\u001b[0m     \u001b[0mirr\u001b[0m\u001b[0;34m,\u001b[0m \u001b[0mnir\u001b[0m \u001b[0;34m=\u001b[0m \u001b[0mscore\u001b[0m\u001b[0;34m(\u001b[0m\u001b[0mscore_df\u001b[0m\u001b[0;34m)\u001b[0m\u001b[0;34m\u001b[0m\u001b[0m\n",
            "\u001b[0;32m<ipython-input-2-46c08034f881>\u001b[0m in \u001b[0;36mpromotion_strategy\u001b[0;34m(df)\u001b[0m\n\u001b[1;32m     28\u001b[0m \u001b[0;34m\u001b[0m\u001b[0m\n\u001b[1;32m     29\u001b[0m \u001b[0;34m\u001b[0m\u001b[0m\n\u001b[0;32m---> 30\u001b[0;31m     \u001b[0;32mreturn\u001b[0m \u001b[0mpromotion\u001b[0m\u001b[0;34m\u001b[0m\u001b[0m\n\u001b[0m",
            "\u001b[0;31mNameError\u001b[0m: name 'promotion' is not defined"
          ]
        }
      ],
      "source": [
        "# This will test your results, and provide you back some information\n",
        "# on how well your promotion_strategy will work in practice\n",
        "\n",
        "test_results(promotion_strategy)"
      ]
    },
    {
      "cell_type": "code",
      "execution_count": null,
      "metadata": {
        "id": "2esqEPFmPh3B"
      },
      "outputs": [],
      "source": []
    }
  ],
  "metadata": {
    "kernelspec": {
      "display_name": "Python 3",
      "language": "python",
      "name": "python3"
    },
    "language_info": {
      "codemirror_mode": {
        "name": "ipython",
        "version": 3
      },
      "file_extension": ".py",
      "mimetype": "text/x-python",
      "name": "python",
      "nbconvert_exporter": "python",
      "pygments_lexer": "ipython3",
      "version": "3.6.3"
    },
    "colab": {
      "provenance": []
    }
  },
  "nbformat": 4,
  "nbformat_minor": 0
}